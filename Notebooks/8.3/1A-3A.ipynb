{
 "cells": [
  {
   "cell_type": "code",
   "execution_count": 1,
   "metadata": {},
   "outputs": [],
   "source": [
    "def getNDDCoeffs(X, Y):\n",
    "    \"\"\" Creates NDD pYramid and eXtracts coeffs \"\"\"\n",
    "    n = np.shape(Y)[0]\n",
    "    pYramid = np.zeros([n, n]) # Create a square matriX to hold pYramid\n",
    "    pYramid[::,0] = Y # first column is Y\n",
    "    for j in range(1,n):\n",
    "        for i in range(n-j):\n",
    "            # create pYramid bY updating other columns\n",
    "            pYramid[i][j] = (pYramid[i+1][j-1] - pYramid[i][j-1]) / (X[i+j] - X[i])\n",
    "    return pYramid[0] # return first row\n",
    "\n",
    "def xterms(start, stop, X):\n",
    "    return functools.reduce(lambda a, b: a * b, [(x - i) for i in X[start:stop]])"
   ]
  },
  {
   "cell_type": "code",
   "execution_count": 17,
   "metadata": {},
   "outputs": [],
   "source": [
    "X = np.array([-sy.sqrt(3)/2, 0, sy.sqrt(3)/2])\n",
    "Y = np.e ** X"
   ]
  },
  {
   "cell_type": "code",
   "execution_count": 20,
   "metadata": {},
   "outputs": [
    {
     "data": {
      "text/plain": [
       "array([0.42062003, 0.66901037, 0.5320418 ])"
      ]
     },
     "execution_count": 20,
     "metadata": {},
     "output_type": "execute_result"
    }
   ],
   "source": [
    "getNDDCoeffs(X, Y)"
   ]
  },
  {
   "cell_type": "code",
   "execution_count": 26,
   "metadata": {},
   "outputs": [
    {
     "data": {
      "text/latex": [
       "$\\displaystyle 0.66901036784147 x + 0.334505183920735 \\sqrt{3}$"
      ],
      "text/plain": [
       "0.66901036784147*x + 0.334505183920735*sqrt(3)"
      ]
     },
     "metadata": {},
     "output_type": "display_data"
    },
    {
     "data": {
      "text/latex": [
       "$\\displaystyle 0.532041800860186 x \\left(x + \\frac{\\sqrt{3}}{2}\\right)$"
      ],
      "text/plain": [
       "0.532041800860186*x*(x + sqrt(3)/2)"
      ]
     },
     "metadata": {},
     "output_type": "display_data"
    }
   ],
   "source": [
    "coefs = getNDDCoeffs(X, Y)\n",
    "eq = coefs[0]\n",
    "for i in range(len(X) - 1):\n",
    "    display(coefs[i+1] * (xterms(0, i+1, X)))\n",
    "    eq += coefs[i+1] * (xterms(0, i+1, X))\n",
    "tex(eq_round(eq.evalf()))"
   ]
  },
  {
   "cell_type": "code",
   "execution_count": 27,
   "metadata": {},
   "outputs": [],
   "source": [
    "exi = sy.symbols('\\\\xi')"
   ]
  },
  {
   "cell_type": "code",
   "execution_count": 39,
   "metadata": {},
   "outputs": [
    {
     "data": {
      "text/plain": [
       "0.11326174285246021"
      ]
     },
     "execution_count": 39,
     "metadata": {},
     "output_type": "execute_result"
    }
   ],
   "source": [
    "(np.e ** 1) / math.factorial(3) * (1/(2 ** 2))"
   ]
  },
  {
   "cell_type": "code",
   "execution_count": null,
   "metadata": {},
   "outputs": [],
   "source": []
  }
 ],
 "metadata": {
  "kernelspec": {
   "display_name": "Python 3",
   "language": "python",
   "name": "python3"
  },
  "language_info": {
   "codemirror_mode": {
    "name": "ipython",
    "version": 3
   },
   "file_extension": ".py",
   "mimetype": "text/x-python",
   "name": "python",
   "nbconvert_exporter": "python",
   "pygments_lexer": "ipython3",
   "version": "3.7.3"
  },
  "latex_envs": {
   "LaTeX_envs_menu_present": true,
   "autoclose": true,
   "autocomplete": true,
   "bibliofile": "biblio.bib",
   "cite_by": "apalike",
   "current_citInitial": 1,
   "eqLabelWithNumbers": true,
   "eqNumInitial": 1,
   "hotkeys": {
    "equation": "Ctrl-E",
    "itemize": "Ctrl-I"
   },
   "labels_anchors": false,
   "latex_user_defs": false,
   "report_style_numbering": false,
   "user_envs_cfg": false
  }
 },
 "nbformat": 4,
 "nbformat_minor": 2
}
