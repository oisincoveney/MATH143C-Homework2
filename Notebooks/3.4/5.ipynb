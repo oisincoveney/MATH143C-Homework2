{
 "cells": [
  {
   "cell_type": "code",
   "execution_count": 26,
   "metadata": {},
   "outputs": [],
   "source": [
    "exi = sy.symbols('\\\\xi')"
   ]
  },
  {
   "cell_type": "code",
   "execution_count": 92,
   "metadata": {},
   "outputs": [],
   "source": [
    "xx = [0.3, 0.32, 0.35]\n",
    "yy = [0.29552, 0.31457, 0.3429]\n",
    "X = [j for i in xx for j in [i, i]]\n",
    "Y =  [j for i in yy for j in [i, i]]\n",
    "DFX = dict(zip(xx, [0.95534, 0.94924, 0.93937]))"
   ]
  },
  {
   "cell_type": "code",
   "execution_count": 93,
   "metadata": {},
   "outputs": [],
   "source": [
    "def xterms(start, stop, X):\n",
    "    if stop - start == 0:\n",
    "        return sy.sympify(1)\n",
    "    return functools.reduce(lambda a, b: a * b, [(x - i) for i in X[start:stop]])"
   ]
  },
  {
   "cell_type": "code",
   "execution_count": 94,
   "metadata": {},
   "outputs": [],
   "source": [
    "def hermite(X, Y, DFX):\n",
    "    xy_data = dict(zip(Y, X))\n",
    "    data = [Y]\n",
    "    step = 1\n",
    "    while len(data[-1]) > 1:\n",
    "        nextvals = []\n",
    "        for i in range(len(data[-1]) - 1):\n",
    "            a, b = data[-1][i], data[-1][i+1]\n",
    "            if a == b:\n",
    "                print(a)\n",
    "                nextvals.append(DFX[xy_data[a]])\n",
    "            else:\n",
    "                print(step,'\\t', i,'\\t', i+step,'\\t', X[i+step],'\\t', X[i])\n",
    "                nextvals.append((b - a) / (X[i+step] - X[i]))\n",
    "        data.append(nextvals)\n",
    "        step += 1\n",
    "    return data, [i[0] for i in data]"
   ]
  },
  {
   "cell_type": "code",
   "execution_count": 95,
   "metadata": {},
   "outputs": [
    {
     "name": "stdout",
     "output_type": "stream",
     "text": [
      "0.29552\n",
      "1 \t 1 \t 2 \t 0.32 \t 0.3\n",
      "0.31457\n",
      "1 \t 3 \t 4 \t 0.35 \t 0.32\n",
      "0.3429\n",
      "2 \t 0 \t 2 \t 0.32 \t 0.3\n",
      "2 \t 1 \t 3 \t 0.32 \t 0.3\n",
      "2 \t 2 \t 4 \t 0.35 \t 0.32\n",
      "2 \t 3 \t 5 \t 0.35 \t 0.32\n",
      "3 \t 0 \t 3 \t 0.32 \t 0.3\n",
      "3 \t 1 \t 4 \t 0.35 \t 0.3\n",
      "3 \t 2 \t 5 \t 0.35 \t 0.32\n",
      "4 \t 0 \t 4 \t 0.35 \t 0.3\n",
      "4 \t 1 \t 5 \t 0.35 \t 0.3\n",
      "5 \t 0 \t 5 \t 0.35 \t 0.3\n"
     ]
    }
   ],
   "source": [
    "data = hermite(X, Y, DFX)"
   ]
  },
  {
   "cell_type": "code",
   "execution_count": 96,
   "metadata": {},
   "outputs": [
    {
     "name": "stdout",
     "output_type": "stream",
     "text": [
      "0.295521+0.95534x - 0.3+-0.1420000000000142\\left(x - 0.3\\right)^{2}+-1.0499999999985512\\left(x - 0.32\\right) \\left(x - 0.3\\right)^{2}+20.777777777740564\\left(x - 0.32\\right)^{2} \\left(x - 0.3\\right)^{2}+-436.29629629520673\\left(x - 0.35\\right) \\left(x - 0.32\\right)^{2} \\left(x - 0.3\\right)^{2}+\n"
     ]
    },
    {
     "data": {
      "text/latex": [
       "$\\displaystyle 0.333488890074074$"
      ],
      "text/plain": [
       "0.333488890074074"
      ]
     },
     "execution_count": 96,
     "metadata": {},
     "output_type": "execute_result"
    }
   ],
   "source": [
    "coefs = data[1]\n",
    "eqs = \"\"\n",
    "eq = 0\n",
    "for i, k in enumerate(coefs):\n",
    "    eq += k * xterms(0, i, X)\n",
    "    eqs += str(k) + str(sy.latex(xterms(0, i, X))) + '+'\n",
    "print(eqs)\n",
    "eq.subs(x, 0.34)"
   ]
  },
  {
   "cell_type": "code",
   "execution_count": 97,
   "metadata": {},
   "outputs": [],
   "source": [
    "fx = sy.sin(x)"
   ]
  },
  {
   "cell_type": "code",
   "execution_count": 90,
   "metadata": {},
   "outputs": [
    {
     "name": "stdout",
     "output_type": "stream",
     "text": [
      "8\n"
     ]
    },
    {
     "data": {
      "text/latex": [
       "$\\displaystyle \\frac{\\sin{\\left(\\xi \\right)}}{5040}$"
      ],
      "text/plain": [
       "sin(\\xi)/5040"
      ]
     },
     "metadata": {},
     "output_type": "display_data"
    },
    {
     "data": {
      "text/latex": [
       "$\\displaystyle \\left(x - 0.35\\right)^{2} \\left(x - 0.33\\right)^{2} \\left(x - 0.32\\right)^{2} \\left(x - 0.3\\right)^{2}$"
      ],
      "text/plain": [
       "(x - 0.35)**2*(x - 0.33)**2*(x - 0.32)**2*(x - 0.3)**2"
      ]
     },
     "metadata": {},
     "output_type": "display_data"
    }
   ],
   "source": [
    "num = get_diffs(fx, 8)[8][1].subs(x, exi)\n",
    "denom = math.factorial(7)\n",
    "terms = xterms(0, len(X), X)\n",
    "print(len(X))\n",
    "display(num / denom, terms)"
   ]
  },
  {
   "cell_type": "code",
   "execution_count": 91,
   "metadata": {},
   "outputs": [
    {
     "data": {
      "text/plain": [
       "3.7526375449058846e-19"
      ]
     },
     "execution_count": 91,
     "metadata": {},
     "output_type": "execute_result"
    }
   ],
   "source": [
    "float(terms.subs(x, 0.34) * num.subs(exi, 0.3) / denom)"
   ]
  },
  {
   "cell_type": "code",
   "execution_count": null,
   "metadata": {},
   "outputs": [],
   "source": []
  }
 ],
 "metadata": {
  "kernelspec": {
   "display_name": "Python 3",
   "language": "python",
   "name": "python3"
  },
  "language_info": {
   "codemirror_mode": {
    "name": "ipython",
    "version": 3
   },
   "file_extension": ".py",
   "mimetype": "text/x-python",
   "name": "python",
   "nbconvert_exporter": "python",
   "pygments_lexer": "ipython3",
   "version": "3.7.3"
  },
  "latex_envs": {
   "LaTeX_envs_menu_present": true,
   "autoclose": true,
   "autocomplete": true,
   "bibliofile": "biblio.bib",
   "cite_by": "apalike",
   "current_citInitial": 1,
   "eqLabelWithNumbers": true,
   "eqNumInitial": 1,
   "hotkeys": {
    "equation": "Ctrl-E",
    "itemize": "Ctrl-I"
   },
   "labels_anchors": false,
   "latex_user_defs": false,
   "report_style_numbering": false,
   "user_envs_cfg": false
  }
 },
 "nbformat": 4,
 "nbformat_minor": 2
}
