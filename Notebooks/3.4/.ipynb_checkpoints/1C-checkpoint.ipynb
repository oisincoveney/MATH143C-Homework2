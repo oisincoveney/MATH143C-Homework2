{
 "cells": [
  {
   "cell_type": "code",
   "execution_count": 3,
   "metadata": {},
   "outputs": [],
   "source": [
    "values = [\n",
    "    [-0.5, -0.0247500, 0.7510000],\n",
    "    [-0.25, 0.3349375, 2.1890000],\n",
    "    [0, 1.1010000, 4.0020000]\n",
    "]"
   ]
  },
  {
   "cell_type": "code",
   "execution_count": 7,
   "metadata": {},
   "outputs": [],
   "source": [
    "FX = dict(zip([i[0] for i in values], [i[1] for i in values]))\n",
    "DFX = dict(zip([i[0] for i in values], [i[2] for i in values]))\n",
    "X = sorted([i[0] for i in values] * 2)"
   ]
  },
  {
   "cell_type": "code",
   "execution_count": 5,
   "metadata": {},
   "outputs": [
    {
     "data": {
      "text/plain": [
       "[-0.5, -0.25, 0]"
      ]
     },
     "execution_count": 5,
     "metadata": {},
     "output_type": "execute_result"
    }
   ],
   "source": [
    "def hermite(X, FX, DF):\n",
    "    data = [X]\n",
    "    while(len(data[-1]) > 1)\n",
    "        nextvals = []\n",
    "        for i in range(len(data[-1]) - 1):\n",
    "            a, b = data[-1][i], data[-1][i+1]\n",
    "            if a == b:\n",
    "                nextvals.append(DFX[a])\n",
    "            else:\n",
    "                nextvals.append((FX[b] - FX[a]) / (b - a))\n",
    "        data.append(nextvals)"
   ]
  }
 ],
 "metadata": {
  "kernelspec": {
   "display_name": "Python 3",
   "language": "python",
   "name": "python3"
  },
  "language_info": {
   "codemirror_mode": {
    "name": "ipython",
    "version": 3
   },
   "file_extension": ".py",
   "mimetype": "text/x-python",
   "name": "python",
   "nbconvert_exporter": "python",
   "pygments_lexer": "ipython3",
   "version": "3.7.3"
  },
  "latex_envs": {
   "LaTeX_envs_menu_present": true,
   "autoclose": true,
   "autocomplete": true,
   "bibliofile": "biblio.bib",
   "cite_by": "apalike",
   "current_citInitial": 1,
   "eqLabelWithNumbers": true,
   "eqNumInitial": 1,
   "hotkeys": {
    "equation": "Ctrl-E",
    "itemize": "Ctrl-I"
   },
   "labels_anchors": false,
   "latex_user_defs": false,
   "report_style_numbering": false,
   "user_envs_cfg": false
  }
 },
 "nbformat": 4,
 "nbformat_minor": 2
}
