{
 "cells": [
  {
   "cell_type": "code",
   "execution_count": 3,
   "metadata": {},
   "outputs": [],
   "source": [
    "values = [\n",
    "    [-0.5, -0.0247500, 0.7510000],\n",
    "    [-0.25, 0.3349375, 2.1890000],\n",
    "    [0, 1.1010000, 4.0020000]\n",
    "]"
   ]
  },
  {
   "cell_type": "code",
   "execution_count": 57,
   "metadata": {},
   "outputs": [],
   "source": [
    "X = sorted([i[0] for i in values] * 2)\n",
    "FX = dict(zip([i[0] for i in values], [i[1] for i in values]))\n",
    "Y = [i[1] for i in values for j in [i, i]]\n",
    "DFX = dict(zip([i[0] for i in values], [i[2] for i in values]))"
   ]
  },
  {
   "cell_type": "code",
   "execution_count": 86,
   "metadata": {},
   "outputs": [],
   "source": [
    "def hermite(X, Y, FX, DFX):\n",
    "    xy_data = dict(zip(Y, X))\n",
    "    data = [Y]\n",
    "    step = 1\n",
    "    while len(data[-1]) > 1:\n",
    "        nextvals = []\n",
    "        for i in range(len(data[-1]) - 1):\n",
    "            a, b = data[-1][i], data[-1][i+1]\n",
    "            if a == b:\n",
    "                nextvals.append(DFX[xy_data[a]])\n",
    "            else:\n",
    "                print(step,'\\t', i,'\\t', i+step,'\\t', X[i+step],'\\t', X[i])\n",
    "                nextvals.append((b - a) / (X[i+step] - X[i]))\n",
    "        data.append(nextvals)\n",
    "        step += 1\n",
    "    return data, [i[0] for i in data]"
   ]
  },
  {
   "cell_type": "code",
   "execution_count": 87,
   "metadata": {
    "scrolled": false
   },
   "outputs": [
    {
     "name": "stdout",
     "output_type": "stream",
     "text": [
      "1 \t 1 \t 2 \t -0.25 \t -0.5\n",
      "1 \t 3 \t 4 \t 0 \t -0.25\n",
      "2 \t 0 \t 2 \t -0.25 \t -0.5\n",
      "2 \t 1 \t 3 \t -0.25 \t -0.5\n",
      "2 \t 2 \t 4 \t 0 \t -0.25\n",
      "2 \t 3 \t 5 \t 0 \t -0.25\n",
      "3 \t 0 \t 3 \t -0.25 \t -0.5\n",
      "3 \t 1 \t 4 \t 0 \t -0.5\n",
      "3 \t 2 \t 5 \t 0 \t -0.25\n",
      "4 \t 0 \t 4 \t 0 \t -0.5\n",
      "4 \t 1 \t 5 \t 0 \t -0.5\n",
      "5 \t 0 \t 5 \t 0 \t -0.5\n"
     ]
    },
    {
     "data": {
      "text/plain": [
       "[[-0.02475, -0.02475, 0.3349375, 0.3349375, 1.101, 1.101],\n",
       " [0.751, 1.43875, 2.189, 3.06425, 4.002],\n",
       " [2.751, 3.0010000000000003, 3.5009999999999994, 3.7509999999999994],\n",
       " [1.0000000000000018, 0.9999999999999982, 1.0],\n",
       " [-7.105427357601002e-15, 3.552713678800501e-15],\n",
       " [2.1316282072803006e-14]]"
      ]
     },
     "metadata": {},
     "output_type": "display_data"
    }
   ],
   "source": [
    "data, coefs = hermite(X, Y, FX, DFX)\n",
    "display(data)"
   ]
  },
  {
   "cell_type": "code",
   "execution_count": 93,
   "metadata": {},
   "outputs": [],
   "source": [
    "def xterms(start, stop, X):\n",
    "    if stop - start == 0:\n",
    "        return sy.sympify(1)\n",
    "    return functools.reduce(lambda a, b: a * b, [(x - i) for i in X[start:stop]])"
   ]
  },
  {
   "cell_type": "code",
   "execution_count": 96,
   "metadata": {},
   "outputs": [
    {
     "data": {
      "text/plain": [
       "'0'"
      ]
     },
     "execution_count": 96,
     "metadata": {},
     "output_type": "execute_result"
    }
   ],
   "source": []
  },
  {
   "cell_type": "code",
   "execution_count": 94,
   "metadata": {},
   "outputs": [
    {
     "data": {
      "text/plain": [
       "[-0.02475,\n",
       " 0.751,\n",
       " 2.751,\n",
       " 1.0000000000000018,\n",
       " -7.105427357601002e-15,\n",
       " 2.1316282072803006e-14]"
      ]
     },
     "execution_count": 94,
     "metadata": {},
     "output_type": "execute_result"
    }
   ],
   "source": [
    "coefs"
   ]
  },
  {
   "cell_type": "code",
   "execution_count": 98,
   "metadata": {},
   "outputs": [
    {
     "name": "stdout",
     "output_type": "stream",
     "text": [
      "-0.024751+0.751x + 0.5+2.751\\left(x + 0.5\\right)^{2}+1.0000000000000018\\left(x + 0.25\\right) \\left(x + 0.5\\right)^{2}+-7.105427357601002e-15\\left(x + 0.25\\right)^{2} \\left(x + 0.5\\right)^{2}+2.1316282072803006e-14x \\left(x + 0.25\\right)^{2} \\left(x + 0.5\\right)^{2}+\n"
     ]
    }
   ],
   "source": [
    "eq = \"\"\n",
    "for i, k in enumerate(coefs):\n",
    "    eq += str(k) + str(sy.latex(xterms(0, i, X))) + '+'\n",
    "print(eq)"
   ]
  },
  {
   "cell_type": "code",
   "execution_count": 65,
   "metadata": {},
   "outputs": [
    {
     "name": "stdout",
     "output_type": "stream",
     "text": [
      "[-0.5, -0.5, -0.25, -0.25, 0, 0]\n"
     ]
    }
   ],
   "source": [
    "print(X)"
   ]
  },
  {
   "cell_type": "code",
   "execution_count": 89,
   "metadata": {},
   "outputs": [
    {
     "name": "stdout",
     "output_type": "stream",
     "text": [
      "0.751\n",
      "1.43875\n",
      "2.189\n",
      "3.06425\n"
     ]
    }
   ],
   "source": [
    "xxx = [-0.5, -0.5, -0.25, -0.25, 0, 0]\n",
    "yyy = [0.751, 1.43875, 2.189, 3.06425, 4.002]\n",
    "for i in range(len(yyy) - 1):\n",
    "    a,b = Y[i], Y[i+1]\n",
    "    if a == b:\n",
    "        print(DFX[X[i]])\n",
    "    else:\n",
    "        print((b - a) / (X[i+1] - X[i]))"
   ]
  }
 ],
 "metadata": {
  "kernelspec": {
   "display_name": "Python 3",
   "language": "python",
   "name": "python3"
  },
  "language_info": {
   "codemirror_mode": {
    "name": "ipython",
    "version": 3
   },
   "file_extension": ".py",
   "mimetype": "text/x-python",
   "name": "python",
   "nbconvert_exporter": "python",
   "pygments_lexer": "ipython3",
   "version": "3.7.3"
  },
  "latex_envs": {
   "LaTeX_envs_menu_present": true,
   "autoclose": true,
   "autocomplete": true,
   "bibliofile": "biblio.bib",
   "cite_by": "apalike",
   "current_citInitial": 1,
   "eqLabelWithNumbers": true,
   "eqNumInitial": 1,
   "hotkeys": {
    "equation": "Ctrl-E",
    "itemize": "Ctrl-I"
   },
   "labels_anchors": false,
   "latex_user_defs": false,
   "report_style_numbering": false,
   "user_envs_cfg": false
  }
 },
 "nbformat": 4,
 "nbformat_minor": 2
}
