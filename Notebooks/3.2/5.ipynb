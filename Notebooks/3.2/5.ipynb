{
 "cells": [
  {
   "cell_type": "code",
   "execution_count": 3,
   "metadata": {},
   "outputs": [],
   "source": [
    "x0, x1, x2, x3 = 0, .25, .5, .75\n",
    "P0, P1, P3 = 1, 2, 8\n",
    "P01 = 2.6\n",
    "P23 = 2.4\n",
    "P123 = 2.96\n",
    "P0123 = 3.016\n",
    "P2, P12, P012 = sy.symbols('P2, P12, P012')"
   ]
  },
  {
   "cell_type": "code",
   "execution_count": 26,
   "metadata": {},
   "outputs": [],
   "source": [
    "eq_P012 = sy.Eq(P012, (((x - x0) * P12 - (x - x2) * P01) / (x2 - x0)).subs(x,0.4))\n",
    "eq_P12 = sy.Eq(P12, (((x - x1) * P2 - (x - x2) * P1) / (x2 - x1)).subs(x,0.4))\n",
    "eq_P23 = sy.Eq((((x - x2) * P3 - (x - x3) * P2) / (x3 - x2)).subs(x, 0.4), P23)"
   ]
  },
  {
   "cell_type": "code",
   "execution_count": 29,
   "metadata": {},
   "outputs": [
    {
     "data": {
      "text/latex": [
       "$\\displaystyle P_{012} = 0.8 P_{12} + 0.52$"
      ],
      "text/plain": [
       "Eq(P012, 0.8*P12 + 0.52)"
      ]
     },
     "metadata": {},
     "output_type": "display_data"
    },
    {
     "data": {
      "text/latex": [
       "$\\displaystyle P_{12} = 0.6 P_{2} + 0.8$"
      ],
      "text/plain": [
       "Eq(P12, 0.6*P2 + 0.8)"
      ]
     },
     "metadata": {},
     "output_type": "display_data"
    },
    {
     "data": {
      "text/latex": [
       "$\\displaystyle 1.4 P_{2} - 3.2 = 2.4$"
      ],
      "text/plain": [
       "Eq(1.4*P2 - 3.2, 2.4)"
      ]
     },
     "metadata": {},
     "output_type": "display_data"
    }
   ],
   "source": [
    "display(eq_P012, eq_P12, eq_P23)"
   ]
  },
  {
   "cell_type": "code",
   "execution_count": 50,
   "metadata": {},
   "outputs": [],
   "source": [
    "val_P2 = sy.solveset(eq_P23).evalf()\n",
    "val_P12 = sy.solveset(eq_P12.subs(P2, float(val_P2.args[0]))).evalf().args[0]"
   ]
  },
  {
   "cell_type": "code",
   "execution_count": 53,
   "metadata": {},
   "outputs": [
    {
     "data": {
      "text/latex": [
       "$\\displaystyle \\left\\{4.0\\right\\}$"
      ],
      "text/plain": [
       "{4.0}"
      ]
     },
     "metadata": {},
     "output_type": "display_data"
    },
    {
     "data": {
      "text/latex": [
       "$\\displaystyle 3.2$"
      ],
      "text/plain": [
       "3.20000000000000"
      ]
     },
     "metadata": {},
     "output_type": "display_data"
    },
    {
     "data": {
      "text/latex": [
       "$\\displaystyle P_{012} = 3.08$"
      ],
      "text/plain": [
       "Eq(P012, 3.08)"
      ]
     },
     "metadata": {},
     "output_type": "display_data"
    }
   ],
   "source": [
    "display(val_P2, val_P12, eq_P012.subs(P12, val_P12))"
   ]
  }
 ],
 "metadata": {
  "kernelspec": {
   "display_name": "Python 3",
   "language": "python",
   "name": "python3"
  },
  "language_info": {
   "codemirror_mode": {
    "name": "ipython",
    "version": 3
   },
   "file_extension": ".py",
   "mimetype": "text/x-python",
   "name": "python",
   "nbconvert_exporter": "python",
   "pygments_lexer": "ipython3",
   "version": "3.7.3"
  },
  "latex_envs": {
   "LaTeX_envs_menu_present": true,
   "autoclose": true,
   "autocomplete": true,
   "bibliofile": "biblio.bib",
   "cite_by": "apalike",
   "current_citInitial": 1,
   "eqLabelWithNumbers": true,
   "eqNumInitial": 1,
   "hotkeys": {
    "equation": "Ctrl-E",
    "itemize": "Ctrl-I"
   },
   "labels_anchors": false,
   "latex_user_defs": false,
   "report_style_numbering": false,
   "user_envs_cfg": false
  }
 },
 "nbformat": 4,
 "nbformat_minor": 2
}
