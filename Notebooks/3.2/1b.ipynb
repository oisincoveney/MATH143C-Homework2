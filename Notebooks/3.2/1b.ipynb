{
 "cells": [
  {
   "cell_type": "code",
   "execution_count": 123,
   "metadata": {},
   "outputs": [],
   "source": [
    "def lagrange(nodes, fx, sym_x):\n",
    "    nodes.sort()\n",
    "    eq = sy.sympify(0.0)\n",
    "    for i, k in enumerate(nodes):\n",
    "        a = fx(k)\n",
    "        L_denom, L_num = 1, 1\n",
    "        print(nodes[0:i], nodes[i+1:])\n",
    "        for j in nodes[0:i] + nodes[i+1:]:\n",
    "            L_denom *= (x - j)\n",
    "            L_num *= (k - j)\n",
    "        eq += a * (L_denom / L_num)\n",
    "    return eq"
   ]
  },
  {
   "cell_type": "code",
   "execution_count": 124,
   "metadata": {},
   "outputs": [],
   "source": [
    "xvals = [-0.75, -0.5, -.25, 0]\n",
    "yvals = [-0.07181250, -0.02475000, 0.33493750, 1.10100000]\n",
    "fx = lambda k: dict(zip(xvals, yvals))[k]"
   ]
  },
  {
   "cell_type": "code",
   "execution_count": 126,
   "metadata": {},
   "outputs": [
    {
     "name": "stdout",
     "output_type": "stream",
     "text": [
      "[] [-0.5]\n",
      "[-0.75] []\n",
      "[] [-0.25]\n",
      "[-0.5] []\n",
      "[] [0]\n",
      "[-0.25] []\n"
     ]
    }
   ],
   "source": [
    "eqs = []\n",
    "for i in range(len(xvals) - 1):\n",
    "    eqs.append(lagrange(xvals[i:i+2], fx, x))"
   ]
  },
  {
   "cell_type": "code",
   "execution_count": 127,
   "metadata": {},
   "outputs": [
    {
     "data": {
      "text/plain": [
       "[0.18825*x + 0.069375, 1.43875*x + 0.694625, 3.06425*x + 1.101]"
      ]
     },
     "execution_count": 127,
     "metadata": {},
     "output_type": "execute_result"
    }
   ],
   "source": [
    "eqs"
   ]
  },
  {
   "cell_type": "code",
   "execution_count": 135,
   "metadata": {},
   "outputs": [],
   "source": [
    "eqs2 = []\n",
    "for i in range(len(eqs) - 1):\n",
    "    eqs2.append((eqs[i] * (x - xvals[i]) - eqs[i+1] * (x - xvals[i+2])) / (xvals[i+2] - xvals[i]))"
   ]
  },
  {
   "cell_type": "code",
   "execution_count": 136,
   "metadata": {},
   "outputs": [
    {
     "data": {
      "text/latex": [
       "$\\displaystyle 2.0 \\left(0.18825 x + 0.069375\\right) \\left(x + 0.75\\right) - 2.0 \\left(x + 0.25\\right) \\left(1.43875 x + 0.694625\\right)$"
      ],
      "text/plain": [
       "2.0*(0.18825*x + 0.069375)*(x + 0.75) - 2.0*(x + 0.25)*(1.43875*x + 0.694625)"
      ]
     },
     "metadata": {},
     "output_type": "display_data"
    },
    {
     "data": {
      "text/latex": [
       "$\\displaystyle - 2.0 x \\left(3.06425 x + 1.101\\right) + 2.0 \\left(x + 0.5\\right) \\left(1.43875 x + 0.694625\\right)$"
      ],
      "text/plain": [
       "-2.0*x*(3.06425*x + 1.101) + 2.0*(x + 0.5)*(1.43875*x + 0.694625)"
      ]
     },
     "metadata": {},
     "output_type": "display_data"
    }
   ],
   "source": [
    "display(*eqs2)"
   ]
  },
  {
   "cell_type": "code",
   "execution_count": 137,
   "metadata": {},
   "outputs": [],
   "source": [
    "eq3 = (eqs2[1] * (x - xvals[0]) - eqs2[0] * (x - xvals[3])) / (xvals[3] - xvals[0])"
   ]
  },
  {
   "cell_type": "code",
   "execution_count": 138,
   "metadata": {},
   "outputs": [
    {
     "data": {
      "text/latex": [
       "$\\displaystyle - 1.33333333333333 x \\left(2.0 \\left(0.18825 x + 0.069375\\right) \\left(x + 0.75\\right) - 2.0 \\left(x + 0.25\\right) \\left(1.43875 x + 0.694625\\right)\\right) + 1.33333333333333 \\left(x + 0.75\\right) \\left(- 2.0 x \\left(3.06425 x + 1.101\\right) + 2.0 \\left(x + 0.5\\right) \\left(1.43875 x + 0.694625\\right)\\right)$"
      ],
      "text/plain": [
       "-1.33333333333333*x*(2.0*(0.18825*x + 0.069375)*(x + 0.75) - 2.0*(x + 0.25)*(1.43875*x + 0.694625)) + 1.33333333333333*(x + 0.75)*(-2.0*x*(3.06425*x + 1.101) + 2.0*(x + 0.5)*(1.43875*x + 0.694625))"
      ]
     },
     "execution_count": 138,
     "metadata": {},
     "output_type": "execute_result"
    }
   ],
   "source": [
    "eq3"
   ]
  },
  {
   "cell_type": "code",
   "execution_count": 145,
   "metadata": {},
   "outputs": [],
   "source": [
    "def neville(datax, datay, x):\n",
    "    \"\"\"\n",
    "    Finds an interpolated value using Neville's algorithm.\n",
    "    Input\n",
    "      datax: input x's in a list of size n\n",
    "      datay: input y's in a list of size n\n",
    "      x: the x value used for interpolation\n",
    "    Output\n",
    "      p[0]: the polynomial of degree n\n",
    "    \"\"\"\n",
    "    n = len(datax)\n",
    "    p = n*[0]\n",
    "    for k in range(n):\n",
    "        for i in range(n-k):\n",
    "            if k == 0:\n",
    "                p[i] = datay[i]\n",
    "            else:\n",
    "                p[i] = ((x-datax[i+k])*p[i]+ \\\n",
    "                        (datax[i]-x)*p[i+1])/ \\\n",
    "                        (datax[i]-datax[i+k])\n",
    "    return p[0]"
   ]
  },
  {
   "cell_type": "code",
   "execution_count": 152,
   "metadata": {},
   "outputs": [],
   "source": [
    "tex(neville(xvals, yvals, x).subs(x, -1/3))"
   ]
  },
  {
   "cell_type": "code",
   "execution_count": null,
   "metadata": {},
   "outputs": [],
   "source": [
    "neville((lambda x: 3 ** x)())"
   ]
  }
 ],
 "metadata": {
  "kernelspec": {
   "display_name": "Python 3",
   "language": "python",
   "name": "python3"
  },
  "language_info": {
   "codemirror_mode": {
    "name": "ipython",
    "version": 3
   },
   "file_extension": ".py",
   "mimetype": "text/x-python",
   "name": "python",
   "nbconvert_exporter": "python",
   "pygments_lexer": "ipython3",
   "version": "3.7.3"
  },
  "latex_envs": {
   "LaTeX_envs_menu_present": true,
   "autoclose": true,
   "autocomplete": true,
   "bibliofile": "biblio.bib",
   "cite_by": "apalike",
   "current_citInitial": 1,
   "eqLabelWithNumbers": true,
   "eqNumInitial": 1,
   "hotkeys": {
    "equation": "Ctrl-E",
    "itemize": "Ctrl-I"
   },
   "labels_anchors": false,
   "latex_user_defs": false,
   "report_style_numbering": false,
   "user_envs_cfg": false
  }
 },
 "nbformat": 4,
 "nbformat_minor": 2
}
