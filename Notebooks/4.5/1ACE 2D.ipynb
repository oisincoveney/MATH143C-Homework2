{
 "cells": [
  {
   "cell_type": "code",
   "execution_count": 47,
   "metadata": {},
   "outputs": [
    {
     "data": {
      "text/plain": [
       "'%.10f'"
      ]
     },
     "execution_count": 47,
     "metadata": {},
     "output_type": "execute_result"
    }
   ],
   "source": [
    "%precision 10"
   ]
  },
  {
   "cell_type": "code",
   "execution_count": 48,
   "metadata": {},
   "outputs": [],
   "source": [
    "from scipy.integrate import romberg"
   ]
  },
  {
   "cell_type": "code",
   "execution_count": 49,
   "metadata": {},
   "outputs": [],
   "source": [
    "vals = [\n",
    "    [1, 1.5, x ** 2 * sy.log(x)],\n",
    "    [0, 0.35, 2 / (x ** 2 - 4)],\n",
    "    [0, math.pi / 4,sy.sin(2*x) * sy.E ** (3 * x)],\n",
    "    [math.e, math.e * 2, 1 / (x * sy.log(x))],\n",
    "]"
   ]
  },
  {
   "cell_type": "code",
   "execution_count": 50,
   "metadata": {},
   "outputs": [],
   "source": [
    "for i in range(len(vals)):\n",
    "    ff = sy.lambdify(x, vals[i][2])\n",
    "    vals[i][2] = ff"
   ]
  },
  {
   "cell_type": "code",
   "execution_count": 51,
   "metadata": {},
   "outputs": [
    {
     "data": {
      "text/plain": [
       "'\\\\begin{tabular}{lrrr}\\n\\\\toprule\\n{} &         0 &         1 &         2 \\\\\\\\\\n\\\\midrule\\n0 &  1.000000 &  1.500000 &  0.192259 \\\\\\\\\\n1 &  0.000000 &  0.350000 & -0.176820 \\\\\\\\\\n2 &  0.000000 &  0.785398 &  2.588629 \\\\\\\\\\n3 &  2.718282 &  5.436564 &  0.526589 \\\\\\\\\\n\\\\bottomrule\\n\\\\end{tabular}\\n'"
      ]
     },
     "execution_count": 51,
     "metadata": {},
     "output_type": "execute_result"
    }
   ],
   "source": [
    "pd.DataFrame([(a, b, romberg(f, a, b)) for a, b, f in vals]).to_latex(escape=False)"
   ]
  },
  {
   "cell_type": "code",
   "execution_count": 55,
   "metadata": {
    "scrolled": true
   },
   "outputs": [
    {
     "name": "stdout",
     "output_type": "stream",
     "text": [
      "1 1.5\n",
      "Romberg integration of <function vectorize1.<locals>.vfunc at 0x000002D5C9DD5D90> from [1, 1.5]\n",
      "\n",
      " Steps  StepSize   Results\n",
      "     1  0.500000  0.228074 \n",
      "     2  0.250000  0.201203  0.192245 \n",
      "     4  0.125000  0.194494  0.192258  0.192259 \n",
      "     8  0.062500  0.192818  0.192259  0.192259  0.192259 \n",
      "\n",
      "The final result is 0.192259357706584 after 9 function evaluations.\n",
      "0.192259357706584\n",
      "0 0.35\n",
      "Romberg integration of <function vectorize1.<locals>.vfunc at 0x000002D5C9DD37B8> from [0, 0.35]\n",
      "\n",
      " Steps  StepSize   Results\n",
      "     1  0.350000 -0.177764 \n",
      "     2  0.175000 -0.177057 -0.176822 \n",
      "     4  0.087500 -0.176879 -0.176820 -0.176820 \n",
      "     8  0.043750 -0.176835 -0.176820 -0.176820 -0.176820 \n",
      "\n",
      "The final result is -0.1768200201235563 after 9 function evaluations.\n",
      "-0.1768200201235563\n",
      "0 0.7853981633974483\n",
      "Romberg integration of <function vectorize1.<locals>.vfunc at 0x000002D5C9DD4B70> from [0, 0.7853981633974483]\n",
      "\n",
      " Steps  StepSize   Results\n",
      "     1  0.785398  4.143260 \n",
      "     2  0.392699  2.973587  2.583696 \n",
      "     4  0.196350  2.684173  2.587701  2.587968 \n",
      "     8  0.098175  2.612463  2.588560  2.588617  2.588627 \n",
      "    16  0.049087  2.594584  2.588624  2.588628  2.588629  2.588629 \n",
      "    32  0.024544  2.590117  2.588628  2.588629  2.588629  2.588629  2.588629 \n",
      "\n",
      "The final result is 2.5886286325075183 after 33 function evaluations.\n",
      "2.5886286325075183\n",
      "2.718281828459045 5.43656365691809\n",
      "Romberg integration of <function vectorize1.<locals>.vfunc at 0x000002D5C9DD20D0> from [2.718281828459045, 5.43656365691809]\n",
      "\n",
      " Steps  StepSize   Results\n",
      "     1  2.718282  0.647654 \n",
      "     2  1.359141  0.560996  0.532111 \n",
      "     4  0.679570  0.535609  0.527146  0.526816 \n",
      "     8  0.339785  0.528876  0.526632  0.526597  0.526594 \n",
      "    16  0.169893  0.527163  0.526592  0.526589  0.526589  0.526589 \n",
      "    32  0.084946  0.526733  0.526589  0.526589  0.526589  0.526589  0.526589 \n",
      "\n",
      "The final result is 0.5265890342943756 after 33 function evaluations.\n",
      "0.5265890342943756\n"
     ]
    }
   ],
   "source": [
    "for (a, b, f) in vals:\n",
    "    print(a, b)\n",
    "    print(romberg(f, a, b, show=True, tol=10 ** -6))"
   ]
  },
  {
   "cell_type": "code",
   "execution_count": null,
   "metadata": {},
   "outputs": [],
   "source": []
  },
  {
   "cell_type": "code",
   "execution_count": null,
   "metadata": {},
   "outputs": [],
   "source": []
  }
 ],
 "metadata": {
  "kernelspec": {
   "display_name": "Python 3",
   "language": "python",
   "name": "python3"
  },
  "language_info": {
   "codemirror_mode": {
    "name": "ipython",
    "version": 3
   },
   "file_extension": ".py",
   "mimetype": "text/x-python",
   "name": "python",
   "nbconvert_exporter": "python",
   "pygments_lexer": "ipython3",
   "version": "3.7.3"
  },
  "latex_envs": {
   "LaTeX_envs_menu_present": true,
   "autoclose": true,
   "autocomplete": true,
   "bibliofile": "biblio.bib",
   "cite_by": "apalike",
   "current_citInitial": 1,
   "eqLabelWithNumbers": true,
   "eqNumInitial": 1,
   "hotkeys": {
    "equation": "Ctrl-E",
    "itemize": "Ctrl-I"
   },
   "labels_anchors": false,
   "latex_user_defs": false,
   "report_style_numbering": false,
   "user_envs_cfg": false
  }
 },
 "nbformat": 4,
 "nbformat_minor": 2
}
