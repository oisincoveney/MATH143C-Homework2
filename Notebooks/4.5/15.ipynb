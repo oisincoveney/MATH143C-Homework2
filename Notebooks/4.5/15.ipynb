{
 "cells": [
  {
   "cell_type": "code",
   "execution_count": 3,
   "metadata": {},
   "outputs": [],
   "source": [
    "from scipy.integrate import romberg"
   ]
  },
  {
   "cell_type": "code",
   "execution_count": 5,
   "metadata": {},
   "outputs": [],
   "source": [
    "fx = sy.sqrt(1 + sy.cos(x) ** 2)\n",
    "F = sy.lambdify(x, fx)"
   ]
  },
  {
   "cell_type": "code",
   "execution_count": 10,
   "metadata": {},
   "outputs": [],
   "source": [
    "tex(fx)"
   ]
  },
  {
   "cell_type": "code",
   "execution_count": 6,
   "metadata": {},
   "outputs": [],
   "source": [
    "Y = F(np.linspace(0, 48))"
   ]
  },
  {
   "cell_type": "code",
   "execution_count": 11,
   "metadata": {},
   "outputs": [
    {
     "name": "stdout",
     "output_type": "stream",
     "text": [
      "Romberg integration of <function vectorize1.<locals>.vfunc at 0x000001F6658DBE18> from [0, 48]\n",
      "\n",
      " Steps  StepSize   Results\n",
      "     1 48.000000 62.437371 \n",
      "     2 24.000000 57.288562 55.572292 \n",
      "     4 12.000000 56.443751 56.162147 56.201471 \n",
      "     8  6.000000 56.263055 56.202823 56.205534 56.205599 \n",
      "    16  3.000000 56.218773 56.204012 56.204091 56.204068 56.204062 \n",
      "    32  1.500000 58.362684 59.077321 59.268875 59.317522 59.329732 59.332787 \n",
      "    64  0.750000 58.450443 58.479696 58.439854 58.426695 58.423201 58.422315 58.422093 \n",
      "   128  0.375000 58.465569 58.470611 58.470006 58.470484 58.470656 58.470703 58.470714 58.470717 \n",
      "   256  0.187500 58.469253 58.470481 58.470472 58.470479 58.470479 58.470479 58.470479 58.470479 58.470479 \n",
      "   512  0.093750 58.470166 58.470470 58.470469 58.470469 58.470469 58.470469 58.470469 58.470469 58.470469 58.470469 \n",
      "\n",
      "The final result is 58.47046905288022 after 513 function evaluations.\n"
     ]
    },
    {
     "data": {
      "text/plain": [
       "58.47046905288022"
      ]
     },
     "execution_count": 11,
     "metadata": {},
     "output_type": "execute_result"
    }
   ],
   "source": [
    "romberg(F, 0, 48, show=True, tol=10 ** -4)"
   ]
  },
  {
   "cell_type": "code",
   "execution_count": null,
   "metadata": {},
   "outputs": [],
   "source": []
  }
 ],
 "metadata": {
  "kernelspec": {
   "display_name": "Python 3",
   "language": "python",
   "name": "python3"
  },
  "language_info": {
   "codemirror_mode": {
    "name": "ipython",
    "version": 3
   },
   "file_extension": ".py",
   "mimetype": "text/x-python",
   "name": "python",
   "nbconvert_exporter": "python",
   "pygments_lexer": "ipython3",
   "version": "3.7.3"
  },
  "latex_envs": {
   "LaTeX_envs_menu_present": true,
   "autoclose": true,
   "autocomplete": true,
   "bibliofile": "biblio.bib",
   "cite_by": "apalike",
   "current_citInitial": 1,
   "eqLabelWithNumbers": true,
   "eqNumInitial": 1,
   "hotkeys": {
    "equation": "Ctrl-E",
    "itemize": "Ctrl-I"
   },
   "labels_anchors": false,
   "latex_user_defs": false,
   "report_style_numbering": false,
   "user_envs_cfg": false
  }
 },
 "nbformat": 4,
 "nbformat_minor": 2
}
