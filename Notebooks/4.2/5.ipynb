{
 "cells": [
  {
   "cell_type": "code",
   "execution_count": 7,
   "metadata": {},
   "outputs": [],
   "source": [
    "fwd = None\n",
    "n = 4\n",
    "data = np.zeros((4, 4))"
   ]
  },
  {
   "cell_type": "code",
   "execution_count": 8,
   "metadata": {},
   "outputs": [
    {
     "ename": "NameError",
     "evalue": "name 'FX' is not defined",
     "output_type": "error",
     "traceback": [
      "\u001b[1;31m---------------------------------------------------------------------------\u001b[0m",
      "\u001b[1;31mNameError\u001b[0m                                 Traceback (most recent call last)",
      "\u001b[1;32m<ipython-input-8-2eda851104f3>\u001b[0m in \u001b[0;36m<module>\u001b[1;34m\u001b[0m\n\u001b[0;32m     33\u001b[0m \u001b[1;33m\u001b[0m\u001b[0m\n\u001b[0;32m     34\u001b[0m \u001b[1;33m\u001b[0m\u001b[0m\n\u001b[1;32m---> 35\u001b[1;33m \u001b[0mdata\u001b[0m \u001b[1;33m=\u001b[0m \u001b[0mfwd_richardson\u001b[0m\u001b[1;33m(\u001b[0m\u001b[0mFX\u001b[0m\u001b[1;33m,\u001b[0m \u001b[0mX\u001b[0m\u001b[1;33m,\u001b[0m \u001b[0mh\u001b[0m\u001b[1;33m,\u001b[0m \u001b[1;36m3\u001b[0m\u001b[1;33m)\u001b[0m\u001b[1;33m\u001b[0m\u001b[1;33m\u001b[0m\u001b[0m\n\u001b[0m\u001b[0;32m     36\u001b[0m \u001b[0matl\u001b[0m\u001b[1;33m(\u001b[0m\u001b[0mdata\u001b[0m\u001b[1;33m.\u001b[0m\u001b[0mtranspose\u001b[0m\u001b[1;33m(\u001b[0m\u001b[1;33m)\u001b[0m\u001b[1;33m)\u001b[0m\u001b[1;33m\u001b[0m\u001b[1;33m\u001b[0m\u001b[0m\n",
      "\u001b[1;31mNameError\u001b[0m: name 'FX' is not defined"
     ]
    }
   ],
   "source": [
    "def fwd_richardson(F, X, h, n, deriv_formula=fwd, d=None):\n",
    "    data = np.zeros((n, n)) if d is None else d\n",
    "#     for i in range(n):\n",
    "#         for j in range(i+1):\n",
    "#             if j == i - 1:\n",
    "#                 data[i][j] = data[i][j-1] + (data[i][j-1] - data[i-1][j-1]) / (4 ** (j-1) - 1)\n",
    "#             elif j == 0:\n",
    "#                 data[i][j] = deriv_formula(X, X+step, FX(X), FX(X+step))\n",
    "#                 step /= 2\n",
    "#             else:\n",
    "#                 data[i][j] = (2) * (data[i][j-1]) - data[i-1][j-1]\n",
    "#             print(i, j, data[i][j])\n",
    "    step = h\n",
    "\n",
    "    if d is None:\n",
    "        for j in range(n):\n",
    "            data[0, j] = deriv_formula(X, X+step, FX(X), FX(X+step))\n",
    "            step /= 2\n",
    "            \n",
    "    \n",
    "    print(data)\n",
    "        \n",
    "    ex = 4\n",
    "    for i in range(1, n):\n",
    "        for j in range(i, n):\n",
    "#             print(f\"{i} {j} {j-i}\\t{data[i, j-1]}\\t\\t\\t{data[i-1, j-1]}\")\n",
    "#             data[i,j] = abs((2 ** (j-i)) * data[i-1, j] - data[i-1, j-1])\n",
    "#             print(i, j, 2*(i + 1) - 1, data[i-1, j], data[i-1, j-1])\n",
    "            data[i, j] = data[i-1, j] + (data[i-1, j] - data[i-1, j-1]) / (pow(4, 2 * (i+1) - 1) - 1)\n",
    "#             print(data)\n",
    "        \n",
    "    return data"
   ]
  },
  {
   "cell_type": "code",
   "execution_count": 15,
   "metadata": {},
   "outputs": [],
   "source": [
    "FX = None\n",
    "X = None\n",
    "data[0] = [1.570796, 1.896119, 1.974232, 1.993570]\n",
    "h = symbols('h')"
   ]
  },
  {
   "cell_type": "code",
   "execution_count": 16,
   "metadata": {},
   "outputs": [
    {
     "data": {
      "text/plain": [
       "array([[1.570796, 1.896119, 1.974232, 1.99357 ],\n",
       "       [0.      , 0.      , 0.      , 0.      ],\n",
       "       [0.      , 0.      , 0.      , 0.      ],\n",
       "       [0.      , 0.      , 0.      , 0.      ]])"
      ]
     },
     "execution_count": 16,
     "metadata": {},
     "output_type": "execute_result"
    }
   ],
   "source": [
    "data"
   ]
  },
  {
   "cell_type": "code",
   "execution_count": 18,
   "metadata": {},
   "outputs": [
    {
     "name": "stdout",
     "output_type": "stream",
     "text": [
      "[[1.570796 1.896119 1.974232 1.99357 ]\n",
      " [0.       0.       0.       0.      ]\n",
      " [0.       0.       0.       0.      ]\n",
      " [0.       0.       0.       0.      ]]\n",
      "\\begin{array}\n",
      "  1.570796 &  0.000000 &  0.000000 &  0.000000\\\\\n",
      "  1.896119 &  1.901283 &  0.000000 &  0.000000\\\\\n",
      "  1.974232 &  1.975472 &  1.975544 &  0.000000\\\\\n",
      "  1.993570 &  1.993877 &  1.993895 &  1.993896\n",
      "\\end{array}\n"
     ]
    }
   ],
   "source": [
    "data = fwd_richardson(FX, X, h, n, d=data)\n",
    "atl(data.transpose())"
   ]
  }
 ],
 "metadata": {
  "kernelspec": {
   "display_name": "Python 3",
   "language": "python",
   "name": "python3"
  },
  "language_info": {
   "codemirror_mode": {
    "name": "ipython",
    "version": 3
   },
   "file_extension": ".py",
   "mimetype": "text/x-python",
   "name": "python",
   "nbconvert_exporter": "python",
   "pygments_lexer": "ipython3",
   "version": "3.7.3"
  },
  "latex_envs": {
   "LaTeX_envs_menu_present": true,
   "autoclose": true,
   "autocomplete": true,
   "bibliofile": "biblio.bib",
   "cite_by": "apalike",
   "current_citInitial": 1,
   "eqLabelWithNumbers": true,
   "eqNumInitial": 1,
   "hotkeys": {
    "equation": "Ctrl-E",
    "itemize": "Ctrl-I"
   },
   "labels_anchors": false,
   "latex_user_defs": false,
   "report_style_numbering": false,
   "user_envs_cfg": false
  }
 },
 "nbformat": 4,
 "nbformat_minor": 2
}
