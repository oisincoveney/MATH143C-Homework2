{
 "cells": [
  {
   "cell_type": "code",
   "execution_count": 1,
   "metadata": {},
   "outputs": [],
   "source": [
    "def getFactor(expr):\n",
    "    i = 0\n",
    "    while K[i] not in expr.free_symbols:\n",
    "        i += 1\n",
    "    if i == numK:\n",
    "        return None\n",
    "    e = expr.diff(K[i])\n",
    "#     display(e)\n",
    "    ls = e.as_ordered_factors()\n",
    "#     display(ls)\n",
    "    numcheck = lambda k: k.is_number\n",
    "    vals = np.array(list(filter(numcheck, ls)))\n",
    "    if len(vals) == 0:\n",
    "        return 1\n",
    "    vals = functools.reduce(lambda a, b: a * b, vals)\n",
    "#     print(vals)\n",
    "    return 1 / vals\n",
    "    \n",
    "    \n",
    "def extrapolate(a, b):\n",
    "    A = getFactor(a)\n",
    "    B = getFactor(b)\n",
    "    factor = B / A\n",
    "    return factor * b - a"
   ]
  },
  {
   "cell_type": "code",
   "execution_count": 2,
   "metadata": {},
   "outputs": [
    {
     "ename": "NameError",
     "evalue": "name 'mtx' is not defined",
     "output_type": "error",
     "traceback": [
      "\u001b[1;31m---------------------------------------------------------------------------\u001b[0m",
      "\u001b[1;31mNameError\u001b[0m                                 Traceback (most recent call last)",
      "\u001b[1;32m<ipython-input-2-bebc9d0ce497>\u001b[0m in \u001b[0;36m<module>\u001b[1;34m\u001b[0m\n\u001b[0;32m     15\u001b[0m \u001b[1;33m\u001b[0m\u001b[0m\n\u001b[0;32m     16\u001b[0m     \u001b[1;32mreturn\u001b[0m \u001b[0mdata\u001b[0m\u001b[1;33m\u001b[0m\u001b[1;33m\u001b[0m\u001b[0m\n\u001b[1;32m---> 17\u001b[1;33m \u001b[0mrichardsons\u001b[0m\u001b[1;33m(\u001b[0m\u001b[0mmtx\u001b[0m\u001b[1;33m[\u001b[0m\u001b[1;36m0\u001b[0m\u001b[1;33m]\u001b[0m\u001b[1;33m[\u001b[0m\u001b[1;36m0\u001b[0m\u001b[1;33m]\u001b[0m\u001b[1;33m,\u001b[0m \u001b[1;36m3\u001b[0m\u001b[1;33m,\u001b[0m \u001b[0mh\u001b[0m\u001b[1;33m,\u001b[0m \u001b[1;36m3\u001b[0m\u001b[1;33m)\u001b[0m\u001b[1;33m\u001b[0m\u001b[1;33m\u001b[0m\u001b[0m\n\u001b[0m",
      "\u001b[1;31mNameError\u001b[0m: name 'mtx' is not defined"
     ]
    }
   ],
   "source": [
    "def richardsons(fx, n, step, factor):\n",
    "    K = [Symbol(f'K_{i+1}') for i in range(n)]\n",
    "    D = Function('D')\n",
    "    data = np.zeros((n, n), dtype='object')\n",
    "    print([K[i] * h ** (i+1) for i in range(n)])\n",
    "    terms =  functools.reduce(lambda a, b: a + b, [K[i] * h ** (i+1) for i in range(n)])\n",
    "    data[0][0] = fx.subs(N0, D)\n",
    "    for i in range(1, numN):\n",
    "        step /= factor\n",
    "        data[0][i] = D(step) + terms.subs(h, step)\n",
    "    \n",
    "    for i in range(1, n):\n",
    "        for j in range(i, n):\n",
    "            data[i][j] = extrapolate(data[i-1][j-1], data[i-1][j])\n",
    "    \n",
    "    return data\n",
    "richardsons(mtx[0][0], 3, h, 3)"
   ]
  }
 ],
 "metadata": {
  "kernelspec": {
   "display_name": "Python 3",
   "language": "python",
   "name": "python3"
  },
  "language_info": {
   "codemirror_mode": {
    "name": "ipython",
    "version": 3
   },
   "file_extension": ".py",
   "mimetype": "text/x-python",
   "name": "python",
   "nbconvert_exporter": "python",
   "pygments_lexer": "ipython3",
   "version": "3.7.3"
  },
  "latex_envs": {
   "LaTeX_envs_menu_present": true,
   "autoclose": true,
   "autocomplete": true,
   "bibliofile": "biblio.bib",
   "cite_by": "apalike",
   "current_citInitial": 1,
   "eqLabelWithNumbers": true,
   "eqNumInitial": 1,
   "hotkeys": {
    "equation": "Ctrl-E",
    "itemize": "Ctrl-I"
   },
   "labels_anchors": false,
   "latex_user_defs": false,
   "report_style_numbering": false,
   "user_envs_cfg": false
  }
 },
 "nbformat": 4,
 "nbformat_minor": 2
}
