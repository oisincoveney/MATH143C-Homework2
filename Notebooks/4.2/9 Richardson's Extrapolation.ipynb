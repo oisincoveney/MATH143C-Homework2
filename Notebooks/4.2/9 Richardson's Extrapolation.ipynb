{
 "cells": [
  {
   "cell_type": "code",
   "execution_count": 45,
   "metadata": {},
   "outputs": [],
   "source": [
    "n = 3\n",
    "factor = 3\n",
    "K = [Symbol(f'K_{i+1}') for i in range(n-1)]\n",
    "D = Function('D')\n",
    "h = Symbol('h')"
   ]
  },
  {
   "cell_type": "code",
   "execution_count": 53,
   "metadata": {},
   "outputs": [],
   "source": [
    "def getFactor(expr, n):\n",
    "    i = 0\n",
    "    while K[i] not in expr.free_symbols:\n",
    "        i += 1\n",
    "    if i == n:\n",
    "        return None\n",
    "    e = expr.diff(K[i])\n",
    "#     display(e)\n",
    "    ls = e.as_ordered_factors()\n",
    "#     display(ls)\n",
    "    numcheck = lambda k: k.is_number\n",
    "    vals = np.array(list(filter(numcheck, ls)))\n",
    "    if len(vals) == 0:\n",
    "        return 1\n",
    "    vals = functools.reduce(lambda a, b: a * b, vals)\n",
    "#     print(vals)\n",
    "    return 1 / vals\n",
    "    \n",
    "    \n",
    "def extrapolate(a, b, n):\n",
    "    A = getFactor(a, n)\n",
    "    B = getFactor(b, n)\n",
    "    factor = B / A\n",
    "    return (factor * b - a) / (factor - 1)"
   ]
  },
  {
   "cell_type": "code",
   "execution_count": 54,
   "metadata": {
    "scrolled": false
   },
   "outputs": [],
   "source": [
    "def richardsons(main_term, err_coefs, n, step, factor):\n",
    "    terms =  functools.reduce(lambda a, b: a + b, [err_coefs[i] * h ** (i+1) for i in range(len(err_coefs))])\n",
    "    data = np.zeros((n, n), dtype='object')\n",
    "    data[0][0] = main_term(step) + terms\n",
    "    for i in range(1, n):\n",
    "        step /= factor\n",
    "        data[0][i] = main_term(step) + terms.subs(h, step)\n",
    "    \n",
    "    for i in range(1, n):\n",
    "        for j in range(i, n):\n",
    "            data[i][j] = extrapolate(data[i-1][j-1], data[i-1][j], n)\n",
    "    \n",
    "    return data\n",
    "data = richardsons(D,  K, n, h, factor)"
   ]
  },
  {
   "cell_type": "code",
   "execution_count": 55,
   "metadata": {},
   "outputs": [
    {
     "data": {
      "text/latex": [
       "$\\displaystyle \\frac{27 D{\\left(\\frac{h}{9} \\right)}}{16} - \\frac{3 D{\\left(\\frac{h}{3} \\right)}}{4} + \\frac{D{\\left(h \\right)}}{16}$"
      ],
      "text/plain": [
       "27*D(h/9)/16 - 3*D(h/3)/4 + D(h)/16"
      ]
     },
     "execution_count": 55,
     "metadata": {},
     "output_type": "execute_result"
    }
   ],
   "source": [
    "data[-1][-1]"
   ]
  },
  {
   "cell_type": "code",
   "execution_count": 59,
   "metadata": {},
   "outputs": [
    {
     "data": {
      "text/latex": [
       "$\\displaystyle K_{1} h + K_{2} h^{2} + D{\\left(h \\right)}$"
      ],
      "text/plain": [
       "K_1*h + K_2*h**2 + D(h)"
      ]
     },
     "metadata": {},
     "output_type": "display_data"
    },
    {
     "data": {
      "text/latex": [
       "$\\displaystyle \\frac{K_{1} h}{3} + \\frac{K_{2} h^{2}}{9} + D{\\left(\\frac{h}{3} \\right)}$"
      ],
      "text/plain": [
       "K_1*h/3 + K_2*h**2/9 + D(h/3)"
      ]
     },
     "metadata": {},
     "output_type": "display_data"
    },
    {
     "data": {
      "text/latex": [
       "$\\displaystyle \\frac{K_{1} h}{9} + \\frac{K_{2} h^{2}}{81} + D{\\left(\\frac{h}{9} \\right)}$"
      ],
      "text/plain": [
       "K_1*h/9 + K_2*h**2/81 + D(h/9)"
      ]
     },
     "metadata": {},
     "output_type": "display_data"
    }
   ],
   "source": [
    "display(*data[0])"
   ]
  },
  {
   "cell_type": "code",
   "execution_count": 60,
   "metadata": {},
   "outputs": [
    {
     "data": {
      "text/plain": [
       "0"
      ]
     },
     "metadata": {},
     "output_type": "display_data"
    },
    {
     "data": {
      "text/latex": [
       "$\\displaystyle - \\frac{K_{2} h^{2}}{3} + \\frac{3 D{\\left(\\frac{h}{3} \\right)}}{2} - \\frac{D{\\left(h \\right)}}{2}$"
      ],
      "text/plain": [
       "-K_2*h**2/3 + 3*D(h/3)/2 - D(h)/2"
      ]
     },
     "metadata": {},
     "output_type": "display_data"
    },
    {
     "data": {
      "text/latex": [
       "$\\displaystyle - \\frac{K_{2} h^{2}}{27} + \\frac{3 D{\\left(\\frac{h}{9} \\right)}}{2} - \\frac{D{\\left(\\frac{h}{3} \\right)}}{2}$"
      ],
      "text/plain": [
       "-K_2*h**2/27 + 3*D(h/9)/2 - D(h/3)/2"
      ]
     },
     "metadata": {},
     "output_type": "display_data"
    }
   ],
   "source": [
    "display(*data[1])"
   ]
  },
  {
   "cell_type": "code",
   "execution_count": 77,
   "metadata": {},
   "outputs": [
    {
     "name": "stdout",
     "output_type": "stream",
     "text": [
      " N_1(h) &= K_{1} h + K_{2} h^{2} + D{\\left(h \\right)}\\\\\n",
      " N_1(h/3) &= \\frac{K_{1} h}{3} + \\frac{K_{2} h^{2}}{9} + D{\\left(\\frac{h}{3} \\right)}\\\\\n",
      " N_1(h/9) &= \\frac{K_{1} h}{9} + \\frac{K_{2} h^{2}}{81} + D{\\left(\\frac{h}{9} \\right)}\\\\\n",
      " N_2(h) &= - \\frac{K_{2} h^{2}}{3} + \\frac{3 D{\\left(\\frac{h}{3} \\right)}}{2} - \\frac{D{\\left(h \\right)}}{2}\\\\\n",
      " N_2(h/3) &= - \\frac{K_{2} h^{2}}{27} + \\frac{3 D{\\left(\\frac{h}{9} \\right)}}{2} - \\frac{D{\\left(\\frac{h}{3} \\right)}}{2}\\\\\n",
      " N_3(h) &= \\frac{27 D{\\left(\\frac{h}{9} \\right)}}{16} - \\frac{3 D{\\left(\\frac{h}{3} \\right)}}{4} + \\frac{D{\\left(h \\right)}}{16}\\\\\n",
      "\n"
     ]
    }
   ],
   "source": [
    "lstr = ''\n",
    "for i in range(n):\n",
    "    s = h\n",
    "    for j in range(i, n):\n",
    "        lstr += f' N_{i+1}({s}) &= {latex(data[i][j])}' + r'\\\\'\n",
    "        lstr += \"\"\"\\n\"\"\"\n",
    "        s /= factor\n",
    "print(lstr)"
   ]
  }
 ],
 "metadata": {
  "kernelspec": {
   "display_name": "Python 3",
   "language": "python",
   "name": "python3"
  },
  "language_info": {
   "codemirror_mode": {
    "name": "ipython",
    "version": 3
   },
   "file_extension": ".py",
   "mimetype": "text/x-python",
   "name": "python",
   "nbconvert_exporter": "python",
   "pygments_lexer": "ipython3",
   "version": "3.7.3"
  },
  "latex_envs": {
   "LaTeX_envs_menu_present": true,
   "autoclose": true,
   "autocomplete": true,
   "bibliofile": "biblio.bib",
   "cite_by": "apalike",
   "current_citInitial": 1,
   "eqLabelWithNumbers": true,
   "eqNumInitial": 1,
   "hotkeys": {
    "equation": "Ctrl-E",
    "itemize": "Ctrl-I"
   },
   "labels_anchors": false,
   "latex_user_defs": false,
   "report_style_numbering": false,
   "user_envs_cfg": false
  }
 },
 "nbformat": 4,
 "nbformat_minor": 2
}
