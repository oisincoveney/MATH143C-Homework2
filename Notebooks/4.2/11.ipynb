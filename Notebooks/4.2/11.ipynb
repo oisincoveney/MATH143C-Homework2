{
 "cells": [
  {
   "cell_type": "code",
   "execution_count": 3,
   "metadata": {},
   "outputs": [],
   "source": [
    "n = 3\n",
    "factor = 3\n",
    "K = [Symbol(f'K_{i+1}') for i in range(n)]\n",
    "D = Function('D')\n",
    "h = Symbol('h')"
   ]
  },
  {
   "cell_type": "code",
   "execution_count": 8,
   "metadata": {},
   "outputs": [],
   "source": [
    "def getFactor(expr, n):\n",
    "    i = 0\n",
    "    while K[i] not in expr.free_symbols:\n",
    "        i += 1\n",
    "    if i == n:\n",
    "        return None\n",
    "    e = expr.diff(K[i])\n",
    "#     display(e)\n",
    "    ls = e.as_ordered_factors()\n",
    "#     display(ls)\n",
    "    numcheck = lambda k: k.is_number\n",
    "    vals = np.array(list(filter(numcheck, ls)))\n",
    "    if len(vals) == 0:\n",
    "        return 1\n",
    "    vals = functools.reduce(lambda a, b: a * b, vals)\n",
    "#     print(vals)\n",
    "    return sympify(1 / vals)\n",
    "    \n",
    "    \n",
    "def extrapolate(a, b, n):\n",
    "    A = getFactor(a, n)\n",
    "    B = getFactor(b, n)\n",
    "    display(a, b)\n",
    "    factor = B / A\n",
    "    display(factor * b, factor*b - a)\n",
    "    return (factor * b - a) / (factor - 1)"
   ]
  },
  {
   "cell_type": "code",
   "execution_count": 10,
   "metadata": {
    "scrolled": false
   },
   "outputs": [
    {
     "data": {
      "text/plain": [
       "array([[K_1*h + K_2*h**2 + K_3*h**3 + (h + 1)**(1/h),\n",
       "        K_1*h/2 + K_2*h**2/4 + K_3*h**3/8 + (h/2 + 1)**(2/h),\n",
       "        K_1*h/4 + K_2*h**2/16 + K_3*h**3/64 + (h/4 + 1)**(4/h)],\n",
       "       [0, 0, 0],\n",
       "       [0, 0, 0]], dtype=object)"
      ]
     },
     "metadata": {},
     "output_type": "display_data"
    },
    {
     "data": {
      "text/plain": [
       "(1, 1)"
      ]
     },
     "metadata": {},
     "output_type": "display_data"
    },
    {
     "data": {
      "text/latex": [
       "$\\displaystyle K_{1} h + K_{2} h^{2} + K_{3} h^{3} + \\left(h + 1\\right)^{\\frac{1}{h}}$"
      ],
      "text/plain": [
       "K_1*h + K_2*h**2 + K_3*h**3 + (h + 1)**(1/h)"
      ]
     },
     "metadata": {},
     "output_type": "display_data"
    },
    {
     "data": {
      "text/latex": [
       "$\\displaystyle \\frac{K_{1} h}{2} + \\frac{K_{2} h^{2}}{4} + \\frac{K_{3} h^{3}}{8} + \\left(\\frac{h}{2} + 1\\right)^{\\frac{2}{h}}$"
      ],
      "text/plain": [
       "K_1*h/2 + K_2*h**2/4 + K_3*h**3/8 + (h/2 + 1)**(2/h)"
      ]
     },
     "metadata": {},
     "output_type": "display_data"
    },
    {
     "data": {
      "text/latex": [
       "$\\displaystyle K_{1} h + \\frac{K_{2} h^{2}}{2} + \\frac{K_{3} h^{3}}{4} + 2 \\left(\\frac{h}{2} + 1\\right)^{\\frac{2}{h}}$"
      ],
      "text/plain": [
       "K_1*h + K_2*h**2/2 + K_3*h**3/4 + 2*(h/2 + 1)**(2/h)"
      ]
     },
     "metadata": {},
     "output_type": "display_data"
    },
    {
     "data": {
      "text/latex": [
       "$\\displaystyle - \\frac{K_{2} h^{2}}{2} - \\frac{3 K_{3} h^{3}}{4} + 2 \\left(\\frac{h}{2} + 1\\right)^{\\frac{2}{h}} - \\left(h + 1\\right)^{\\frac{1}{h}}$"
      ],
      "text/plain": [
       "-K_2*h**2/2 - 3*K_3*h**3/4 + 2*(h/2 + 1)**(2/h) - (h + 1)**(1/h)"
      ]
     },
     "metadata": {},
     "output_type": "display_data"
    },
    {
     "data": {
      "text/latex": [
       "$\\displaystyle - \\frac{K_{2} h^{2}}{2} - \\frac{3 K_{3} h^{3}}{4} + 2 \\left(\\frac{h}{2} + 1\\right)^{\\frac{2}{h}} - \\left(h + 1\\right)^{\\frac{1}{h}}$"
      ],
      "text/plain": [
       "-K_2*h**2/2 - 3*K_3*h**3/4 + 2*(h/2 + 1)**(2/h) - (h + 1)**(1/h)"
      ]
     },
     "metadata": {},
     "output_type": "display_data"
    },
    {
     "data": {
      "text/plain": [
       "(1, 2)"
      ]
     },
     "metadata": {},
     "output_type": "display_data"
    },
    {
     "data": {
      "text/latex": [
       "$\\displaystyle \\frac{K_{1} h}{2} + \\frac{K_{2} h^{2}}{4} + \\frac{K_{3} h^{3}}{8} + \\left(\\frac{h}{2} + 1\\right)^{\\frac{2}{h}}$"
      ],
      "text/plain": [
       "K_1*h/2 + K_2*h**2/4 + K_3*h**3/8 + (h/2 + 1)**(2/h)"
      ]
     },
     "metadata": {},
     "output_type": "display_data"
    },
    {
     "data": {
      "text/latex": [
       "$\\displaystyle \\frac{K_{1} h}{4} + \\frac{K_{2} h^{2}}{16} + \\frac{K_{3} h^{3}}{64} + \\left(\\frac{h}{4} + 1\\right)^{\\frac{4}{h}}$"
      ],
      "text/plain": [
       "K_1*h/4 + K_2*h**2/16 + K_3*h**3/64 + (h/4 + 1)**(4/h)"
      ]
     },
     "metadata": {},
     "output_type": "display_data"
    },
    {
     "data": {
      "text/latex": [
       "$\\displaystyle \\frac{K_{1} h}{2} + \\frac{K_{2} h^{2}}{8} + \\frac{K_{3} h^{3}}{32} + 2 \\left(\\frac{h}{4} + 1\\right)^{\\frac{4}{h}}$"
      ],
      "text/plain": [
       "K_1*h/2 + K_2*h**2/8 + K_3*h**3/32 + 2*(h/4 + 1)**(4/h)"
      ]
     },
     "metadata": {},
     "output_type": "display_data"
    },
    {
     "data": {
      "text/latex": [
       "$\\displaystyle - \\frac{K_{2} h^{2}}{8} - \\frac{3 K_{3} h^{3}}{32} + 2 \\left(\\frac{h}{4} + 1\\right)^{\\frac{4}{h}} - \\left(\\frac{h}{2} + 1\\right)^{\\frac{2}{h}}$"
      ],
      "text/plain": [
       "-K_2*h**2/8 - 3*K_3*h**3/32 + 2*(h/4 + 1)**(4/h) - (h/2 + 1)**(2/h)"
      ]
     },
     "metadata": {},
     "output_type": "display_data"
    },
    {
     "data": {
      "text/latex": [
       "$\\displaystyle - \\frac{K_{2} h^{2}}{8} - \\frac{3 K_{3} h^{3}}{32} + 2 \\left(\\frac{h}{4} + 1\\right)^{\\frac{4}{h}} - \\left(\\frac{h}{2} + 1\\right)^{\\frac{2}{h}}$"
      ],
      "text/plain": [
       "-K_2*h**2/8 - 3*K_3*h**3/32 + 2*(h/4 + 1)**(4/h) - (h/2 + 1)**(2/h)"
      ]
     },
     "metadata": {},
     "output_type": "display_data"
    },
    {
     "data": {
      "text/plain": [
       "(2, 2)"
      ]
     },
     "metadata": {},
     "output_type": "display_data"
    },
    {
     "data": {
      "text/latex": [
       "$\\displaystyle - \\frac{K_{2} h^{2}}{2} - \\frac{3 K_{3} h^{3}}{4} + 2 \\left(\\frac{h}{2} + 1\\right)^{\\frac{2}{h}} - \\left(h + 1\\right)^{\\frac{1}{h}}$"
      ],
      "text/plain": [
       "-K_2*h**2/2 - 3*K_3*h**3/4 + 2*(h/2 + 1)**(2/h) - (h + 1)**(1/h)"
      ]
     },
     "metadata": {},
     "output_type": "display_data"
    },
    {
     "data": {
      "text/latex": [
       "$\\displaystyle - \\frac{K_{2} h^{2}}{8} - \\frac{3 K_{3} h^{3}}{32} + 2 \\left(\\frac{h}{4} + 1\\right)^{\\frac{4}{h}} - \\left(\\frac{h}{2} + 1\\right)^{\\frac{2}{h}}$"
      ],
      "text/plain": [
       "-K_2*h**2/8 - 3*K_3*h**3/32 + 2*(h/4 + 1)**(4/h) - (h/2 + 1)**(2/h)"
      ]
     },
     "metadata": {},
     "output_type": "display_data"
    },
    {
     "data": {
      "text/latex": [
       "$\\displaystyle - \\frac{K_{2} h^{2}}{2} - \\frac{3 K_{3} h^{3}}{8} + 8 \\left(\\frac{h}{4} + 1\\right)^{\\frac{4}{h}} - 4 \\left(\\frac{h}{2} + 1\\right)^{\\frac{2}{h}}$"
      ],
      "text/plain": [
       "-K_2*h**2/2 - 3*K_3*h**3/8 + 8*(h/4 + 1)**(4/h) - 4*(h/2 + 1)**(2/h)"
      ]
     },
     "metadata": {},
     "output_type": "display_data"
    },
    {
     "data": {
      "text/latex": [
       "$\\displaystyle \\frac{3 K_{3} h^{3}}{8} + 8 \\left(\\frac{h}{4} + 1\\right)^{\\frac{4}{h}} - 6 \\left(\\frac{h}{2} + 1\\right)^{\\frac{2}{h}} + \\left(h + 1\\right)^{\\frac{1}{h}}$"
      ],
      "text/plain": [
       "3*K_3*h**3/8 + 8*(h/4 + 1)**(4/h) - 6*(h/2 + 1)**(2/h) + (h + 1)**(1/h)"
      ]
     },
     "metadata": {},
     "output_type": "display_data"
    },
    {
     "data": {
      "text/latex": [
       "$\\displaystyle \\frac{K_{3} h^{3}}{8} + \\frac{8 \\left(\\frac{h}{4} + 1\\right)^{\\frac{4}{h}}}{3} - 2 \\left(\\frac{h}{2} + 1\\right)^{\\frac{2}{h}} + \\frac{\\left(h + 1\\right)^{\\frac{1}{h}}}{3}$"
      ],
      "text/plain": [
       "K_3*h**3/8 + 8*(h/4 + 1)**(4/h)/3 - 2*(h/2 + 1)**(2/h) + (h + 1)**(1/h)/3"
      ]
     },
     "metadata": {},
     "output_type": "display_data"
    }
   ],
   "source": [
    "def richardsons(main_term, err_coefs, n, step, factor):\n",
    "    terms =  functools.reduce(lambda a, b: a + b, [err_coefs[i] * h ** (i+1) for i in range(len(err_coefs))])\n",
    "    data = np.zeros((n, n), dtype='object')\n",
    "    data[0][0] = main_term(step) + terms\n",
    "    for i in range(1, n):\n",
    "        step /= factor\n",
    "        data[0][i] = main_term(step) + terms.subs(h, step)\n",
    "    \n",
    "    display(data)\n",
    "    \n",
    "    for i in range(1, n):\n",
    "        for j in range(i, n):\n",
    "            display((i, j))\n",
    "            data[i][j] = extrapolate(data[i-1][j-1], data[i-1][j], n)\n",
    "            display(data[i][j])\n",
    "    \n",
    "    return data\n",
    "data = richardsons(lambda a: (1 + a) ** (1/a),  K, n, h, 2)"
   ]
  },
  {
   "cell_type": "code",
   "execution_count": 11,
   "metadata": {},
   "outputs": [
    {
     "data": {
      "text/plain": [
       "array([[K_1*h + K_2*h**2 + K_3*h**3 + (h + 1)**(1/h),\n",
       "        K_1*h/2 + K_2*h**2/4 + K_3*h**3/8 + (h/2 + 1)**(2/h),\n",
       "        K_1*h/4 + K_2*h**2/16 + K_3*h**3/64 + (h/4 + 1)**(4/h)],\n",
       "       [0,\n",
       "        -K_2*h**2/2 - 3*K_3*h**3/4 + 2*(h/2 + 1)**(2/h) - (h + 1)**(1/h),\n",
       "        -K_2*h**2/8 - 3*K_3*h**3/32 + 2*(h/4 + 1)**(4/h) - (h/2 + 1)**(2/h)],\n",
       "       [0, 0,\n",
       "        K_3*h**3/8 + 8*(h/4 + 1)**(4/h)/3 - 2*(h/2 + 1)**(2/h) + (h + 1)**(1/h)/3]],\n",
       "      dtype=object)"
      ]
     },
     "execution_count": 11,
     "metadata": {},
     "output_type": "execute_result"
    }
   ],
   "source": [
    "data"
   ]
  },
  {
   "cell_type": "code",
   "execution_count": 6,
   "metadata": {},
   "outputs": [
    {
     "data": {
      "text/plain": [
       "2.718281828459045"
      ]
     },
     "execution_count": 6,
     "metadata": {},
     "output_type": "execute_result"
    }
   ],
   "source": [
    "math.e"
   ]
  },
  {
   "cell_type": "code",
   "execution_count": 17,
   "metadata": {},
   "outputs": [
    {
     "name": "stdout",
     "output_type": "stream",
     "text": [
      " N_1(h) &= K_{1} h + K_{2} h^{2} + K_{3} h^{3} + \\left(h + 1\\right)^{\\frac{1}{h}}\\\\\n",
      " N_1(0.04) &= 0.04 K_{1} + 0.0016 K_{2} + 6.4 \\cdot 10^{-5} K_{3} + 2.665836\\\\\n",
      " N_2(h) &= - \\frac{K_{2} h^{2}}{2} - \\frac{3 K_{3} h^{3}}{4} + 2 \\left(\\frac{h}{2} + 1\\right)^{\\frac{2}{h}} - \\left(h + 1\\right)^{\\frac{1}{h}}\\\\\n",
      " N_2(0.04) &= - 0.0008 K_{2} - 4.8 \\cdot 10^{-5} K_{3} + 2.71734\\\\\n",
      " N_3(h) &= \\frac{K_{3} h^{3}}{8} + \\frac{8 \\left(\\frac{h}{4} + 1\\right)^{\\frac{4}{h}}}{3} - 2 \\left(\\frac{h}{2} + 1\\right)^{\\frac{2}{h}} + \\frac{\\left(h + 1\\right)^{\\frac{1}{h}}}{3}\\\\\n",
      " N_3(0.04) &= 8.0 \\cdot 10^{-6} K_{3} + 2.718273\\\\\n",
      "\n"
     ]
    }
   ],
   "source": [
    "lstr = ''\n",
    "for i in range(n):\n",
    "    s, k = h, 0.04\n",
    "    lstr += f' N_{i+1}({s}) &= {latex(eq_round(data[i][i]))}' + r'\\\\'\n",
    "    lstr += \"\"\"\\n\"\"\"\n",
    "    lstr += f' N_{i+1}({k}) &= {latex(eq_round(data[i][i].subs(h, k)))}' + r'\\\\'\n",
    "    lstr += \"\"\"\\n\"\"\"\n",
    "    s /= 2\n",
    "    k /= 2\n",
    "print(lstr)"
   ]
  },
  {
   "cell_type": "code",
   "execution_count": 14,
   "metadata": {},
   "outputs": [
    {
     "data": {
      "text/latex": [
       "$\\displaystyle 0.04 K_{1} + 0.0016 K_{2} + 6.4 \\cdot 10^{-5} K_{3} + 2.66583633148742$"
      ],
      "text/plain": [
       "0.04*K_1 + 0.0016*K_2 + 6.4e-5*K_3 + 2.66583633148742"
      ]
     },
     "metadata": {},
     "output_type": "display_data"
    },
    {
     "data": {
      "text/latex": [
       "$\\displaystyle 0.02 K_{1} + 0.0004 K_{2} + 8.0 \\cdot 10^{-6} K_{3} + 2.69158802907361$"
      ],
      "text/plain": [
       "0.02*K_1 + 0.0004*K_2 + 8.0e-6*K_3 + 2.69158802907361"
      ]
     },
     "metadata": {},
     "output_type": "display_data"
    },
    {
     "data": {
      "text/latex": [
       "$\\displaystyle 0.01 K_{1} + 0.0001 K_{2} + 1.0 \\cdot 10^{-6} K_{3} + 2.70481382942153$"
      ],
      "text/plain": [
       "0.01*K_1 + 0.0001*K_2 + 1.0e-6*K_3 + 2.70481382942153"
      ]
     },
     "metadata": {},
     "output_type": "display_data"
    },
    {
     "data": {
      "text/latex": [
       "$\\displaystyle - 0.0008 K_{2} - 4.8 \\cdot 10^{-5} K_{3} + 2.71733972665979$"
      ],
      "text/plain": [
       "-0.0008*K_2 - 4.8e-5*K_3 + 2.71733972665979"
      ]
     },
     "metadata": {},
     "output_type": "display_data"
    },
    {
     "data": {
      "text/latex": [
       "$\\displaystyle - 0.0002 K_{2} - 6.0 \\cdot 10^{-6} K_{3} + 2.71803962976945$"
      ],
      "text/plain": [
       "-0.0002*K_2 - 6.0e-6*K_3 + 2.71803962976945"
      ]
     },
     "metadata": {},
     "output_type": "display_data"
    },
    {
     "data": {
      "text/latex": [
       "$\\displaystyle 8.0 \\cdot 10^{-6} K_{3} + 2.718272930806$"
      ],
      "text/plain": [
       "8.0e-6*K_3 + 2.718272930806"
      ]
     },
     "metadata": {},
     "output_type": "display_data"
    }
   ],
   "source": [
    "for i in range(len(data)):\n",
    "    for j in range(i, len(data)):\n",
    "        display(data[i][j].subs(h, 0.04))"
   ]
  },
  {
   "cell_type": "code",
   "execution_count": null,
   "metadata": {},
   "outputs": [],
   "source": []
  }
 ],
 "metadata": {
  "kernelspec": {
   "display_name": "Python 3",
   "language": "python",
   "name": "python3"
  },
  "language_info": {
   "codemirror_mode": {
    "name": "ipython",
    "version": 3
   },
   "file_extension": ".py",
   "mimetype": "text/x-python",
   "name": "python",
   "nbconvert_exporter": "python",
   "pygments_lexer": "ipython3",
   "version": "3.7.3"
  },
  "latex_envs": {
   "LaTeX_envs_menu_present": true,
   "autoclose": true,
   "autocomplete": true,
   "bibliofile": "biblio.bib",
   "cite_by": "apalike",
   "current_citInitial": 1,
   "eqLabelWithNumbers": true,
   "eqNumInitial": 1,
   "hotkeys": {
    "equation": "Ctrl-E",
    "itemize": "Ctrl-I"
   },
   "labels_anchors": false,
   "latex_user_defs": false,
   "report_style_numbering": false,
   "user_envs_cfg": false
  }
 },
 "nbformat": 4,
 "nbformat_minor": 2
}
