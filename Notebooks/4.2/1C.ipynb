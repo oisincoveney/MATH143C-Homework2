{
 "cells": [
  {
   "cell_type": "code",
   "execution_count": 249,
   "metadata": {},
   "outputs": [],
   "source": [
    "X = 1.\n",
    "FX = lambda k: (2 ** k) * math.sin(k)\n",
    "h = 0.4"
   ]
  },
  {
   "cell_type": "code",
   "execution_count": 250,
   "metadata": {},
   "outputs": [
    {
     "data": {
      "text/plain": [
       "(1.05, 0.4)"
      ]
     },
     "execution_count": 250,
     "metadata": {},
     "output_type": "execute_result"
    }
   ],
   "source": [
    "X, h"
   ]
  },
  {
   "cell_type": "code",
   "execution_count": 251,
   "metadata": {},
   "outputs": [],
   "source": [
    "n = 3"
   ]
  },
  {
   "cell_type": "code",
   "execution_count": 252,
   "metadata": {},
   "outputs": [],
   "source": [
    "fwd = lambda a, b, fa, fb: (fb -fa) / (b - a)"
   ]
  },
  {
   "cell_type": "code",
   "execution_count": 253,
   "metadata": {},
   "outputs": [],
   "source": [
    "d = []"
   ]
  },
  {
   "cell_type": "code",
   "execution_count": 254,
   "metadata": {},
   "outputs": [],
   "source": [
    "step = h\n",
    "di = []\n",
    "for i in range(n + 1):\n",
    "    di.append(fwd(X, X+step, FX(X), FX(X+step)))\n",
    "    step /= 2\n",
    "d.append(di)"
   ]
  },
  {
   "cell_type": "code",
   "execution_count": 255,
   "metadata": {},
   "outputs": [],
   "source": [
    "di2 = []\n",
    "for i in range(n):\n",
    "    di2.append(2 * d[0][i+1] - d[0][i])"
   ]
  },
  {
   "cell_type": "code",
   "execution_count": 256,
   "metadata": {},
   "outputs": [],
   "source": [
    "d.append(di2)"
   ]
  },
  {
   "cell_type": "code",
   "execution_count": 257,
   "metadata": {},
   "outputs": [
    {
     "data": {
      "text/plain": [
       "[[2.290365347887896,\n",
       "  2.3052642178298006,\n",
       "  2.295243274692007,\n",
       "  2.2863823419216556],\n",
       " [2.3201630877717054, 2.2852223315542135, 2.277521409151304]]"
      ]
     },
     "execution_count": 257,
     "metadata": {},
     "output_type": "execute_result"
    }
   ],
   "source": [
    "d"
   ]
  },
  {
   "cell_type": "code",
   "execution_count": 317,
   "metadata": {},
   "outputs": [
    {
     "name": "stdout",
     "output_type": "stream",
     "text": [
      "[[2.29036535 2.30526422 2.29524327]\n",
      " [0.         0.         0.        ]\n",
      " [0.         0.         0.        ]]\n",
      "\\begin{array}\n",
      "  2.290365 &  0.000000 &  0.000000\\\\\n",
      "  2.305264 &  2.305501 &  0.000000\\\\\n",
      "  2.295243 &  2.295084 &  2.295074\n",
      "\\end{array}\n"
     ]
    }
   ],
   "source": [
    "def fwd_richardson(F, X, h, n, deriv_formula=fwd):\n",
    "    data = np.zeros((n, n))\n",
    "#     for i in range(n):\n",
    "#         for j in range(i+1):\n",
    "#             if j == i - 1:\n",
    "#                 data[i][j] = data[i][j-1] + (data[i][j-1] - data[i-1][j-1]) / (4 ** (j-1) - 1)\n",
    "#             elif j == 0:\n",
    "#                 data[i][j] = deriv_formula(X, X+step, FX(X), FX(X+step))\n",
    "#                 step /= 2\n",
    "#             else:\n",
    "#                 data[i][j] = (2) * (data[i][j-1]) - data[i-1][j-1]\n",
    "#             print(i, j, data[i][j])\n",
    "    step = h\n",
    "\n",
    "    for j in range(n):\n",
    "        data[0, j] = deriv_formula(X, X+step, FX(X), FX(X+step))\n",
    "        step /= 2\n",
    "    \n",
    "    print(data)\n",
    "        \n",
    "    ex = 4\n",
    "    for i in range(1, n):\n",
    "        for j in range(i, n):\n",
    "#             print(f\"{i} {j} {j-i}\\t{data[i, j-1]}\\t\\t\\t{data[i-1, j-1]}\")\n",
    "#             data[i,j] = abs((2 ** (j-i)) * data[i-1, j] - data[i-1, j-1])\n",
    "#             print(i, j, 2*(i + 1) - 1, data[i-1, j], data[i-1, j-1])\n",
    "            data[i, j] = data[i-1, j] + (data[i-1, j] - data[i-1, j-1]) / (pow(4, 2 * (i+1) - 1) - 1)\n",
    "#             print(data)\n",
    "        \n",
    "    return data\n",
    "    \n",
    "    \n",
    "data = fwd_richardson(FX, X, h, 3)\n",
    "atl(data.transpose())"
   ]
  },
  {
   "cell_type": "markdown",
   "metadata": {},
   "source": [
    "Pt 2 of me trying to figure this out"
   ]
  },
  {
   "cell_type": "code",
   "execution_count": 195,
   "metadata": {},
   "outputs": [],
   "source": [
    "M, N, K1, K2, K3, h = symbols('M, N, K_1, K_2, K_3, h')"
   ]
  },
  {
   "cell_type": "code",
   "execution_count": 196,
   "metadata": {},
   "outputs": [
    {
     "data": {
      "text/latex": [
       "$\\displaystyle M = K_{1} h^{2} + K_{2} h^{4} + K_{3} h^{6} + N h$"
      ],
      "text/plain": [
       "Eq(M, K_1*h**2 + K_2*h**4 + K_3*h**6 + N*h)"
      ]
     },
     "execution_count": 196,
     "metadata": {},
     "output_type": "execute_result"
    }
   ],
   "source": [
    "eq1 = Eq(M, N*h + K1 * h**2 + K2 * h ** 4 + K3* h ** 6)\n",
    "eq1"
   ]
  },
  {
   "cell_type": "code",
   "execution_count": 197,
   "metadata": {},
   "outputs": [
    {
     "data": {
      "text/latex": [
       "$\\displaystyle M = \\frac{K_{1} h^{2}}{4} + \\frac{K_{2} h^{4}}{16} + \\frac{K_{3} h^{6}}{64} + \\frac{N h}{2}$"
      ],
      "text/plain": [
       "Eq(M, K_1*h**2/4 + K_2*h**4/16 + K_3*h**6/64 + N*h/2)"
      ]
     },
     "execution_count": 197,
     "metadata": {},
     "output_type": "execute_result"
    }
   ],
   "source": [
    "eq2 = eq1.subs([(h, h / 2)])\n",
    "eq2"
   ]
  },
  {
   "cell_type": "code",
   "execution_count": 202,
   "metadata": {},
   "outputs": [],
   "source": [
    "eq3 = Eq((4 * eq2.lhs - eq1.lhs) / 3, (4 * eq2.rhs - eq1.rhs) / 3)"
   ]
  },
  {
   "cell_type": "code",
   "execution_count": 206,
   "metadata": {},
   "outputs": [
    {
     "data": {
      "text/latex": [
       "$\\displaystyle M = - \\frac{K_{2} h^{4}}{4} - \\frac{5 K_{3} h^{6}}{16} + \\frac{N h}{3}$"
      ],
      "text/plain": [
       "Eq(M, -K_2*h**4/4 - 5*K_3*h**6/16 + N*h/3)"
      ]
     },
     "metadata": {},
     "output_type": "display_data"
    },
    {
     "data": {
      "text/latex": [
       "$\\displaystyle M = - \\frac{K_{2} h^{4}}{64} - \\frac{5 K_{3} h^{6}}{1024} + \\frac{N h}{6}$"
      ],
      "text/plain": [
       "Eq(M, -K_2*h**4/64 - 5*K_3*h**6/1024 + N*h/6)"
      ]
     },
     "metadata": {},
     "output_type": "display_data"
    }
   ],
   "source": [
    "eq4 = eq3.subs([(h, h/2)])\n",
    "display(eq3, eq4)"
   ]
  },
  {
   "cell_type": "code",
   "execution_count": 247,
   "metadata": {},
   "outputs": [
    {
     "data": {
      "text/latex": [
       "$\\displaystyle M = \\frac{K_{3} h^{6}}{64} + \\frac{7 N h}{45}$"
      ],
      "text/plain": [
       "Eq(M, K_3*h**6/64 + 7*N*h/45)"
      ]
     },
     "execution_count": 247,
     "metadata": {},
     "output_type": "execute_result"
    }
   ],
   "source": [
    "Eq(M, solveset(eq4.rewrite(Add) * 16 - eq3.rewrite(Add), M).args[0])"
   ]
  },
  {
   "cell_type": "code",
   "execution_count": 218,
   "metadata": {},
   "outputs": [
    {
     "data": {
      "text/plain": [
       "['__abs__',\n",
       " '__add__',\n",
       " '__class__',\n",
       " '__complex__',\n",
       " '__delattr__',\n",
       " '__dir__',\n",
       " '__div__',\n",
       " '__divmod__',\n",
       " '__doc__',\n",
       " '__eq__',\n",
       " '__float__',\n",
       " '__floordiv__',\n",
       " '__format__',\n",
       " '__ge__',\n",
       " '__getattribute__',\n",
       " '__getnewargs__',\n",
       " '__getstate__',\n",
       " '__gt__',\n",
       " '__hash__',\n",
       " '__init__',\n",
       " '__init_subclass__',\n",
       " '__int__',\n",
       " '__le__',\n",
       " '__long__',\n",
       " '__lt__',\n",
       " '__mod__',\n",
       " '__module__',\n",
       " '__mul__',\n",
       " '__ne__',\n",
       " '__neg__',\n",
       " '__new__',\n",
       " '__pos__',\n",
       " '__pow__',\n",
       " '__radd__',\n",
       " '__rdiv__',\n",
       " '__rdivmod__',\n",
       " '__reduce__',\n",
       " '__reduce_ex__',\n",
       " '__repr__',\n",
       " '__rfloordiv__',\n",
       " '__rmod__',\n",
       " '__rmul__',\n",
       " '__rpow__',\n",
       " '__rsub__',\n",
       " '__rtruediv__',\n",
       " '__setattr__',\n",
       " '__setstate__',\n",
       " '__sizeof__',\n",
       " '__slots__',\n",
       " '__str__',\n",
       " '__sub__',\n",
       " '__subclasshook__',\n",
       " '__truediv__',\n",
       " '__trunc__',\n",
       " '_accept_eval_derivative',\n",
       " '_args',\n",
       " '_assumptions',\n",
       " '_combine_inverse',\n",
       " '_compare_pretty',\n",
       " '_constructor_postprocessor_mapping',\n",
       " '_diff_wrt',\n",
       " '_eval_adjoint',\n",
       " '_eval_as_leading_term',\n",
       " '_eval_conjugate',\n",
       " '_eval_derivative',\n",
       " '_eval_derivative_matrix_lines',\n",
       " '_eval_derivative_n_times',\n",
       " '_eval_difference_delta',\n",
       " '_eval_evalf',\n",
       " '_eval_expand_complex',\n",
       " '_eval_expand_mul',\n",
       " '_eval_herm_antiherm',\n",
       " '_eval_interval',\n",
       " '_eval_is_algebraic',\n",
       " '_eval_is_algebraic_expr',\n",
       " '_eval_is_antihermitian',\n",
       " '_eval_is_commutative',\n",
       " '_eval_is_complex',\n",
       " '_eval_is_composite',\n",
       " '_eval_is_even',\n",
       " '_eval_is_finite',\n",
       " '_eval_is_hermitian',\n",
       " '_eval_is_imaginary',\n",
       " '_eval_is_infinite',\n",
       " '_eval_is_integer',\n",
       " '_eval_is_irrational',\n",
       " '_eval_is_negative',\n",
       " '_eval_is_odd',\n",
       " '_eval_is_polar',\n",
       " '_eval_is_polynomial',\n",
       " '_eval_is_positive',\n",
       " '_eval_is_rational',\n",
       " '_eval_is_rational_function',\n",
       " '_eval_is_real',\n",
       " '_eval_is_zero',\n",
       " '_eval_lseries',\n",
       " '_eval_nseries',\n",
       " '_eval_pos_neg',\n",
       " '_eval_power',\n",
       " '_eval_real_imag',\n",
       " '_eval_rewrite',\n",
       " '_eval_subs',\n",
       " '_eval_transpose',\n",
       " '_evalf',\n",
       " '_exec_constructor_postprocessors',\n",
       " '_expand_hint',\n",
       " '_expandsums',\n",
       " '_explicit_class_assumptions',\n",
       " '_from_args',\n",
       " '_from_mpmath',\n",
       " '_has',\n",
       " '_has_matcher',\n",
       " '_hashable_content',\n",
       " '_matches',\n",
       " '_matches_commutative',\n",
       " '_matches_simple',\n",
       " '_mhash',\n",
       " '_mpc_',\n",
       " '_new_rawargs',\n",
       " '_op_priority',\n",
       " '_parse_order',\n",
       " '_pow',\n",
       " '_prop_handler',\n",
       " '_random',\n",
       " '_recursive_call',\n",
       " '_repr_latex_',\n",
       " '_repr_latex_orig',\n",
       " '_sage_',\n",
       " '_sorted_args',\n",
       " '_subs',\n",
       " '_to_mpmath',\n",
       " '_visit_eval_derivative_array',\n",
       " '_visit_eval_derivative_scalar',\n",
       " '_xreplace',\n",
       " 'adjoint',\n",
       " 'apart',\n",
       " 'args',\n",
       " 'args_cnc',\n",
       " 'as_base_exp',\n",
       " 'as_coeff_Add',\n",
       " 'as_coeff_Mul',\n",
       " 'as_coeff_add',\n",
       " 'as_coeff_exponent',\n",
       " 'as_coeff_mul',\n",
       " 'as_coefficient',\n",
       " 'as_coefficients_dict',\n",
       " 'as_content_primitive',\n",
       " 'as_dummy',\n",
       " 'as_expr',\n",
       " 'as_independent',\n",
       " 'as_leading_term',\n",
       " 'as_numer_denom',\n",
       " 'as_ordered_factors',\n",
       " 'as_ordered_terms',\n",
       " 'as_poly',\n",
       " 'as_powers_dict',\n",
       " 'as_real_imag',\n",
       " 'as_terms',\n",
       " 'as_two_terms',\n",
       " 'assumptions0',\n",
       " 'atoms',\n",
       " 'cancel',\n",
       " 'canonical_variables',\n",
       " 'class_key',\n",
       " 'coeff',\n",
       " 'collect',\n",
       " 'combsimp',\n",
       " 'compare',\n",
       " 'compute_leading_term',\n",
       " 'conjugate',\n",
       " 'copy',\n",
       " 'could_extract_minus_sign',\n",
       " 'count',\n",
       " 'count_ops',\n",
       " 'default_assumptions',\n",
       " 'diff',\n",
       " 'doit',\n",
       " 'dummy_eq',\n",
       " 'equals',\n",
       " 'evalf',\n",
       " 'expand',\n",
       " 'expr_free_symbols',\n",
       " 'extract_additively',\n",
       " 'extract_branch_factor',\n",
       " 'extract_multiplicatively',\n",
       " 'factor',\n",
       " 'find',\n",
       " 'flatten',\n",
       " 'fourier_series',\n",
       " 'fps',\n",
       " 'free_symbols',\n",
       " 'fromiter',\n",
       " 'func',\n",
       " 'gammasimp',\n",
       " 'getO',\n",
       " 'getn',\n",
       " 'has',\n",
       " 'identity',\n",
       " 'integrate',\n",
       " 'invert',\n",
       " 'is_Add',\n",
       " 'is_AlgebraicNumber',\n",
       " 'is_Atom',\n",
       " 'is_Boolean',\n",
       " 'is_Derivative',\n",
       " 'is_Dummy',\n",
       " 'is_Equality',\n",
       " 'is_Float',\n",
       " 'is_Function',\n",
       " 'is_Indexed',\n",
       " 'is_Integer',\n",
       " 'is_MatAdd',\n",
       " 'is_MatMul',\n",
       " 'is_Matrix',\n",
       " 'is_Mul',\n",
       " 'is_Not',\n",
       " 'is_Number',\n",
       " 'is_NumberSymbol',\n",
       " 'is_Order',\n",
       " 'is_Piecewise',\n",
       " 'is_Point',\n",
       " 'is_Poly',\n",
       " 'is_Pow',\n",
       " 'is_Rational',\n",
       " 'is_Relational',\n",
       " 'is_Symbol',\n",
       " 'is_Vector',\n",
       " 'is_Wild',\n",
       " 'is_algebraic',\n",
       " 'is_algebraic_expr',\n",
       " 'is_antihermitian',\n",
       " 'is_commutative',\n",
       " 'is_comparable',\n",
       " 'is_complex',\n",
       " 'is_composite',\n",
       " 'is_constant',\n",
       " 'is_even',\n",
       " 'is_finite',\n",
       " 'is_hermitian',\n",
       " 'is_hypergeometric',\n",
       " 'is_imaginary',\n",
       " 'is_infinite',\n",
       " 'is_integer',\n",
       " 'is_irrational',\n",
       " 'is_negative',\n",
       " 'is_noninteger',\n",
       " 'is_nonnegative',\n",
       " 'is_nonpositive',\n",
       " 'is_nonzero',\n",
       " 'is_number',\n",
       " 'is_odd',\n",
       " 'is_polar',\n",
       " 'is_polynomial',\n",
       " 'is_positive',\n",
       " 'is_prime',\n",
       " 'is_rational',\n",
       " 'is_rational_function',\n",
       " 'is_real',\n",
       " 'is_scalar',\n",
       " 'is_symbol',\n",
       " 'is_transcendental',\n",
       " 'is_zero',\n",
       " 'leadterm',\n",
       " 'limit',\n",
       " 'lseries',\n",
       " 'make_args',\n",
       " 'match',\n",
       " 'matches',\n",
       " 'n',\n",
       " 'normal',\n",
       " 'nseries',\n",
       " 'nsimplify',\n",
       " 'powsimp',\n",
       " 'primitive',\n",
       " 'radsimp',\n",
       " 'ratsimp',\n",
       " 'rcall',\n",
       " 'refine',\n",
       " 'removeO',\n",
       " 'replace',\n",
       " 'rewrite',\n",
       " 'round',\n",
       " 'separate',\n",
       " 'series',\n",
       " 'simplify',\n",
       " 'sort_key',\n",
       " 'subs',\n",
       " 'taylor_term',\n",
       " 'together',\n",
       " 'transpose',\n",
       " 'trigsimp',\n",
       " 'xreplace']"
      ]
     },
     "execution_count": 218,
     "metadata": {},
     "output_type": "execute_result"
    }
   ],
   "source": [
    "dir(16 * eq4)"
   ]
  }
 ],
 "metadata": {
  "kernelspec": {
   "display_name": "Python 3",
   "language": "python",
   "name": "python3"
  },
  "language_info": {
   "codemirror_mode": {
    "name": "ipython",
    "version": 3
   },
   "file_extension": ".py",
   "mimetype": "text/x-python",
   "name": "python",
   "nbconvert_exporter": "python",
   "pygments_lexer": "ipython3",
   "version": "3.7.3"
  },
  "latex_envs": {
   "LaTeX_envs_menu_present": true,
   "autoclose": true,
   "autocomplete": true,
   "bibliofile": "biblio.bib",
   "cite_by": "apalike",
   "current_citInitial": 1,
   "eqLabelWithNumbers": true,
   "eqNumInitial": 1,
   "hotkeys": {
    "equation": "Ctrl-E",
    "itemize": "Ctrl-I"
   },
   "labels_anchors": false,
   "latex_user_defs": false,
   "report_style_numbering": false,
   "user_envs_cfg": false
  }
 },
 "nbformat": 4,
 "nbformat_minor": 2
}
