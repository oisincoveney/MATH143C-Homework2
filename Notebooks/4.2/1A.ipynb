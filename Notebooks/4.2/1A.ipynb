{
 "cells": [
  {
   "cell_type": "code",
   "execution_count": 1,
   "metadata": {},
   "outputs": [],
   "source": [
    "X = 1\n",
    "FX = lambda k: np.log(k)\n",
    "h = 0.4"
   ]
  },
  {
   "cell_type": "code",
   "execution_count": 2,
   "metadata": {},
   "outputs": [],
   "source": [
    "def richardson( f, x, n, h ):\n",
    "    \"\"\"Richardson's Extrapolation to approximate  f'(x) at a particular x.\n",
    "\n",
    "    USAGE:\n",
    "\td = richardson( f, x, n, h )\n",
    "\n",
    "    INPUT:\n",
    "\tf\t- function to find derivative of\n",
    "\tx\t- value of x to find derivative at\n",
    "\tn\t- number of levels of extrapolation\n",
    "\th\t- initial stepsize\n",
    "\n",
    "    OUTPUT:\n",
    "        np float array -  two-dimensional array of extrapolation values.\n",
    "                             The [n,n] value of this array should be the\n",
    "                             most accurate estimate of f'(x).\n",
    "\n",
    "    NOTES:                             \n",
    "        Based on an algorithm in \"Numerical Mathematics and Computing\"\n",
    "        4th Edition, by Cheney and Kincaid, Brooks-Cole, 1999.\n",
    "\n",
    "    AUTHOR:\n",
    "        Jonathan R. Senning <jonathan.senning@gordon.edu>\n",
    "        Gordon College\n",
    "        February 9, 1999\n",
    "        Converted ty Python August 2008\n",
    "    \"\"\"\n",
    "\n",
    "    # d[n,n] will contain the most accurate approximation to f'(x).\n",
    "\n",
    "    d = np.array( [[0] * (n + 1)] * (n + 1), float )\n",
    "    print(d)\n",
    "\n",
    "    for i in range( n + 1 ):\n",
    "        d[i,0] = 0.5 * ( f( x + h ) - f( x - h ) ) / h\n",
    "        print(d)\n",
    "\n",
    "        powerOf4 = 1  # values of 4^j\n",
    "        for j in range( 1, i + 1 ):\n",
    "            powerOf4 = 4 * powerOf4\n",
    "            d[i,j] = d[i,j-1] + ( d[i,j-1] - d[i-1,j-1] ) / ( powerOf4 - 1 )\n",
    "            print(d)\n",
    "\n",
    "        h = 0.5 * h\n",
    "\n",
    "    return d"
   ]
  },
  {
   "cell_type": "code",
   "execution_count": 3,
   "metadata": {},
   "outputs": [
    {
     "name": "stdout",
     "output_type": "stream",
     "text": [
      "[[0. 0. 0. 0.]\n",
      " [0. 0. 0. 0.]\n",
      " [0. 0. 0. 0.]\n",
      " [0. 0. 0. 0.]]\n",
      "[[1.05912233 0.         0.         0.        ]\n",
      " [0.         0.         0.         0.        ]\n",
      " [0.         0.         0.         0.        ]\n",
      " [0.         0.         0.         0.        ]]\n",
      "[[1.05912233 0.         0.         0.        ]\n",
      " [1.01366277 0.         0.         0.        ]\n",
      " [0.         0.         0.         0.        ]\n",
      " [0.         0.         0.         0.        ]]\n",
      "[[1.05912233 0.         0.         0.        ]\n",
      " [1.01366277 0.99850959 0.         0.        ]\n",
      " [0.         0.         0.         0.        ]\n",
      " [0.         0.         0.         0.        ]]\n",
      "[[1.05912233 0.         0.         0.        ]\n",
      " [1.01366277 0.99850959 0.         0.        ]\n",
      " [1.00335348 0.         0.         0.        ]\n",
      " [0.         0.         0.         0.        ]]\n",
      "[[1.05912233 0.         0.         0.        ]\n",
      " [1.01366277 0.99850959 0.         0.        ]\n",
      " [1.00335348 0.99991705 0.         0.        ]\n",
      " [0.         0.         0.         0.        ]]\n",
      "[[1.05912233 0.         0.         0.        ]\n",
      " [1.01366277 0.99850959 0.         0.        ]\n",
      " [1.00335348 0.99991705 1.00001088 0.        ]\n",
      " [0.         0.         0.         0.        ]]\n",
      "[[1.05912233 0.         0.         0.        ]\n",
      " [1.01366277 0.99850959 0.         0.        ]\n",
      " [1.00335348 0.99991705 1.00001088 0.        ]\n",
      " [1.00083459 0.         0.         0.        ]]\n",
      "[[1.05912233 0.         0.         0.        ]\n",
      " [1.01366277 0.99850959 0.         0.        ]\n",
      " [1.00335348 0.99991705 1.00001088 0.        ]\n",
      " [1.00083459 0.99999495 0.         0.        ]]\n",
      "[[1.05912233 0.         0.         0.        ]\n",
      " [1.01366277 0.99850959 0.         0.        ]\n",
      " [1.00335348 0.99991705 1.00001088 0.        ]\n",
      " [1.00083459 0.99999495 1.00000015 0.        ]]\n",
      "[[1.05912233 0.         0.         0.        ]\n",
      " [1.01366277 0.99850959 0.         0.        ]\n",
      " [1.00335348 0.99991705 1.00001088 0.        ]\n",
      " [1.00083459 0.99999495 1.00000015 0.99999998]]\n"
     ]
    },
    {
     "data": {
      "text/plain": [
       "array([[1.05912233, 0.        , 0.        , 0.        ],\n",
       "       [1.01366277, 0.99850959, 0.        , 0.        ],\n",
       "       [1.00335348, 0.99991705, 1.00001088, 0.        ],\n",
       "       [1.00083459, 0.99999495, 1.00000015, 0.99999998]])"
      ]
     },
     "execution_count": 3,
     "metadata": {},
     "output_type": "execute_result"
    }
   ],
   "source": [
    "# cant use this, this is center diff. not forward diff\n",
    "richardson(FX, X, 3, h)"
   ]
  },
  {
   "cell_type": "code",
   "execution_count": 4,
   "metadata": {},
   "outputs": [
    {
     "data": {
      "text/plain": [
       "(1, 0.4)"
      ]
     },
     "execution_count": 4,
     "metadata": {},
     "output_type": "execute_result"
    }
   ],
   "source": [
    "X, h"
   ]
  },
  {
   "cell_type": "code",
   "execution_count": 5,
   "metadata": {},
   "outputs": [],
   "source": [
    "n = 5"
   ]
  },
  {
   "cell_type": "code",
   "execution_count": 6,
   "metadata": {},
   "outputs": [],
   "source": [
    "fwd = lambda a, b, fa, fb: (fb -fa) / (b - a)"
   ]
  },
  {
   "cell_type": "code",
   "execution_count": 7,
   "metadata": {},
   "outputs": [],
   "source": [
    "d = []"
   ]
  },
  {
   "cell_type": "code",
   "execution_count": 8,
   "metadata": {},
   "outputs": [],
   "source": [
    "step = h\n",
    "di = []\n",
    "for i in range(n + 1):\n",
    "    di.append(fwd(X, X+step, FX(X), FX(X+step)))\n",
    "    step /= 2\n",
    "d.append(di)"
   ]
  },
  {
   "cell_type": "code",
   "execution_count": 9,
   "metadata": {},
   "outputs": [],
   "source": [
    "di2 = []\n",
    "for i in range(n):\n",
    "    di2.append(2 * d[0][i+1] - d[0][i])"
   ]
  },
  {
   "cell_type": "code",
   "execution_count": 10,
   "metadata": {},
   "outputs": [],
   "source": [
    "d.append(di2)"
   ]
  },
  {
   "cell_type": "code",
   "execution_count": 11,
   "metadata": {},
   "outputs": [
    {
     "data": {
      "text/plain": [
       "[[0.8411805915530324,\n",
       "  0.9116077839697732,\n",
       "  0.9531017980432485,\n",
       "  0.97580328338864,\n",
       "  0.9877045036148601,\n",
       "  0.9938015998845724],\n",
       " [0.9820349763865139,\n",
       "  0.9945958121167238,\n",
       "  0.9985047687340315,\n",
       "  0.9996057238410802,\n",
       "  0.9998986961542847]]"
      ]
     },
     "execution_count": 11,
     "metadata": {},
     "output_type": "execute_result"
    }
   ],
   "source": [
    "d"
   ]
  },
  {
   "cell_type": "code",
   "execution_count": 14,
   "metadata": {},
   "outputs": [],
   "source": [
    "def fwd_richardson(F, X, h, n, deriv_formula=fwd):\n",
    "    data = np.zeros((n, n))\n",
    "    step = h\n",
    "    for i in range(n):\n",
    "        for j in range(i+1):\n",
    "            if j == 0:\n",
    "                data[i][j] = deriv_formula(X, X+step, FX(X), FX(X+step))\n",
    "                step /= 2\n",
    "            else:\n",
    "                data[i][j] = (2) * (data[i][j-1]) - data[i-1][j-1]\n",
    "    return data\n",
    "    \n",
    "    \n",
    "atc(fwd_richardson(FX, X, h, 3))"
   ]
  },
  {
   "cell_type": "code",
   "execution_count": null,
   "metadata": {},
   "outputs": [],
   "source": []
  },
  {
   "cell_type": "code",
   "execution_count": null,
   "metadata": {},
   "outputs": [],
   "source": []
  },
  {
   "cell_type": "code",
   "execution_count": null,
   "metadata": {},
   "outputs": [],
   "source": []
  }
 ],
 "metadata": {
  "kernelspec": {
   "display_name": "Python 3",
   "language": "python",
   "name": "python3"
  },
  "language_info": {
   "codemirror_mode": {
    "name": "ipython",
    "version": 3
   },
   "file_extension": ".py",
   "mimetype": "text/x-python",
   "name": "python",
   "nbconvert_exporter": "python",
   "pygments_lexer": "ipython3",
   "version": "3.7.3"
  },
  "latex_envs": {
   "LaTeX_envs_menu_present": true,
   "autoclose": true,
   "autocomplete": true,
   "bibliofile": "biblio.bib",
   "cite_by": "apalike",
   "current_citInitial": 1,
   "eqLabelWithNumbers": true,
   "eqNumInitial": 1,
   "hotkeys": {
    "equation": "Ctrl-E",
    "itemize": "Ctrl-I"
   },
   "labels_anchors": false,
   "latex_user_defs": false,
   "report_style_numbering": false,
   "user_envs_cfg": false
  }
 },
 "nbformat": 4,
 "nbformat_minor": 2
}
