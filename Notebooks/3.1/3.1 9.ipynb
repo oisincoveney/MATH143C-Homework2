{
 "cells": [
  {
   "cell_type": "code",
   "execution_count": 4,
   "metadata": {},
   "outputs": [],
   "source": [
    "x, y, exi = sy.symbols('x y \\\\xi')\n",
    "def lagrange(nodes, fx, sym_x):\n",
    "    nodes.sort()\n",
    "    eq = sy.sympify(0.0)\n",
    "    for i, k in enumerate(nodes):\n",
    "        a = fx(k)\n",
    "        L_denom, L_num = 1, 1\n",
    "        print(nodes[0:i], nodes[i+1:])\n",
    "        for j in nodes[0:i] + nodes[i+1:]:\n",
    "            L_denom *= (x - j)\n",
    "            L_num *= (k - j)\n",
    "        eq += a * (L_denom / L_num)\n",
    "    return eq\n",
    "\n",
    "d = {\n",
    "        0:0,\n",
    "        0.5: y,\n",
    "        1: 3,\n",
    "        2: 2\n",
    "    }\n",
    "def f(k):\n",
    "    return d[k]"
   ]
  },
  {
   "cell_type": "code",
   "execution_count": 22,
   "metadata": {},
   "outputs": [
    {
     "name": "stdout",
     "output_type": "stream",
     "text": [
      "[] [0.5, 1, 2]\n",
      "[0] [1, 2]\n",
      "[0, 0.5] [2]\n",
      "[0, 0.5, 1] []\n"
     ]
    },
    {
     "data": {
      "text/plain": [
       "[4.25000000000000]"
      ]
     },
     "execution_count": 22,
     "metadata": {},
     "output_type": "execute_result"
    }
   ],
   "source": [
    "sy.solve(sy.Eq(lagrange(list(d.keys()), f, x).simplify().diff(x).diff(x).diff(x) / 6, 6), y)"
   ]
  }
 ],
 "metadata": {
  "kernelspec": {
   "display_name": "Python 3",
   "language": "python",
   "name": "python3"
  },
  "language_info": {
   "codemirror_mode": {
    "name": "ipython",
    "version": 3
   },
   "file_extension": ".py",
   "mimetype": "text/x-python",
   "name": "python",
   "nbconvert_exporter": "python",
   "pygments_lexer": "ipython3",
   "version": "3.7.3"
  },
  "latex_envs": {
   "LaTeX_envs_menu_present": true,
   "autoclose": true,
   "autocomplete": true,
   "bibliofile": "biblio.bib",
   "cite_by": "apalike",
   "current_citInitial": 1,
   "eqLabelWithNumbers": true,
   "eqNumInitial": 1,
   "hotkeys": {
    "equation": "Ctrl-E",
    "itemize": "Ctrl-I"
   },
   "labels_anchors": false,
   "latex_user_defs": false,
   "report_style_numbering": false,
   "user_envs_cfg": false
  }
 },
 "nbformat": 4,
 "nbformat_minor": 2
}
