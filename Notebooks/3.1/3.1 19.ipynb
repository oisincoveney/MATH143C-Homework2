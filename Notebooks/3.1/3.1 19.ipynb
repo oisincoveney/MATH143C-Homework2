{
 "cells": [
  {
   "cell_type": "code",
   "execution_count": 11,
   "metadata": {},
   "outputs": [],
   "source": [
    "def lagrange(nodes, fx, sym_x):\n",
    "    nodes.sort()\n",
    "    eq = sy.sympify(0.0)\n",
    "    for i, k in enumerate(nodes):\n",
    "        a = fx(k)\n",
    "        L_denom, L_num = 1, 1\n",
    "        print(nodes[0:i] + nodes[i+1:])\n",
    "        for j in nodes[0:i] + nodes[i+1:]:\n",
    "            L_denom *= (x - j)\n",
    "            L_num *= (k - j)\n",
    "        eq += a * (L_denom / L_num)\n",
    "    return eq"
   ]
  },
  {
   "cell_type": "code",
   "execution_count": 44,
   "metadata": {},
   "outputs": [
    {
     "name": "stdout",
     "output_type": "stream",
     "text": [
      "{1960: 179323, 1970: 203302, 1980: 226542, 1990: 249633, 2000: 281422, 2010: 308746}\n"
     ]
    }
   ],
   "source": [
    "yrs = np.array([1960, 1970, 1980, 1990, 2000, 2010])\n",
    "pop = [179323, 203302, 226542, 249633, 281422, 308746]\n",
    "fx = lambda k: dict(zip(yrs, pop))[k]\n",
    "print(dict(zip(yrs,pop)))"
   ]
  },
  {
   "cell_type": "code",
   "execution_count": 45,
   "metadata": {},
   "outputs": [
    {
     "name": "stdout",
     "output_type": "stream",
     "text": [
      "[1970, 1980, 1990, 2000, 2010]\n",
      "[1960, 1980, 1990, 2000, 2010]\n",
      "[1960, 1970, 1990, 2000, 2010]\n",
      "[1960, 1970, 1980, 2000, 2010]\n",
      "[1960, 1970, 1980, 1990, 2010]\n",
      "[1960, 1970, 1980, 1990, 2000]\n"
     ]
    }
   ],
   "source": [
    "g = lagrange(list(yrs), fx, x)\n",
    "f = sy.lambdify(x, g)"
   ]
  },
  {
   "cell_type": "code",
   "execution_count": 54,
   "metadata": {},
   "outputs": [],
   "source": [
    "tex(g.expand())"
   ]
  },
  {
   "cell_type": "code",
   "execution_count": 47,
   "metadata": {},
   "outputs": [
    {
     "data": {
      "text/latex": [
       "$\\displaystyle - \\frac{10089 x^{5}}{4000000} + \\frac{6001123 x^{4}}{240000} - \\frac{2379665339 x^{3}}{24000} + \\frac{471801682097 x^{2}}{2400} - \\frac{116923918291129 x}{600} + 77269170756852$"
      ],
      "text/plain": [
       "-10089*x**5/4000000 + 6001123*x**4/240000 - 2379665339*x**3/24000 + 471801682097*x**2/2400 - 116923918291129*x/600 + 77269170756852"
      ]
     },
     "execution_count": 47,
     "metadata": {},
     "output_type": "execute_result"
    }
   ],
   "source": [
    "sy.apart(g, x)"
   ]
  },
  {
   "cell_type": "code",
   "execution_count": 55,
   "metadata": {},
   "outputs": [],
   "source": [
    "tex(f(1950))"
   ]
  },
  {
   "cell_type": "code",
   "execution_count": 56,
   "metadata": {},
   "outputs": [
    {
     "data": {
      "text/plain": [
       "(215525.71484375, 0.4301924712751415)"
      ]
     },
     "execution_count": 56,
     "metadata": {},
     "output_type": "execute_result"
    }
   ],
   "source": [
    "f(1975), (f(1975) - 150697) / 150697"
   ]
  },
  {
   "cell_type": "code",
   "execution_count": 57,
   "metadata": {},
   "outputs": [
    {
     "data": {
      "text/plain": [
       "(306214.8876160002, -0.03492966354657074)"
      ]
     },
     "execution_count": 57,
     "metadata": {},
     "output_type": "execute_result"
    }
   ],
   "source": [
    "f(2014), (f(2014) - 317298) / 317298"
   ]
  },
  {
   "cell_type": "code",
   "execution_count": 52,
   "metadata": {},
   "outputs": [
    {
     "data": {
      "text/plain": [
       "266165.0"
      ]
     },
     "execution_count": 52,
     "metadata": {},
     "output_type": "execute_result"
    }
   ],
   "source": [
    "f(2020)"
   ]
  },
  {
   "cell_type": "code",
   "execution_count": null,
   "metadata": {},
   "outputs": [],
   "source": []
  }
 ],
 "metadata": {
  "kernelspec": {
   "display_name": "Python 3",
   "language": "python",
   "name": "python3"
  },
  "language_info": {
   "codemirror_mode": {
    "name": "ipython",
    "version": 3
   },
   "file_extension": ".py",
   "mimetype": "text/x-python",
   "name": "python",
   "nbconvert_exporter": "python",
   "pygments_lexer": "ipython3",
   "version": "3.7.3"
  },
  "latex_envs": {
   "LaTeX_envs_menu_present": true,
   "autoclose": true,
   "autocomplete": true,
   "bibliofile": "biblio.bib",
   "cite_by": "apalike",
   "current_citInitial": 1,
   "eqLabelWithNumbers": true,
   "eqNumInitial": 1,
   "hotkeys": {
    "equation": "Ctrl-E",
    "itemize": "Ctrl-I"
   },
   "labels_anchors": false,
   "latex_user_defs": false,
   "report_style_numbering": false,
   "user_envs_cfg": false
  }
 },
 "nbformat": 4,
 "nbformat_minor": 2
}
