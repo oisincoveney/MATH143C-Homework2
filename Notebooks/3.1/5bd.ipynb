{
 "cells": [
  {
   "cell_type": "code",
   "execution_count": 62,
   "metadata": {},
   "outputs": [],
   "source": [
    "x = sy.symbols('x')\n",
    "def lagrange(nodes, fx, sym_x):\n",
    "    nodes.sort()\n",
    "    print(nodes)\n",
    "    eq = sy.sympify(0.0)\n",
    "    for i, k in enumerate(nodes):\n",
    "        a = fx(k)\n",
    "        L_denom, L_num = 1, 1\n",
    "#         print(nodes[0:i], nodes[i+1:])\n",
    "        for j in nodes[0:i] + nodes[i+1:]:\n",
    "            L_denom *= (x - j)\n",
    "            L_num *= (k - j)\n",
    "        eq += a * (L_denom / L_num)\n",
    "    return eq"
   ]
  },
  {
   "cell_type": "code",
   "execution_count": 63,
   "metadata": {},
   "outputs": [],
   "source": [
    "b = { \n",
    "    -0.75: -0.07181250, \n",
    "    -0.5:  -0.02475000, \n",
    "    -0.25: 0.33493750, \n",
    "    0: 1.10100000\n",
    "}\n",
    "def fxb(k):\n",
    "    return b[k]\n",
    "\n",
    "d = {\n",
    "    0.6: -0.17694460, \n",
    "    0.7: 0.01375227,\n",
    "    0.8: 0.22363362,\n",
    "    1.0: 0.65809197\n",
    "}\n",
    "def fxd(k): \n",
    "    return d[k]"
   ]
  },
  {
   "cell_type": "code",
   "execution_count": 64,
   "metadata": {},
   "outputs": [],
   "source": [
    "p1_pos = [2, 4]\n",
    "p2_pos = [1, 3, 4]"
   ]
  },
  {
   "cell_type": "code",
   "execution_count": 65,
   "metadata": {},
   "outputs": [],
   "source": [
    "def getvals(li, pos):\n",
    "    nl = []\n",
    "    for i in pos:\n",
    "        nl.append(li[i - 1])\n",
    "    return nl"
   ]
  },
  {
   "cell_type": "code",
   "execution_count": 66,
   "metadata": {},
   "outputs": [
    {
     "name": "stdout",
     "output_type": "stream",
     "text": [
      "[-0.5, 0]\n"
     ]
    },
    {
     "data": {
      "text/latex": [
       "$\\displaystyle 0.3505$"
      ],
      "text/plain": [
       "0.350500000000000"
      ]
     },
     "execution_count": 66,
     "metadata": {},
     "output_type": "execute_result"
    }
   ],
   "source": [
    "lagrange(getvals(list(b.keys()), p1_pos), fxb, x).subs(x, -1/3)"
   ]
  },
  {
   "cell_type": "code",
   "execution_count": 67,
   "metadata": {},
   "outputs": [
    {
     "name": "stdout",
     "output_type": "stream",
     "text": [
      "[-0.75, -0.25, 0]\n"
     ]
    },
    {
     "data": {
      "text/latex": [
       "$\\displaystyle 0.162944444444445$"
      ],
      "text/plain": [
       "0.162944444444445"
      ]
     },
     "execution_count": 67,
     "metadata": {},
     "output_type": "execute_result"
    }
   ],
   "source": [
    "lagrange(getvals(list(b.keys()), p2_pos), fxb, x).subs(x, -1/3)"
   ]
  },
  {
   "cell_type": "code",
   "execution_count": 68,
   "metadata": {},
   "outputs": [
    {
     "name": "stdout",
     "output_type": "stream",
     "text": [
      "[-0.75, -0.5, -0.25, 0]\n"
     ]
    },
    {
     "data": {
      "text/latex": [
       "$\\displaystyle 0.174518518518519$"
      ],
      "text/plain": [
       "0.174518518518519"
      ]
     },
     "execution_count": 68,
     "metadata": {},
     "output_type": "execute_result"
    }
   ],
   "source": [
    "lagrange(list(b.keys()), fxb, x).subs(x, -1/3)"
   ]
  },
  {
   "cell_type": "code",
   "execution_count": 69,
   "metadata": {},
   "outputs": [
    {
     "name": "stdout",
     "output_type": "stream",
     "text": [
      "[0.7, 1.0]\n"
     ]
    },
    {
     "data": {
      "text/latex": [
       "$\\displaystyle 0.44331207$"
      ],
      "text/plain": [
       "0.443312070000000"
      ]
     },
     "execution_count": 69,
     "metadata": {},
     "output_type": "execute_result"
    }
   ],
   "source": [
    "lagrange(getvals(list(d.keys()), p1_pos), fxd, x).subs(x, 0.9)"
   ]
  },
  {
   "cell_type": "code",
   "execution_count": 70,
   "metadata": {},
   "outputs": [
    {
     "name": "stdout",
     "output_type": "stream",
     "text": [
      "[0.6, 0.8, 1.0]\n"
     ]
    },
    {
     "data": {
      "text/latex": [
       "$\\displaystyle 0.43662777875$"
      ],
      "text/plain": [
       "0.436627778750000"
      ]
     },
     "execution_count": 70,
     "metadata": {},
     "output_type": "execute_result"
    }
   ],
   "source": [
    "lagrange(getvals(list(d.keys()), p2_pos), fxd, x).subs(x, 0.9)"
   ]
  },
  {
   "cell_type": "code",
   "execution_count": 71,
   "metadata": {},
   "outputs": [
    {
     "name": "stdout",
     "output_type": "stream",
     "text": [
      "[0.6, 0.7, 0.8, 1.0]\n"
     ]
    },
    {
     "data": {
      "text/latex": [
       "$\\displaystyle 0.4419850025$"
      ],
      "text/plain": [
       "0.441985002500000"
      ]
     },
     "execution_count": 71,
     "metadata": {},
     "output_type": "execute_result"
    }
   ],
   "source": [
    "lagrange(list(d.keys()), fxd, x).subs(x, 0.9)"
   ]
  },
  {
   "cell_type": "code",
   "execution_count": null,
   "metadata": {},
   "outputs": [],
   "source": []
  }
 ],
 "metadata": {
  "kernelspec": {
   "display_name": "Python 3",
   "language": "python",
   "name": "python3"
  },
  "language_info": {
   "codemirror_mode": {
    "name": "ipython",
    "version": 3
   },
   "file_extension": ".py",
   "mimetype": "text/x-python",
   "name": "python",
   "nbconvert_exporter": "python",
   "pygments_lexer": "ipython3",
   "version": "3.7.3"
  },
  "latex_envs": {
   "LaTeX_envs_menu_present": true,
   "autoclose": true,
   "autocomplete": true,
   "bibliofile": "biblio.bib",
   "cite_by": "apalike",
   "current_citInitial": 1,
   "eqLabelWithNumbers": true,
   "eqNumInitial": 1,
   "hotkeys": {
    "equation": "Ctrl-E",
    "itemize": "Ctrl-I"
   },
   "labels_anchors": false,
   "latex_user_defs": false,
   "report_style_numbering": false,
   "user_envs_cfg": false
  }
 },
 "nbformat": 4,
 "nbformat_minor": 2
}
