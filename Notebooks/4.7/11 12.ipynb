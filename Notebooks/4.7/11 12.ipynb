{
 "cells": [
  {
   "cell_type": "code",
   "execution_count": 125,
   "metadata": {},
   "outputs": [],
   "source": [
    "a, b, c, d, e= sy.symbols('a b c d e')"
   ]
  },
  {
   "cell_type": "code",
   "execution_count": 126,
   "metadata": {},
   "outputs": [
    {
     "data": {
      "text/plain": [
       "[1, x, x**2, x**3]"
      ]
     },
     "execution_count": 126,
     "metadata": {},
     "output_type": "execute_result"
    }
   ],
   "source": [
    "X = [x ** i for i in range(0, 4)]\n",
    "X"
   ]
  },
  {
   "cell_type": "code",
   "execution_count": 127,
   "metadata": {},
   "outputs": [],
   "source": [
    "F, DF = sy.Function('F'), sy.Function('DF')"
   ]
  },
  {
   "cell_type": "code",
   "execution_count": 128,
   "metadata": {},
   "outputs": [],
   "source": [
    "EQ = a * F(-1) + b * F(1) + c * DF(-1) + d * DF(1)"
   ]
  },
  {
   "cell_type": "code",
   "execution_count": 129,
   "metadata": {},
   "outputs": [
    {
     "name": "stdout",
     "output_type": "stream",
     "text": [
      "a + b\n",
      "-a + b + c + d\n",
      "a + b - 2*c + 2*d\n",
      "-a + b + 3*c + 3*d\n"
     ]
    }
   ],
   "source": [
    "data = []\n",
    "for i in X:\n",
    "    f = sy.lambdify(x, i)\n",
    "    df = sy.lambdify(x, i.diff())\n",
    "    da = EQ.replace(F, f).replace(DF, df)\n",
    "    \n",
    "    print(da)\n",
    "    \n",
    "    data.append(da)"
   ]
  },
  {
   "cell_type": "code",
   "execution_count": 130,
   "metadata": {},
   "outputs": [
    {
     "name": "stdout",
     "output_type": "stream",
     "text": [
      "2\n",
      "0\n",
      "2/3\n",
      "0\n"
     ]
    }
   ],
   "source": [
    "rhs = []\n",
    "for i in X:\n",
    "    rhs.append(sy.Integral(i, (x, -1, 1)).doit())\n",
    "    print(rhs[-1])"
   ]
  },
  {
   "cell_type": "code",
   "execution_count": null,
   "metadata": {},
   "outputs": [],
   "source": []
  },
  {
   "cell_type": "code",
   "execution_count": 131,
   "metadata": {},
   "outputs": [],
   "source": [
    "te = \"\"\n",
    "for i in range(len(data)):\n",
    "    te += f'{sy.latex(data[i])} &= {sy.latex(rhs[i])}\\\\\\\\'\n",
    "    te += \"\"\"\n",
    "    \"\"\" "
   ]
  },
  {
   "cell_type": "code",
   "execution_count": 132,
   "metadata": {},
   "outputs": [
    {
     "name": "stdout",
     "output_type": "stream",
     "text": [
      "a + b &= 2\\\\\n",
      "    - a + b + c + d &= 0\\\\\n",
      "    a + b - 2 c + 2 d &= \\frac{2}{3}\\\\\n",
      "    - a + b + 3 c + 3 d &= 0\\\\\n",
      "    \n"
     ]
    }
   ],
   "source": [
    "print(te)"
   ]
  },
  {
   "cell_type": "code",
   "execution_count": 133,
   "metadata": {},
   "outputs": [
    {
     "data": {
      "text/plain": [
       "[a + b - 2, -a + b + c + d, a + b - 2*c + 2*d - 2/3, -a + b + 3*c + 3*d]"
      ]
     },
     "execution_count": 133,
     "metadata": {},
     "output_type": "execute_result"
    }
   ],
   "source": [
    "eqs = list(np.array(data) - np.array(rhs))\n",
    "eqs"
   ]
  },
  {
   "cell_type": "code",
   "execution_count": 134,
   "metadata": {},
   "outputs": [],
   "source": [
    "tex(sy.linsolve(eqs, a, b, c, d).args[0])"
   ]
  },
  {
   "cell_type": "code",
   "execution_count": 111,
   "metadata": {},
   "outputs": [
    {
     "data": {
      "text/plain": [
       "[2*d + 1/3, 4/3 - 4*d, 2*d + 1/3, 2/5, -d]"
      ]
     },
     "execution_count": 111,
     "metadata": {},
     "output_type": "execute_result"
    }
   ],
   "source": []
  }
 ],
 "metadata": {
  "kernelspec": {
   "display_name": "Python 3",
   "language": "python",
   "name": "python3"
  },
  "language_info": {
   "codemirror_mode": {
    "name": "ipython",
    "version": 3
   },
   "file_extension": ".py",
   "mimetype": "text/x-python",
   "name": "python",
   "nbconvert_exporter": "python",
   "pygments_lexer": "ipython3",
   "version": "3.7.3"
  },
  "latex_envs": {
   "LaTeX_envs_menu_present": true,
   "autoclose": true,
   "autocomplete": true,
   "bibliofile": "biblio.bib",
   "cite_by": "apalike",
   "current_citInitial": 1,
   "eqLabelWithNumbers": true,
   "eqNumInitial": 1,
   "hotkeys": {
    "equation": "Ctrl-E",
    "itemize": "Ctrl-I"
   },
   "labels_anchors": false,
   "latex_user_defs": false,
   "report_style_numbering": false,
   "user_envs_cfg": false
  }
 },
 "nbformat": 4,
 "nbformat_minor": 2
}
