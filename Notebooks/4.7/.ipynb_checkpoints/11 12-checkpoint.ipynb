{
 "cells": [
  {
   "cell_type": "code",
   "execution_count": 83,
   "metadata": {},
   "outputs": [],
   "source": [
    "a, b, c, d, e= sy.symbols('a b c d e')"
   ]
  },
  {
   "cell_type": "code",
   "execution_count": 84,
   "metadata": {},
   "outputs": [
    {
     "data": {
      "text/plain": [
       "[1, x, x**2, x**3, x**4]"
      ]
     },
     "execution_count": 84,
     "metadata": {},
     "output_type": "execute_result"
    }
   ],
   "source": [
    "X = [x ** i for i in range(0, 5)]\n",
    "X"
   ]
  },
  {
   "cell_type": "code",
   "execution_count": 85,
   "metadata": {},
   "outputs": [],
   "source": [
    "F, DF = sy.Function('F'), sy.Function('DF')"
   ]
  },
  {
   "cell_type": "code",
   "execution_count": 86,
   "metadata": {},
   "outputs": [],
   "source": [
    "EQ = a * F(-1) + b * F(0) + c * F(1) + d * DF(-1) + e * DF(1)"
   ]
  },
  {
   "cell_type": "code",
   "execution_count": 102,
   "metadata": {},
   "outputs": [
    {
     "name": "stdout",
     "output_type": "stream",
     "text": [
      "a + b + c\n",
      "-a + c + d + e\n",
      "a + c - 2*d + 2*e\n",
      "-a + c + 3*d + 3*e\n",
      "a + c - 4*d + 4*e\n"
     ]
    }
   ],
   "source": [
    "data = []\n",
    "for i in X:\n",
    "    f = sy.lambdify(x, i)\n",
    "    df = sy.lambdify(x, i.diff())\n",
    "    d = EQ.replace(F, f).replace(DF, df)\n",
    "    \n",
    "    print(d)\n",
    "    \n",
    "    data.append(d)"
   ]
  },
  {
   "cell_type": "code",
   "execution_count": 88,
   "metadata": {},
   "outputs": [
    {
     "name": "stdout",
     "output_type": "stream",
     "text": [
      "2\n",
      "0\n",
      "2/3\n",
      "0\n",
      "2/5\n"
     ]
    }
   ],
   "source": [
    "rhs = []\n",
    "for i in X:\n",
    "    rhs.append(sy.Integral(i, (x, -1, 1)).doit())\n",
    "    print(rhs[-1])"
   ]
  },
  {
   "cell_type": "code",
   "execution_count": null,
   "metadata": {},
   "outputs": [],
   "source": []
  },
  {
   "cell_type": "code",
   "execution_count": 89,
   "metadata": {},
   "outputs": [],
   "source": [
    "te = \"\"\n",
    "for i in range(len(data)):\n",
    "    te += f'{sy.latex(data[i])} &= {sy.latex(rhs[i])}\\\\\\\\'\n",
    "    te += \"\"\"\n",
    "    \"\"\" "
   ]
  },
  {
   "cell_type": "code",
   "execution_count": 96,
   "metadata": {},
   "outputs": [
    {
     "name": "stdout",
     "output_type": "stream",
     "text": [
      "a + b + c &= 2\\\\\n",
      "    - a + c + d + e &= 0\\\\\n",
      "    a + c - 2 d + 2 e &= \\frac{2}{3}\\\\\n",
      "    - a + c + 3 d + 3 e &= 0\\\\\n",
      "    a + c - 4 d + 4 e &= \\frac{2}{5}\\\\\n",
      "    \n"
     ]
    }
   ],
   "source": [
    "print(te)"
   ]
  },
  {
   "cell_type": "code",
   "execution_count": 98,
   "metadata": {},
   "outputs": [
    {
     "data": {
      "text/plain": [
       "[a + b + c - 2,\n",
       " -a + c + d + e,\n",
       " a + c - 2*d + 2*e - 2/3,\n",
       " -a + c + 3*d + 3*e,\n",
       " a + c - 4*d + 4*e - 2/5]"
      ]
     },
     "execution_count": 98,
     "metadata": {},
     "output_type": "execute_result"
    }
   ],
   "source": [
    "eqs = list(np.array(data) - np.array(rhs))\n",
    "eqs"
   ]
  },
  {
   "cell_type": "code",
   "execution_count": 104,
   "metadata": {},
   "outputs": [
    {
     "data": {
      "text/latex": [
       "$\\displaystyle \\left\\{\\left( 2 d + \\frac{1}{3}, \\  \\frac{4}{3} - 4 d, \\  2 d + \\frac{1}{3}, \\  \\frac{2}{5}, \\  - d\\right)\\right\\}$"
      ],
      "text/plain": [
       "{(2*d + 1/3, 4/3 - 4*d, 2*d + 1/3, 2/5, -d)}"
      ]
     },
     "execution_count": 104,
     "metadata": {},
     "output_type": "execute_result"
    }
   ],
   "source": [
    "sy.linsolve(eqs, a, b, c, d, e).sub"
   ]
  },
  {
   "cell_type": "code",
   "execution_count": null,
   "metadata": {},
   "outputs": [],
   "source": []
  }
 ],
 "metadata": {
  "kernelspec": {
   "display_name": "Python 3",
   "language": "python",
   "name": "python3"
  },
  "language_info": {
   "codemirror_mode": {
    "name": "ipython",
    "version": 3
   },
   "file_extension": ".py",
   "mimetype": "text/x-python",
   "name": "python",
   "nbconvert_exporter": "python",
   "pygments_lexer": "ipython3",
   "version": "3.7.3"
  },
  "latex_envs": {
   "LaTeX_envs_menu_present": true,
   "autoclose": true,
   "autocomplete": true,
   "bibliofile": "biblio.bib",
   "cite_by": "apalike",
   "current_citInitial": 1,
   "eqLabelWithNumbers": true,
   "eqNumInitial": 1,
   "hotkeys": {
    "equation": "Ctrl-E",
    "itemize": "Ctrl-I"
   },
   "labels_anchors": false,
   "latex_user_defs": false,
   "report_style_numbering": false,
   "user_envs_cfg": false
  }
 },
 "nbformat": 4,
 "nbformat_minor": 2
}
