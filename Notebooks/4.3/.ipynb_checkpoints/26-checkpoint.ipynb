{
 "cells": [
  {
   "cell_type": "code",
   "execution_count": 171,
   "metadata": {},
   "outputs": [],
   "source": [
    "for i in range(3):\n",
    "    globals()[f'a{i}'] = Symbol(f'a_{i}')\n",
    "x0, h, fe = symbols('x_0 h f(\\\\xi)')\n",
    "x2 = x0 + 2 * h\n",
    "x1 = x0 + h"
   ]
  },
  {
   "cell_type": "code",
   "execution_count": 172,
   "metadata": {},
   "outputs": [],
   "source": [
    "# a0 =  h/6\n",
    "# a1 = 2*h/3\n",
    "# a2 = h / 6"
   ]
  },
  {
   "cell_type": "code",
   "execution_count": 173,
   "metadata": {},
   "outputs": [
    {
     "data": {
      "text/plain": [
       "[x, x**2, x**3]"
      ]
     },
     "execution_count": 173,
     "metadata": {},
     "output_type": "execute_result"
    }
   ],
   "source": [
    "eqs = [x ** i for i in range(1, 4)]\n",
    "eqs"
   ]
  },
  {
   "cell_type": "code",
   "execution_count": 174,
   "metadata": {},
   "outputs": [],
   "source": [
    "leqs = [lambdify(x, i) for i in eqs]"
   ]
  },
  {
   "cell_type": "code",
   "execution_count": 175,
   "metadata": {},
   "outputs": [
    {
     "data": {
      "text/plain": [
       "[-x_0**2/2 + (2*h + x_0)**2/2,\n",
       " -x_0**3/3 + (2*h + x_0)**3/3,\n",
       " -x_0**4/4 + (2*h + x_0)**4/4]"
      ]
     },
     "execution_count": 175,
     "metadata": {},
     "output_type": "execute_result"
    }
   ],
   "source": [
    "lhs = [Integral(eq, (x, x0, x2)).doit() for eq in eqs]\n",
    "lhs"
   ]
  },
  {
   "cell_type": "code",
   "execution_count": 176,
   "metadata": {},
   "outputs": [
    {
     "data": {
      "text/plain": [
       "[a_0*x_0 + a_1*(h + x_0) + a_2*(2*h + x_0),\n",
       " a_0*x_0**2 + a_1*(h + x_0)**2 + a_2*(2*h + x_0)**2,\n",
       " a_0*x_0**3 + a_1*(h + x_0)**3 + a_2*(2*h + x_0)**3]"
      ]
     },
     "execution_count": 176,
     "metadata": {},
     "output_type": "execute_result"
    }
   ],
   "source": [
    "rhs_eq = [a0 * eq(x0) + a1*eq(x1) + a2 * eq(x2) for eq in leqs]\n",
    "rhs_eq"
   ]
  },
  {
   "cell_type": "code",
   "execution_count": 177,
   "metadata": {},
   "outputs": [
    {
     "data": {
      "text/latex": [
       "$\\displaystyle a_{0} x_{0} + a_{1} \\left(h + x_{0}\\right) + a_{2} \\left(2 h + x_{0}\\right) + \\frac{x_{0}^{2}}{2} - \\frac{\\left(2 h + x_{0}\\right)^{2}}{2}$"
      ],
      "text/plain": [
       "a_0*x_0 + a_1*(h + x_0) + a_2*(2*h + x_0) + x_0**2/2 - (2*h + x_0)**2/2"
      ]
     },
     "metadata": {},
     "output_type": "display_data"
    },
    {
     "data": {
      "text/latex": [
       "$\\displaystyle a_{0} x_{0}^{2} + a_{1} \\left(h + x_{0}\\right)^{2} + a_{2} \\left(2 h + x_{0}\\right)^{2} + \\frac{x_{0}^{3}}{3} - \\frac{\\left(2 h + x_{0}\\right)^{3}}{3}$"
      ],
      "text/plain": [
       "a_0*x_0**2 + a_1*(h + x_0)**2 + a_2*(2*h + x_0)**2 + x_0**3/3 - (2*h + x_0)**3/3"
      ]
     },
     "metadata": {},
     "output_type": "display_data"
    },
    {
     "data": {
      "text/latex": [
       "$\\displaystyle a_{0} x_{0}^{3} + a_{1} \\left(h + x_{0}\\right)^{3} + a_{2} \\left(2 h + x_{0}\\right)^{3} + \\frac{x_{0}^{4}}{4} - \\frac{\\left(2 h + x_{0}\\right)^{4}}{4}$"
      ],
      "text/plain": [
       "a_0*x_0**3 + a_1*(h + x_0)**3 + a_2*(2*h + x_0)**3 + x_0**4/4 - (2*h + x_0)**4/4"
      ]
     },
     "metadata": {},
     "output_type": "display_data"
    }
   ],
   "source": [
    "system = list(np.array(rhs_eq) - np.array(lhs))\n",
    "display(*system)"
   ]
  },
  {
   "cell_type": "code",
   "execution_count": 178,
   "metadata": {},
   "outputs": [
    {
     "data": {
      "text/latex": [
       "$\\displaystyle \\left\\{\\left( \\frac{h}{3}, \\  \\frac{4 h}{3}, \\  \\frac{h}{3}\\right)\\right\\}$"
      ],
      "text/plain": [
       "FiniteSet((h/3, 4*h/3, h/3))"
      ]
     },
     "execution_count": 178,
     "metadata": {},
     "output_type": "execute_result"
    }
   ],
   "source": [
    "sol = linsolve(system, a0, a1, a2)\n",
    "sol"
   ]
  },
  {
   "cell_type": "code",
   "execution_count": 179,
   "metadata": {},
   "outputs": [
    {
     "data": {
      "text/latex": [
       "$\\displaystyle 0$"
      ],
      "text/plain": [
       "0"
      ]
     },
     "execution_count": 179,
     "metadata": {},
     "output_type": "execute_result"
    }
   ],
   "source": [
    "system[2].subs([(a0, sol.args[0][0]), (a1, sol.args[0][1]), (a2, sol.args[0][2])]).simplify()"
   ]
  },
  {
   "cell_type": "markdown",
   "metadata": {},
   "source": [
    "Equation"
   ]
  },
  {
   "cell_type": "code",
   "execution_count": 268,
   "metadata": {},
   "outputs": [],
   "source": [
    "A0, A1, A2 = sol.args[0]\n",
    "k, fe = symbols('k f^4(\\\\xi)')\n",
    "x0, x1, x2 = symbols('x_0, x_1, x_2')\n",
    "F = lambda k: k ** 4"
   ]
  },
  {
   "cell_type": "code",
   "execution_count": 269,
   "metadata": {},
   "outputs": [
    {
     "data": {
      "text/latex": [
       "$\\displaystyle f^4(\\xi) k + h \\left(\\frac{x_{0}^{4}}{3} + \\frac{4 x_{1}^{4}}{3} + \\frac{x_{2}^{4}}{3}\\right)$"
      ],
      "text/plain": [
       "f^4(\\xi)*k + h*(x_0**4/3 + 4*x_1**4/3 + x_2**4/3)"
      ]
     },
     "execution_count": 269,
     "metadata": {},
     "output_type": "execute_result"
    }
   ],
   "source": [
    "FX = A0 * F(x0) + A1 * F(x1) + A2 * F(x2) + k * fe\n",
    "FX.collect(h)"
   ]
  },
  {
   "cell_type": "code",
   "execution_count": 270,
   "metadata": {},
   "outputs": [],
   "source": [
    "RHS = FX.subs(fe, (x ** 4).diff(x, 4))"
   ]
  },
  {
   "cell_type": "code",
   "execution_count": 271,
   "metadata": {},
   "outputs": [],
   "source": [
    "LHS = Integral(x ** 4, (x, x0, x2)).doit()"
   ]
  },
  {
   "cell_type": "code",
   "execution_count": 272,
   "metadata": {},
   "outputs": [
    {
     "data": {
      "text/latex": [
       "$\\displaystyle - \\frac{x_{0}^{5}}{5} + \\frac{x_{2}^{5}}{5}$"
      ],
      "text/plain": [
       "-x_0**5/5 + x_2**5/5"
      ]
     },
     "execution_count": 272,
     "metadata": {},
     "output_type": "execute_result"
    }
   ],
   "source": [
    "LHS"
   ]
  },
  {
   "cell_type": "code",
   "execution_count": 273,
   "metadata": {},
   "outputs": [
    {
     "data": {
      "text/latex": [
       "$\\displaystyle \\frac{h x_{0}^{4}}{3} + \\frac{4 h x_{1}^{4}}{3} + \\frac{h x_{2}^{4}}{3} + 24 k$"
      ],
      "text/plain": [
       "h*x_0**4/3 + 4*h*x_1**4/3 + h*x_2**4/3 + 24*k"
      ]
     },
     "execution_count": 273,
     "metadata": {},
     "output_type": "execute_result"
    }
   ],
   "source": [
    "RHS"
   ]
  },
  {
   "cell_type": "code",
   "execution_count": 280,
   "metadata": {},
   "outputs": [
    {
     "data": {
      "text/latex": [
       "$\\displaystyle - \\frac{h x_{0}^{4}}{3} - \\frac{4 h x_{1}^{4}}{3} - \\frac{h x_{2}^{4}}{3} - 24 k - \\frac{x_{0}^{5}}{5} + \\frac{x_{2}^{5}}{5} = 0$"
      ],
      "text/plain": [
       "Eq(-h*x_0**4/3 - 4*h*x_1**4/3 - h*x_2**4/3 - 24*k - x_0**5/5 + x_2**5/5, 0)"
      ]
     },
     "execution_count": 280,
     "metadata": {},
     "output_type": "execute_result"
    }
   ],
   "source": [
    "Eq(LHS - RHS, 0).sub"
   ]
  },
  {
   "cell_type": "code",
   "execution_count": 275,
   "metadata": {},
   "outputs": [],
   "source": [
    "sol = solveset(Eq(LHS, RHS), k).args[0]"
   ]
  },
  {
   "cell_type": "code",
   "execution_count": 278,
   "metadata": {},
   "outputs": [
    {
     "data": {
      "text/latex": [
       "$\\displaystyle - \\frac{h x_{0}^{4}}{72} - \\frac{h x_{1}^{4}}{18} - \\frac{h x_{2}^{4}}{72} - \\frac{x_{0}^{5}}{120} + \\frac{x_{2}^{5}}{120}$"
      ],
      "text/plain": [
       "-h*x_0**4/72 - h*x_1**4/18 - h*x_2**4/72 - x_0**5/120 + x_2**5/120"
      ]
     },
     "execution_count": 278,
     "metadata": {},
     "output_type": "execute_result"
    }
   ],
   "source": [
    "sol.simplify()"
   ]
  }
 ],
 "metadata": {
  "kernelspec": {
   "display_name": "Python 3",
   "language": "python",
   "name": "python3"
  },
  "language_info": {
   "codemirror_mode": {
    "name": "ipython",
    "version": 3
   },
   "file_extension": ".py",
   "mimetype": "text/x-python",
   "name": "python",
   "nbconvert_exporter": "python",
   "pygments_lexer": "ipython3",
   "version": "3.7.6"
  },
  "latex_envs": {
   "LaTeX_envs_menu_present": true,
   "autoclose": true,
   "autocomplete": true,
   "bibliofile": "biblio.bib",
   "cite_by": "apalike",
   "current_citInitial": 1,
   "eqLabelWithNumbers": true,
   "eqNumInitial": 1,
   "hotkeys": {
    "equation": "Ctrl-E",
    "itemize": "Ctrl-I"
   },
   "labels_anchors": false,
   "latex_user_defs": false,
   "report_style_numbering": false,
   "user_envs_cfg": false
  }
 },
 "nbformat": 4,
 "nbformat_minor": 2
}
