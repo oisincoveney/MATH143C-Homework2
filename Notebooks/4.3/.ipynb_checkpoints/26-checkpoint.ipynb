{
 "cells": [
  {
   "cell_type": "code",
   "execution_count": 48,
   "metadata": {},
   "outputs": [],
   "source": [
    "for i in range(3):\n",
    "    globals()[f'a{i}'] = Symbol(f'a_{i}')\n",
    "x0, h = symbols('x_0 h')\n",
    "x2 = x0 + h\n",
    "x1 = x0 + (h / 2)"
   ]
  },
  {
   "cell_type": "code",
   "execution_count": 49,
   "metadata": {},
   "outputs": [
    {
     "data": {
      "text/plain": [
       "[x, x**2, x**3]"
      ]
     },
     "execution_count": 49,
     "metadata": {},
     "output_type": "execute_result"
    }
   ],
   "source": [
    "eqs = [x ** i for i in range(1, 4)]\n",
    "eqs"
   ]
  },
  {
   "cell_type": "code",
   "execution_count": 50,
   "metadata": {},
   "outputs": [],
   "source": [
    "leqs = [lambdify(x, i) for i in eqs]"
   ]
  },
  {
   "cell_type": "code",
   "execution_count": 51,
   "metadata": {},
   "outputs": [
    {
     "data": {
      "text/plain": [
       "[-x_0**2/2 + (h + x_0)**2/2,\n",
       " -x_0**3/3 + (h + x_0)**3/3,\n",
       " -x_0**4/4 + (h + x_0)**4/4]"
      ]
     },
     "execution_count": 51,
     "metadata": {},
     "output_type": "execute_result"
    }
   ],
   "source": [
    "lhs = [Integral(eq, (x, x0, x2)).doit() for eq in eqs]\n",
    "lhs"
   ]
  },
  {
   "cell_type": "code",
   "execution_count": 52,
   "metadata": {},
   "outputs": [
    {
     "data": {
      "text/plain": [
       "[a_0*x_0 + a_1*(h/2 + x_0) + a_2*(h + x_0),\n",
       " a_0*x_0**2 + a_1*(h/2 + x_0)**2 + a_2*(h + x_0)**2,\n",
       " a_0*x_0**3 + a_1*(h/2 + x_0)**3 + a_2*(h + x_0)**3]"
      ]
     },
     "execution_count": 52,
     "metadata": {},
     "output_type": "execute_result"
    }
   ],
   "source": [
    "rhs_eq = [a0 * eq(x0) + a1*eq(x1) + a2 * eq(x2) for eq in leqs]\n",
    "rhs_eq"
   ]
  },
  {
   "cell_type": "code",
   "execution_count": 66,
   "metadata": {},
   "outputs": [],
   "source": [
    "df=pd.DataFrame(list(zip(eqs, lhs, rhs_eq))).apply(lambda a: latex(a))"
   ]
  },
  {
   "cell_type": "code",
   "execution_count": null,
   "metadata": {},
   "outputs": [],
   "source": []
  },
  {
   "cell_type": "code",
   "execution_count": 53,
   "metadata": {},
   "outputs": [],
   "source": [
    "system = list(np.array(rhs_eq) - np.array(lhs))"
   ]
  },
  {
   "cell_type": "code",
   "execution_count": 63,
   "metadata": {},
   "outputs": [
    {
     "name": "stdout",
     "output_type": "stream",
     "text": [
      "- \\frac{x_{0}^{2}}{2} + \\frac{\\left(h + x_{0}\\right)^{2}}{2} &= a_{0} x_{0} + a_{1} \\left(\\frac{h}{2} + x_{0}\\right) + a_{2} \\left(h + x_{0}\\right) \\\\\n",
      "- \\frac{x_{0}^{3}}{3} + \\frac{\\left(h + x_{0}\\right)^{3}}{3} &= a_{0} x_{0}^{2} + a_{1} \\left(\\frac{h}{2} + x_{0}\\right)^{2} + a_{2} \\left(h + x_{0}\\right)^{2} \\\\\n",
      "- \\frac{x_{0}^{4}}{4} + \\frac{\\left(h + x_{0}\\right)^{4}}{4} &= a_{0} x_{0}^{3} + a_{1} \\left(\\frac{h}{2} + x_{0}\\right)^{3} + a_{2} \\left(h + x_{0}\\right)^{3} \\\\\n"
     ]
    }
   ],
   "source": [
    "s = \"\"\n",
    "for l, r in zip(lhs, rhs_eq):\n",
    "    print(latex(l), '&=', latex(r), '\\\\\\\\')"
   ]
  },
  {
   "cell_type": "code",
   "execution_count": 57,
   "metadata": {},
   "outputs": [
    {
     "data": {
      "text/latex": [
       "$\\displaystyle \\left( \\frac{h}{6}, \\  \\frac{2 h}{3}, \\  \\frac{h}{6}\\right)$"
      ],
      "text/plain": [
       "(h/6, 2*h/3, h/6)"
      ]
     },
     "execution_count": 57,
     "metadata": {},
     "output_type": "execute_result"
    }
   ],
   "source": [
    "linsolve(system, a0, a1, a2).args[0]"
   ]
  },
  {
   "cell_type": "code",
   "execution_count": null,
   "metadata": {},
   "outputs": [],
   "source": []
  }
 ],
 "metadata": {
  "kernelspec": {
   "display_name": "Python 3",
   "language": "python",
   "name": "python3"
  },
  "language_info": {
   "codemirror_mode": {
    "name": "ipython",
    "version": 3
   },
   "file_extension": ".py",
   "mimetype": "text/x-python",
   "name": "python",
   "nbconvert_exporter": "python",
   "pygments_lexer": "ipython3",
   "version": "3.7.3"
  },
  "latex_envs": {
   "LaTeX_envs_menu_present": true,
   "autoclose": true,
   "autocomplete": true,
   "bibliofile": "biblio.bib",
   "cite_by": "apalike",
   "current_citInitial": 1,
   "eqLabelWithNumbers": true,
   "eqNumInitial": 1,
   "hotkeys": {
    "equation": "Ctrl-E",
    "itemize": "Ctrl-I"
   },
   "labels_anchors": false,
   "latex_user_defs": false,
   "report_style_numbering": false,
   "user_envs_cfg": false
  }
 },
 "nbformat": 4,
 "nbformat_minor": 2
}
