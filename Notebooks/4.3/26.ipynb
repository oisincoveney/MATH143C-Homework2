{
 "cells": [
  {
   "cell_type": "code",
   "execution_count": 171,
   "metadata": {},
   "outputs": [],
   "source": [
    "for i in range(3):\n",
    "    globals()[f'a{i}'] = Symbol(f'a_{i}')\n",
    "x0, h, fe = symbols('x_0 h f(\\\\xi)')\n",
    "x2 = x0 + 2 * h\n",
    "x1 = x0 + h"
   ]
  },
  {
   "cell_type": "code",
   "execution_count": 172,
   "metadata": {},
   "outputs": [],
   "source": [
    "# a0 =  h/6\n",
    "# a1 = 2*h/3\n",
    "# a2 = h / 6"
   ]
  },
  {
   "cell_type": "code",
   "execution_count": 173,
   "metadata": {},
   "outputs": [
    {
     "data": {
      "text/plain": [
       "[x, x**2, x**3]"
      ]
     },
     "execution_count": 173,
     "metadata": {},
     "output_type": "execute_result"
    }
   ],
   "source": [
    "eqs = [x ** i for i in range(1, 4)]\n",
    "eqs"
   ]
  },
  {
   "cell_type": "code",
   "execution_count": 174,
   "metadata": {},
   "outputs": [],
   "source": [
    "leqs = [lambdify(x, i) for i in eqs]"
   ]
  },
  {
   "cell_type": "code",
   "execution_count": 319,
   "metadata": {},
   "outputs": [],
   "source": [
    "lhs = [Integral(eq, (x, x0, x2)) for eq in eqs]\n",
    "tex(lhs[0])"
   ]
  },
  {
   "cell_type": "code",
   "execution_count": 321,
   "metadata": {},
   "outputs": [],
   "source": [
    "rhs_eq = [a0 * eq(x0) + a1*eq(x1) + a2 * eq(x2) for eq in leqs]\n",
    "tex(rhs_eq[0])"
   ]
  },
  {
   "cell_type": "code",
   "execution_count": 315,
   "metadata": {},
   "outputs": [
    {
     "name": "stdout",
     "output_type": "stream",
     "text": [
      "\\begin{tabular}{llll}\n",
      "\\toprule\n",
      "{} &      0 &                                                               1 &                                                                                        2 \\\\\n",
      "\\midrule\n",
      "0 &      x &  - \\frac{x_{0}^{2}}{2} + \\frac{\\left(2 h + x_{0}\\right)^{2}}{2} &              a_{0} x_{0} + a_{1} \\left(h + x_{0}\\right) + a_{2} \\left(2 h + x_{0}\\right) \\\\\n",
      "1 &  x^{2} &  - \\frac{x_{0}^{3}}{3} + \\frac{\\left(2 h + x_{0}\\right)^{3}}{3} &  a_{0} x_{0}^{2} + a_{1} \\left(h + x_{0}\\right)^{2} + a_{2} \\left(2 h + x_{0}\\right)^{2} \\\\\n",
      "2 &  x^{3} &  - \\frac{x_{0}^{4}}{4} + \\frac{\\left(2 h + x_{0}\\right)^{4}}{4} &  a_{0} x_{0}^{3} + a_{1} \\left(h + x_{0}\\right)^{3} + a_{2} \\left(2 h + x_{0}\\right)^{3} \\\\\n",
      "\\bottomrule\n",
      "\\end{tabular}\n",
      "\n"
     ]
    }
   ],
   "source": [
    "df = None\n",
    "with pd.option_context('max_colwidth', 10000):\n",
    "    df = pd.DataFrame(list(zip(eqs, lhs, rhs_eq))).apply(np.vectorize(latex))\n",
    "    print(df.to_latex(escape=False))"
   ]
  },
  {
   "cell_type": "code",
   "execution_count": 301,
   "metadata": {},
   "outputs": [],
   "source": [
    "system = list(np.array(rhs_eq) - np.array(lhs))\n"
   ]
  },
  {
   "cell_type": "code",
   "execution_count": 323,
   "metadata": {},
   "outputs": [],
   "source": [
    "sol = linsolve(system, a0, a1, a2)\n",
    "tex(sol.args[0])"
   ]
  },
  {
   "cell_type": "code",
   "execution_count": 179,
   "metadata": {},
   "outputs": [
    {
     "data": {
      "text/latex": [
       "$\\displaystyle 0$"
      ],
      "text/plain": [
       "0"
      ]
     },
     "execution_count": 179,
     "metadata": {},
     "output_type": "execute_result"
    }
   ],
   "source": [
    "system[2].subs([(a0, sol.args[0][0]), (a1, sol.args[0][1]), (a2, sol.args[0][2])]).simplify()"
   ]
  },
  {
   "cell_type": "markdown",
   "metadata": {},
   "source": [
    "Equation"
   ]
  },
  {
   "cell_type": "code",
   "execution_count": 268,
   "metadata": {},
   "outputs": [],
   "source": [
    "A0, A1, A2 = sol.args[0]\n",
    "k, fe = symbols('k f^4(\\\\xi)')\n",
    "x0, x1, x2 = symbols('x_0, x_1, x_2')\n",
    "F = lambda k: k ** 4"
   ]
  },
  {
   "cell_type": "code",
   "execution_count": 325,
   "metadata": {},
   "outputs": [],
   "source": [
    "FX = A0 * F(x0) + A1 * F(x1) + A2 * F(x2) + k * fe\n",
    "tex(FX)"
   ]
  },
  {
   "cell_type": "code",
   "execution_count": 270,
   "metadata": {},
   "outputs": [],
   "source": [
    "RHS = FX.subs(fe, (x ** 4).diff(x, 4))"
   ]
  },
  {
   "cell_type": "code",
   "execution_count": 329,
   "metadata": {},
   "outputs": [],
   "source": [
    "LHS = Integral(x ** 4, (x, x0, x2)).doit()"
   ]
  },
  {
   "cell_type": "code",
   "execution_count": 330,
   "metadata": {},
   "outputs": [],
   "source": [
    "tex(LHS)"
   ]
  },
  {
   "cell_type": "code",
   "execution_count": 273,
   "metadata": {},
   "outputs": [
    {
     "data": {
      "text/latex": [
       "$\\displaystyle \\frac{h x_{0}^{4}}{3} + \\frac{4 h x_{1}^{4}}{3} + \\frac{h x_{2}^{4}}{3} + 24 k$"
      ],
      "text/plain": [
       "h*x_0**4/3 + 4*h*x_1**4/3 + h*x_2**4/3 + 24*k"
      ]
     },
     "execution_count": 273,
     "metadata": {},
     "output_type": "execute_result"
    }
   ],
   "source": [
    "RHS"
   ]
  },
  {
   "cell_type": "code",
   "execution_count": 334,
   "metadata": {},
   "outputs": [],
   "source": [
    "tex(Eq(LHS, RHS).subs(x2, x0 + 2*h).subs(x1, x0 + h))"
   ]
  },
  {
   "cell_type": "code",
   "execution_count": 293,
   "metadata": {},
   "outputs": [
    {
     "data": {
      "text/latex": [
       "$\\displaystyle \\left\\{- \\frac{h^{5}}{90}\\right\\}$"
      ],
      "text/plain": [
       "FiniteSet(-h**5/90)"
      ]
     },
     "execution_count": 293,
     "metadata": {},
     "output_type": "execute_result"
    }
   ],
   "source": [
    "solveset((Eq(LHS - RHS, 0).subs(x2, x0 + 2*h).subs(x1, x0 + h)).simplify(), k)"
   ]
  },
  {
   "cell_type": "code",
   "execution_count": 300,
   "metadata": {},
   "outputs": [
    {
     "data": {
      "text/latex": [
       "$\\displaystyle - \\frac{h^{5}}{90}$"
      ],
      "text/plain": [
       "-h**5/90"
      ]
     },
     "execution_count": 300,
     "metadata": {},
     "output_type": "execute_result"
    }
   ],
   "source": [
    "sol = solveset(Eq(LHS - RHS, 0), k).args[0].subs(x2, x0 + 2*h).subs(x1, x0 + h)\n",
    "sol.simplify()"
   ]
  }
 ],
 "metadata": {
  "kernelspec": {
   "display_name": "Python 3",
   "language": "python",
   "name": "python3"
  },
  "language_info": {
   "codemirror_mode": {
    "name": "ipython",
    "version": 3
   },
   "file_extension": ".py",
   "mimetype": "text/x-python",
   "name": "python",
   "nbconvert_exporter": "python",
   "pygments_lexer": "ipython3",
   "version": "3.7.6"
  },
  "latex_envs": {
   "LaTeX_envs_menu_present": true,
   "autoclose": true,
   "autocomplete": true,
   "bibliofile": "biblio.bib",
   "cite_by": "apalike",
   "current_citInitial": 1,
   "eqLabelWithNumbers": true,
   "eqNumInitial": 1,
   "hotkeys": {
    "equation": "Ctrl-E",
    "itemize": "Ctrl-I"
   },
   "labels_anchors": false,
   "latex_user_defs": false,
   "report_style_numbering": false,
   "user_envs_cfg": false
  }
 },
 "nbformat": 4,
 "nbformat_minor": 2
}
