{
 "cells": [
  {
   "cell_type": "code",
   "execution_count": 104,
   "metadata": {},
   "outputs": [],
   "source": [
    "for i in range(4):\n",
    "    globals()[f'a{i}'] = Symbol(f'a_{i}')\n",
    "x0, h, fe = symbols('x_0 h f(\\\\xi)')\n",
    "x2 = x0 + h\n",
    "x1 = x0 + (h / 2)"
   ]
  },
  {
   "cell_type": "code",
   "execution_count": 105,
   "metadata": {},
   "outputs": [],
   "source": [
    "a0 =  h/6\n",
    "a1 = 2*h/3\n",
    "a2 = h / 6"
   ]
  },
  {
   "cell_type": "code",
   "execution_count": 106,
   "metadata": {},
   "outputs": [
    {
     "data": {
      "text/plain": [
       "[x, x**2, x**3, x**4]"
      ]
     },
     "execution_count": 106,
     "metadata": {},
     "output_type": "execute_result"
    }
   ],
   "source": [
    "eqs = [x ** i for i in range(1, 5)]\n",
    "eqs"
   ]
  },
  {
   "cell_type": "code",
   "execution_count": 107,
   "metadata": {},
   "outputs": [],
   "source": [
    "leqs = [lambdify(x, i) for i in eqs]"
   ]
  },
  {
   "cell_type": "code",
   "execution_count": 108,
   "metadata": {},
   "outputs": [
    {
     "data": {
      "text/plain": [
       "[-x_0**2/2 + (h + x_0)**2/2,\n",
       " -x_0**3/3 + (h + x_0)**3/3,\n",
       " -x_0**4/4 + (h + x_0)**4/4,\n",
       " -x_0**5/5 + (h + x_0)**5/5]"
      ]
     },
     "execution_count": 108,
     "metadata": {},
     "output_type": "execute_result"
    }
   ],
   "source": [
    "lhs = [Integral(eq, (x, x0, x2)).doit() for eq in eqs]\n",
    "lhs"
   ]
  },
  {
   "cell_type": "code",
   "execution_count": 109,
   "metadata": {},
   "outputs": [
    {
     "data": {
      "text/plain": [
       "[a_3*f(\\xi) + h*x_0/6 + 2*h*(h/2 + x_0)/3 + h*(h + x_0)/6,\n",
       " a_3*f(\\xi) + h*x_0**2/6 + 2*h*(h/2 + x_0)**2/3 + h*(h + x_0)**2/6,\n",
       " a_3*f(\\xi) + h*x_0**3/6 + 2*h*(h/2 + x_0)**3/3 + h*(h + x_0)**3/6,\n",
       " a_3*f(\\xi) + h*x_0**4/6 + 2*h*(h/2 + x_0)**4/3 + h*(h + x_0)**4/6]"
      ]
     },
     "execution_count": 109,
     "metadata": {},
     "output_type": "execute_result"
    }
   ],
   "source": [
    "rhs_eq = [a0 * eq(x0) + a1*eq(x1) + a2 * eq(x2) + a3 * fe for eq in leqs]\n",
    "rhs_eq"
   ]
  },
  {
   "cell_type": "code",
   "execution_count": 113,
   "metadata": {},
   "outputs": [
    {
     "data": {
      "text/plain": [
       "[a_3*f(\\xi) + h*x_0/6 + 2*h*(h/2 + x_0)/3 + h*(h + x_0)/6 + x_0**2/2 - (h + x_0)**2/2,\n",
       " a_3*f(\\xi) + h*x_0**2/6 + 2*h*(h/2 + x_0)**2/3 + h*(h + x_0)**2/6 + x_0**3/3 - (h + x_0)**3/3,\n",
       " a_3*f(\\xi) + h*x_0**3/6 + 2*h*(h/2 + x_0)**3/3 + h*(h + x_0)**3/6 + x_0**4/4 - (h + x_0)**4/4,\n",
       " a_3*f(\\xi) + h*x_0**4/6 + 2*h*(h/2 + x_0)**4/3 + h*(h + x_0)**4/6 + x_0**5/5 - (h + x_0)**5/5]"
      ]
     },
     "execution_count": 113,
     "metadata": {},
     "output_type": "execute_result"
    }
   ],
   "source": [
    "system = list(np.array(rhs_eq) - np.array(lhs))\n",
    "system"
   ]
  },
  {
   "cell_type": "code",
   "execution_count": 112,
   "metadata": {},
   "outputs": [
    {
     "data": {
      "text/latex": [
       "$\\displaystyle \\emptyset$"
      ],
      "text/plain": [
       "EmptySet()"
      ]
     },
     "execution_count": 112,
     "metadata": {},
     "output_type": "execute_result"
    }
   ],
   "source": [
    "linsolve(system, a3)"
   ]
  },
  {
   "cell_type": "code",
   "execution_count": null,
   "metadata": {},
   "outputs": [],
   "source": []
  }
 ],
 "metadata": {
  "kernelspec": {
   "display_name": "Python 3",
   "language": "python",
   "name": "python3"
  },
  "language_info": {
   "codemirror_mode": {
    "name": "ipython",
    "version": 3
   },
   "file_extension": ".py",
   "mimetype": "text/x-python",
   "name": "python",
   "nbconvert_exporter": "python",
   "pygments_lexer": "ipython3",
   "version": "3.7.3"
  },
  "latex_envs": {
   "LaTeX_envs_menu_present": true,
   "autoclose": true,
   "autocomplete": true,
   "bibliofile": "biblio.bib",
   "cite_by": "apalike",
   "current_citInitial": 1,
   "eqLabelWithNumbers": true,
   "eqNumInitial": 1,
   "hotkeys": {
    "equation": "Ctrl-E",
    "itemize": "Ctrl-I"
   },
   "labels_anchors": false,
   "latex_user_defs": false,
   "report_style_numbering": false,
   "user_envs_cfg": false
  }
 },
 "nbformat": 4,
 "nbformat_minor": 2
}
