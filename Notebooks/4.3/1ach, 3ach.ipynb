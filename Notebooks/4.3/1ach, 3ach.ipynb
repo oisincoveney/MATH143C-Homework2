{
 "cells": [
  {
   "cell_type": "code",
   "execution_count": 1,
   "metadata": {},
   "outputs": [],
   "source": [
    "from scipy import integrate"
   ]
  },
  {
   "cell_type": "code",
   "execution_count": 42,
   "metadata": {},
   "outputs": [],
   "source": [
    "vals = [\n",
    "    (.5, 1, x ** 4),\n",
    "    (1, 1.5, x ** 2 * log(x)),\n",
    "    (0, math.pi / 4, E ** (3 * x) * sin(2 * x))\n",
    "]"
   ]
  },
  {
   "cell_type": "code",
   "execution_count": 43,
   "metadata": {},
   "outputs": [
    {
     "data": {
      "text/plain": [
       "[[0.5, 1, 0.0625, 1],\n",
       " [1, 1.5, 0.0, 0.9122964932433699],\n",
       " [0, 0.7853981633974483, 0.0, 10.550724074197761]]"
      ]
     },
     "execution_count": 43,
     "metadata": {},
     "output_type": "execute_result"
    }
   ],
   "source": [
    "data = []\n",
    "for i in vals:\n",
    "    d = [i[0], i[1]]\n",
    "    d.extend([lambdify(x, i[2])(j) for j in d])\n",
    "    data.append(d)\n",
    "data"
   ]
  },
  {
   "cell_type": "code",
   "execution_count": 55,
   "metadata": {},
   "outputs": [
    {
     "name": "stdout",
     "output_type": "stream",
     "text": [
      "\\[\n",
      "X = [0.5, 1], Y = [0.0625, 1]\n",
      "0.265625\n",
      "\\]\n",
      "\\[\n",
      "X = [1, 1.5], Y = [0.0, 0.9122964932433699]\n",
      "0.22807412331084248\n",
      "\\]\n",
      "\\[\n",
      "X = [0, 0.7853981633974483], Y = [0.0, 10.550724074197761]\n",
      "4.143259655194083\n",
      "\\]\n"
     ]
    }
   ],
   "source": [
    "ans = []\n",
    "for d in data:\n",
    "    print('\\\\[')\n",
    "    print(f'X = {d[:2]}, Y = {d[2:]}')\n",
    "    print(latex(integrate.trapz(d[2:], d[:2])))\n",
    "    ans.append((integrate.trapz(d[2:], d[:2])))\n",
    "    print('\\\\]')"
   ]
  },
  {
   "cell_type": "code",
   "execution_count": 51,
   "metadata": {},
   "outputs": [
    {
     "data": {
      "text/plain": [
       "'%.6f'"
      ]
     },
     "execution_count": 51,
     "metadata": {},
     "output_type": "execute_result"
    }
   ],
   "source": [
    "%precision 6"
   ]
  },
  {
   "cell_type": "code",
   "execution_count": 68,
   "metadata": {},
   "outputs": [
    {
     "name": "stdout",
     "output_type": "stream",
     "text": [
      "(0.5, 1, x**4)\n",
      "\\[\n",
      "\\text{Actual Error} =  0.071875\n",
      "\\]\n",
      "(1, 1.5, x**2*log(x))\n",
      "\\[\n",
      "\\text{Actual Error} =  0.03581476557804644\n",
      "\\]\n",
      "(0, 0.7853981633974483, exp(3*x)*sin(2*x))\n",
      "\\[\n",
      "\\text{Actual Error} =  1.5546310226869071\n",
      "\\]\n"
     ]
    }
   ],
   "source": [
    "i = 0\n",
    "for val in vals:\n",
    "    print(val)\n",
    "    diff = val[2].diff().diff()\n",
    "    err = (((val[1] - val[0]) ** 3) / 12)\n",
    "    exi_term = max(abs(diff.subs(x, val[0])), abs(diff.subs(x, val[1])))\n",
    "    print('\\\\[')\n",
    "#     print(val[1])\n",
    "    print('\\\\text{Actual Error} = ', ans[i] - integrate.quad(lambdify(x, val[2]), val[0], val[1])[0])\n",
    "    print('\\\\]')\n",
    "    i += 1"
   ]
  },
  {
   "cell_type": "code",
   "execution_count": null,
   "metadata": {},
   "outputs": [],
   "source": []
  },
  {
   "cell_type": "code",
   "execution_count": null,
   "metadata": {},
   "outputs": [],
   "source": []
  }
 ],
 "metadata": {
  "kernelspec": {
   "display_name": "Python 3",
   "language": "python",
   "name": "python3"
  },
  "language_info": {
   "codemirror_mode": {
    "name": "ipython",
    "version": 3
   },
   "file_extension": ".py",
   "mimetype": "text/x-python",
   "name": "python",
   "nbconvert_exporter": "python",
   "pygments_lexer": "ipython3",
   "version": "3.7.3"
  },
  "latex_envs": {
   "LaTeX_envs_menu_present": true,
   "autoclose": true,
   "autocomplete": true,
   "bibliofile": "biblio.bib",
   "cite_by": "apalike",
   "current_citInitial": 1,
   "eqLabelWithNumbers": true,
   "eqNumInitial": 1,
   "hotkeys": {
    "equation": "Ctrl-E",
    "itemize": "Ctrl-I"
   },
   "labels_anchors": false,
   "latex_user_defs": false,
   "report_style_numbering": false,
   "user_envs_cfg": false
  }
 },
 "nbformat": 4,
 "nbformat_minor": 2
}
