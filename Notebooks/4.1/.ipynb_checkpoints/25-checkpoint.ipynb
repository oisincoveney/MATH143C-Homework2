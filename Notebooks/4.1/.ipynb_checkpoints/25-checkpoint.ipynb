{
 "cells": [
  {
   "cell_type": "code",
   "execution_count": 18,
   "metadata": {},
   "outputs": [],
   "source": [
    "h = sy.symbols('h')"
   ]
  },
  {
   "cell_type": "code",
   "execution_count": 10,
   "metadata": {},
   "outputs": [],
   "source": [
    "hvals = [-1, 0, 1, 2, 3]\n",
    "ans = np.array([-0.25      , -0.83333333,  1.5       , -0.5       ,  0.08333333])"
   ]
  },
  {
   "cell_type": "code",
   "execution_count": 9,
   "metadata": {},
   "outputs": [
    {
     "data": {
      "text/plain": [
       "(array([0.2, 0.4, 0.6, 0.8, 1. ]),\n",
       " array([0.9798652, 0.917771 , 0.8080348, 0.6386093, 0.3843735]))"
      ]
     },
     "execution_count": 9,
     "metadata": {},
     "output_type": "execute_result"
    }
   ],
   "source": [
    "X = np.array([','.join(\"0.2 0.4 0.6 0.8 1.0\".split(' ')).split(',')][0],  dtype='float')\n",
    "Y = np.array([','.join(\"0.9798652 0.9177710 0.8080348 0.6386093 0.3843735\".split(' ')).split(',')][0], dtype='float')\n",
    "X, Y"
   ]
  },
  {
   "cell_type": "code",
   "execution_count": 43,
   "metadata": {},
   "outputs": [],
   "source": [
    "data = dict(zip(X, Y))\n",
    "fx = lambda k: data[k] if k in data else k\n",
    "F = sy.Function ('f')\n",
    "x0 = sy.symbols('x_0')"
   ]
  },
  {
   "cell_type": "code",
   "execution_count": 62,
   "metadata": {},
   "outputs": [],
   "source": [
    "dF = ans[0] * F(x0 - h) + ans[1] * F(x0) + 1.5 * F(x0 + h) - 0.5 * F(x0 + 2*h) + ans[4] * F(x0+3*h)"
   ]
  },
  {
   "cell_type": "code",
   "execution_count": 65,
   "metadata": {},
   "outputs": [
    {
     "data": {
      "text/latex": [
       "$\\displaystyle - 0.25 f{\\left(0.2 \\right)} - 0.83333333 f{\\left(0.4 \\right)} + 1.5 f{\\left(0.6 \\right)} - 0.5 f{\\left(0.8 \\right)} + 0.08333333 f{\\left(1.0 \\right)}$"
      ],
      "text/plain": [
       "-0.25*f(0.2) - 0.83333333*f(0.4) + 1.5*f(0.6) - 0.5*f(0.8) + 0.08333333*f(1.0)"
      ]
     },
     "execution_count": 65,
     "metadata": {},
     "output_type": "execute_result"
    }
   ],
   "source": [
    "dF.subs(h, 0.2).subs(x0, 0.4)"
   ]
  },
  {
   "cell_type": "code",
   "execution_count": 70,
   "metadata": {},
   "outputs": [
    {
     "data": {
      "text/latex": [
       "$\\displaystyle 0.199999998$"
      ],
      "text/plain": [
       "0.199999998000000"
      ]
     },
     "execution_count": 70,
     "metadata": {},
     "output_type": "execute_result"
    }
   ],
   "source": [
    "dF.subs(h, 0.2).subs(x0, 0.5).replace(F, fx)"
   ]
  }
 ],
 "metadata": {
  "kernelspec": {
   "display_name": "Python 3",
   "language": "python",
   "name": "python3"
  },
  "language_info": {
   "codemirror_mode": {
    "name": "ipython",
    "version": 3
   },
   "file_extension": ".py",
   "mimetype": "text/x-python",
   "name": "python",
   "nbconvert_exporter": "python",
   "pygments_lexer": "ipython3",
   "version": "3.7.3"
  },
  "latex_envs": {
   "LaTeX_envs_menu_present": true,
   "autoclose": true,
   "autocomplete": true,
   "bibliofile": "biblio.bib",
   "cite_by": "apalike",
   "current_citInitial": 1,
   "eqLabelWithNumbers": true,
   "eqNumInitial": 1,
   "hotkeys": {
    "equation": "Ctrl-E",
    "itemize": "Ctrl-I"
   },
   "labels_anchors": false,
   "latex_user_defs": false,
   "report_style_numbering": false,
   "user_envs_cfg": false
  }
 },
 "nbformat": 4,
 "nbformat_minor": 2
}
