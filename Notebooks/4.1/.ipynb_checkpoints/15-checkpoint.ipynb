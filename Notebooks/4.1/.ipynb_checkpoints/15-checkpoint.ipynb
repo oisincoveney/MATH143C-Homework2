{
 "cells": [
  {
   "cell_type": "code",
   "execution_count": 2,
   "metadata": {},
   "outputs": [],
   "source": [
    "forward = lambda x, y, fx, fy: (fy - fx) / (y - x)\n",
    "backward = lambda x, y, fx, fy: (fx - fy) / (x - y)"
   ]
  },
  {
   "cell_type": "code",
   "execution_count": 3,
   "metadata": {},
   "outputs": [],
   "source": [
    "xa = [0.5, .6, .7]\n",
    "fxa = [.4794, .5646, .6442]"
   ]
  },
  {
   "cell_type": "code",
   "execution_count": 4,
   "metadata": {},
   "outputs": [],
   "source": [
    "def getVals(x, fx):\n",
    "    fd, bd = [], []\n",
    "    for i in range(0,2):\n",
    "        fd.append(str(forward(x[i], x[i+1], fx[i], fx[i+1]))[:5])\n",
    "        bd.append(str(backward(x[i], x[i+1], fx[i], fx[i+1]))[:5])\n",
    "    return fd, bd"
   ]
  },
  {
   "cell_type": "code",
   "execution_count": 12,
   "metadata": {},
   "outputs": [
    {
     "data": {
      "text/plain": [
       "array([0.852, 0.796])"
      ]
     },
     "execution_count": 12,
     "metadata": {},
     "output_type": "execute_result"
    }
   ],
   "source": []
  },
  {
   "cell_type": "code",
   "execution_count": 13,
   "metadata": {},
   "outputs": [
    {
     "name": "stdout",
     "output_type": "stream",
     "text": [
      "\\begin{bmatrix}\n",
      "  0.85 &  0.80\n",
      "\\end{bmatrix}\n"
     ]
    }
   ],
   "source": [
    "ans1a = getVals(xa, fxa)\n",
    "a2l.to_ltx(np.array(ans1a[0], dtype='float'))"
   ]
  },
  {
   "cell_type": "code",
   "execution_count": 53,
   "metadata": {},
   "outputs": [
    {
     "data": {
      "text/plain": [
       "['0.852', '0.852', '0.796']"
      ]
     },
     "execution_count": 53,
     "metadata": {},
     "output_type": "execute_result"
    }
   ],
   "source": []
  },
  {
   "cell_type": "code",
   "execution_count": 7,
   "metadata": {},
   "outputs": [],
   "source": [
    "xb = [0, 0.2, 0.4]\n",
    "fxb = [0.0, 0.74140, 1.3718]"
   ]
  },
  {
   "cell_type": "code",
   "execution_count": 14,
   "metadata": {},
   "outputs": [
    {
     "name": "stdout",
     "output_type": "stream",
     "text": [
      "\\begin{bmatrix}\n",
      "  3.71 &  3.15\n",
      "\\end{bmatrix}\n"
     ]
    }
   ],
   "source": [
    "ans1b = getVals(xb, fxb)\n",
    "a2l.to_ltx(np.array(ans1b[0], dtype='float'))"
   ]
  },
  {
   "cell_type": "code",
   "execution_count": 121,
   "metadata": {},
   "outputs": [],
   "source": [
    "exi = sy.symbols('\\\\xi')\n",
    "fx3a = sy.sin(x)\n",
    "fx3b = sy.exp(x) - 2 * x ** 2 + 3 * x - 1"
   ]
  },
  {
   "cell_type": "code",
   "execution_count": null,
   "metadata": {},
   "outputs": [],
   "source": []
  },
  {
   "cell_type": "code",
   "execution_count": 122,
   "metadata": {},
   "outputs": [
    {
     "data": {
      "text/latex": [
       "$\\displaystyle 0.0282321236697518$"
      ],
      "text/plain": [
       "0.0282321236697518"
      ]
     },
     "execution_count": 122,
     "metadata": {},
     "output_type": "execute_result"
    }
   ],
   "source": [
    "err3a = abs((0.1 / 2) * (get_diffs(fx3a, 2)[2].subs(x, exi)))\n",
    "tex(sy.latex(err3a))\n",
    "err3a.subs(exi, 0.6)"
   ]
  },
  {
   "cell_type": "code",
   "execution_count": 123,
   "metadata": {},
   "outputs": [
    {
     "data": {
      "text/latex": [
       "$\\displaystyle 0.05 \\left|{\\sin{\\left(\\xi \\right)}}\\right|$"
      ],
      "text/plain": [
       "0.05*Abs(sin(\\xi))"
      ]
     },
     "execution_count": 123,
     "metadata": {},
     "output_type": "execute_result"
    }
   ],
   "source": [
    "err3a"
   ]
  },
  {
   "cell_type": "code",
   "execution_count": 133,
   "metadata": {},
   "outputs": [],
   "source": [
    "data = []\n",
    "dfx3a = fx3a.diff()\n",
    "df_approx = np.array([ans1a[0][0]] + ans1a[0], dtype='float')\n",
    "for i, k in enumerate(xa):\n",
    "    df_exact = dfx3a.subs(x, k).evalf()\n",
    "#     print(df_approx[i], df_exact, df_exact - df_approx[i])\n",
    "    abs_error = abs(df_exact - df_approx[i])\n",
    "    bound = max(err3a.subs(exi, k), err3a.subs(exi, xa[i] if i == len(xa)-1 else xa[i+1]))\n",
    "    data.append([k, abs_error, bound])"
   ]
  },
  {
   "cell_type": "code",
   "execution_count": 134,
   "metadata": {},
   "outputs": [],
   "source": [
    "a2l.to_clp(np.array(data), frmt = '{:6.6f}')"
   ]
  },
  {
   "cell_type": "code",
   "execution_count": 135,
   "metadata": {},
   "outputs": [
    {
     "data": {
      "text/plain": [
       "'\\\\frac{x \\\\left(x - 0.4\\\\right) \\\\left(x - 0.2\\\\right) e^{x}}{6}'"
      ]
     },
     "execution_count": 135,
     "metadata": {},
     "output_type": "execute_result"
    }
   ],
   "source": [
    "sy.latex(xterms(0, 3, xb) * get_diffs(fx3b, 3)[3] / math.factorial(3))"
   ]
  },
  {
   "cell_type": "code",
   "execution_count": 136,
   "metadata": {},
   "outputs": [],
   "source": [
    "err3b = abs((0.2 / 2) * (get_diffs(fx3b, 2)[2].subs(x, exi)))\n",
    "tex(sy.latex(err3b))"
   ]
  },
  {
   "cell_type": "code",
   "execution_count": 137,
   "metadata": {},
   "outputs": [],
   "source": [
    "data = []\n",
    "dfx3b = fx3b.diff()\n",
    "df_approx = np.array([ans1b[0][0]] + ans1b[0], dtype='float')\n",
    "\n",
    "for i, k in enumerate(xb):\n",
    "    df_exact = dfx3b.subs(x, k).evalf()\n",
    "    abs_error = abs(df_exact - df_approx[i])\n",
    "    bound = max(err3b.subs(exi, k), err3b.subs(exi, xb[i] if i == len(xb)-1 else xb[i+1]))\n",
    "    data.append([k, abs_error, bound])"
   ]
  },
  {
   "cell_type": "code",
   "execution_count": 139,
   "metadata": {},
   "outputs": [],
   "source": [
    "a2l.to_clp(np.array(data), frmt = '{:6.6f}')"
   ]
  },
  {
   "cell_type": "code",
   "execution_count": null,
   "metadata": {},
   "outputs": [],
   "source": []
  },
  {
   "cell_type": "code",
   "execution_count": null,
   "metadata": {},
   "outputs": [],
   "source": []
  }
 ],
 "metadata": {
  "kernelspec": {
   "display_name": "Python 3",
   "language": "python",
   "name": "python3"
  },
  "language_info": {
   "codemirror_mode": {
    "name": "ipython",
    "version": 3
   },
   "file_extension": ".py",
   "mimetype": "text/x-python",
   "name": "python",
   "nbconvert_exporter": "python",
   "pygments_lexer": "ipython3",
   "version": "3.7.3"
  },
  "latex_envs": {
   "LaTeX_envs_menu_present": true,
   "autoclose": true,
   "autocomplete": true,
   "bibliofile": "biblio.bib",
   "cite_by": "apalike",
   "current_citInitial": 1,
   "eqLabelWithNumbers": true,
   "eqNumInitial": 1,
   "hotkeys": {
    "equation": "Ctrl-E",
    "itemize": "Ctrl-I"
   },
   "labels_anchors": false,
   "latex_user_defs": false,
   "report_style_numbering": false,
   "user_envs_cfg": false
  }
 },
 "nbformat": 4,
 "nbformat_minor": 2
}
