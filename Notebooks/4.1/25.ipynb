{
 "cells": [
  {
   "cell_type": "code",
   "execution_count": 76,
   "metadata": {},
   "outputs": [],
   "source": [
    "from scipy import interpolate as ip"
   ]
  },
  {
   "cell_type": "code",
   "execution_count": 18,
   "metadata": {},
   "outputs": [],
   "source": [
    "h = sy.symbols('h')"
   ]
  },
  {
   "cell_type": "code",
   "execution_count": 10,
   "metadata": {},
   "outputs": [],
   "source": [
    "hvals = [-1, 0, 1, 2, 3]\n",
    "ans = np.array([-0.25      , -0.83333333,  1.5       , -0.5       ,  0.08333333])"
   ]
  },
  {
   "cell_type": "code",
   "execution_count": 90,
   "metadata": {},
   "outputs": [
    {
     "data": {
      "text/plain": [
       "array([-3.        , -9.99999996, 18.        , -6.        ,  0.99999996])"
      ]
     },
     "execution_count": 90,
     "metadata": {},
     "output_type": "execute_result"
    }
   ],
   "source": [
    "ans * 12"
   ]
  },
  {
   "cell_type": "code",
   "execution_count": 115,
   "metadata": {},
   "outputs": [
    {
     "data": {
      "text/plain": [
       "(array([0.2, 0.4, 0.6, 0.8, 1. ], dtype=float32),\n",
       " array([0.9798652, 0.917771 , 0.8080348, 0.6386093, 0.3843735],\n",
       "       dtype=float32))"
      ]
     },
     "execution_count": 115,
     "metadata": {},
     "output_type": "execute_result"
    }
   ],
   "source": [
    "X = np.array([','.join(\"0.2 0.4 0.6 0.8 1.0\".split(' ')).split(',')][0],  dtype='float32')\n",
    "Y = np.array([','.join(\"0.9798652 0.9177710 0.8080348 0.6386093 0.3843735\".split(' ')).split(',')][0], dtype='float32')\n",
    "X, Y"
   ]
  },
  {
   "cell_type": "code",
   "execution_count": 126,
   "metadata": {},
   "outputs": [],
   "source": [
    "data = dict(zip(X, Y))\n",
    "fx = lambda k: data[k] if k in data else ip.lagrange(X, Y)(k)\n",
    "F = sy.Function ('f')\n",
    "x0 = sy.symbols('x_0')"
   ]
  },
  {
   "cell_type": "code",
   "execution_count": 127,
   "metadata": {},
   "outputs": [],
   "source": [
    "dF = ((12) * (ans[0] * F(x0 - h) + ans[1] * F(x0) + 1.5 * F(x0 + h) - 0.5 * F(x0 + 2*h) + ans[4] * F(x0+3*h))) / (12 * 0.2)"
   ]
  },
  {
   "cell_type": "code",
   "execution_count": 128,
   "metadata": {},
   "outputs": [
    {
     "data": {
      "text/latex": [
       "$\\displaystyle - 4.16666665 f{\\left(x_{0} \\right)} - 1.25 f{\\left(- h + x_{0} \\right)} + 7.5 f{\\left(h + x_{0} \\right)} - 2.5 f{\\left(2 h + x_{0} \\right)} + 0.41666665 f{\\left(3 h + x_{0} \\right)}$"
      ],
      "text/plain": [
       "-4.16666665*f(x_0) - 1.25*f(-h + x_0) + 7.5*f(h + x_0) - 2.5*f(2*h + x_0) + 0.41666665*f(3*h + x_0)"
      ]
     },
     "execution_count": 128,
     "metadata": {},
     "output_type": "execute_result"
    }
   ],
   "source": [
    "dF "
   ]
  },
  {
   "cell_type": "code",
   "execution_count": 132,
   "metadata": {},
   "outputs": [],
   "source": [
    "tex(dF.subs([(h, 0.2), (x0, 0.4)]))"
   ]
  },
  {
   "cell_type": "code",
   "execution_count": 133,
   "metadata": {},
   "outputs": [],
   "source": [
    "tex(dF.subs([(h, 0.2), (x0, 0.8)]))"
   ]
  },
  {
   "cell_type": "code",
   "execution_count": null,
   "metadata": {},
   "outputs": [],
   "source": []
  }
 ],
 "metadata": {
  "kernelspec": {
   "display_name": "Python 3",
   "language": "python",
   "name": "python3"
  },
  "language_info": {
   "codemirror_mode": {
    "name": "ipython",
    "version": 3
   },
   "file_extension": ".py",
   "mimetype": "text/x-python",
   "name": "python",
   "nbconvert_exporter": "python",
   "pygments_lexer": "ipython3",
   "version": "3.7.3"
  },
  "latex_envs": {
   "LaTeX_envs_menu_present": true,
   "autoclose": true,
   "autocomplete": true,
   "bibliofile": "biblio.bib",
   "cite_by": "apalike",
   "current_citInitial": 1,
   "eqLabelWithNumbers": true,
   "eqNumInitial": 1,
   "hotkeys": {
    "equation": "Ctrl-E",
    "itemize": "Ctrl-I"
   },
   "labels_anchors": false,
   "latex_user_defs": false,
   "report_style_numbering": false,
   "user_envs_cfg": false
  }
 },
 "nbformat": 4,
 "nbformat_minor": 2
}
