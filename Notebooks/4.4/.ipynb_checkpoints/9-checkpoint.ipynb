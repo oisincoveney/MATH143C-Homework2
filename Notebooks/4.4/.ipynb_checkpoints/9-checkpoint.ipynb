{
 "cells": [
  {
   "cell_type": "code",
   "execution_count": 7,
   "metadata": {},
   "outputs": [],
   "source": [
    "h, A = symbols('h \\\\alpha')\n",
    "vals = [\n",
    "    [0, 1],\n",
    "    [0.5, 0.25],\n",
    "    [1, 2],\n",
    "    [0.25, A],\n",
    "    [0.75, A]\n",
    "]\n",
    "vals.sort(key=lambda a: a[0])"
   ]
  },
  {
   "cell_type": "code",
   "execution_count": 27,
   "metadata": {},
   "outputs": [
    {
     "data": {
      "text/plain": [
       "{0: 1, 0.25: \\alpha, 0.5: 0.25, 0.75: \\alpha, 1: 2}"
      ]
     },
     "execution_count": 27,
     "metadata": {},
     "output_type": "execute_result"
    }
   ],
   "source": [
    "dict(vals)"
   ]
  },
  {
   "cell_type": "code",
   "execution_count": 2,
   "metadata": {},
   "outputs": [],
   "source": [
    "F = Function('f')"
   ]
  },
  {
   "cell_type": "code",
   "execution_count": 19,
   "metadata": {},
   "outputs": [
    {
     "data": {
      "text/plain": [
       "1"
      ]
     },
     "execution_count": 19,
     "metadata": {},
     "output_type": "execute_result"
    }
   ],
   "source": [
    "vals[-1][0]"
   ]
  },
  {
   "cell_type": "code",
   "execution_count": 22,
   "metadata": {},
   "outputs": [],
   "source": [
    "su = 2 * sum([F(i[0]) for i in vals[1:-1]]) \n",
    "trap = (h / 2) * (F(vals[0][0]) + F(vals[-1][0])) + su"
   ]
  },
  {
   "cell_type": "code",
   "execution_count": 23,
   "metadata": {},
   "outputs": [
    {
     "data": {
      "text/latex": [
       "$\\displaystyle \\frac{h \\left(f{\\left(0 \\right)} + f{\\left(1 \\right)}\\right)}{2} + 2 f{\\left(0.25 \\right)} + 2 f{\\left(0.5 \\right)} + 2 f{\\left(0.75 \\right)}$"
      ],
      "text/plain": [
       "h*(f(0) + f(1))/2 + 2*f(0.25) + 2*f(0.5) + 2*f(0.75)"
      ]
     },
     "execution_count": 23,
     "metadata": {},
     "output_type": "execute_result"
    }
   ],
   "source": [
    "trap"
   ]
  },
  {
   "cell_type": "code",
   "execution_count": 33,
   "metadata": {},
   "outputs": [],
   "source": [
    "d = dict(vals)\n",
    "fx = lambda k: d[float(k)]"
   ]
  },
  {
   "cell_type": "code",
   "execution_count": 34,
   "metadata": {},
   "outputs": [
    {
     "data": {
      "text/latex": [
       "$\\displaystyle 4 \\alpha + \\frac{3 h}{2} + 0.5$"
      ],
      "text/plain": [
       "4*\\alpha + 3*h/2 + 0.5"
      ]
     },
     "execution_count": 34,
     "metadata": {},
     "output_type": "execute_result"
    }
   ],
   "source": [
    "trap.replace(F, fx).sub"
   ]
  },
  {
   "cell_type": "code",
   "execution_count": null,
   "metadata": {},
   "outputs": [],
   "source": []
  }
 ],
 "metadata": {
  "kernelspec": {
   "display_name": "Python 3",
   "language": "python",
   "name": "python3"
  },
  "language_info": {
   "codemirror_mode": {
    "name": "ipython",
    "version": 3
   },
   "file_extension": ".py",
   "mimetype": "text/x-python",
   "name": "python",
   "nbconvert_exporter": "python",
   "pygments_lexer": "ipython3",
   "version": "3.7.6"
  }
 },
 "nbformat": 4,
 "nbformat_minor": 4
}
