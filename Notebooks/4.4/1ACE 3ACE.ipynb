{
 "cells": [
  {
   "cell_type": "code",
   "execution_count": 48,
   "metadata": {},
   "outputs": [],
   "source": [
    "from scipy import integrate"
   ]
  },
  {
   "cell_type": "code",
   "execution_count": 49,
   "metadata": {},
   "outputs": [],
   "source": [
    "data = [\n",
    "    [1, 2, x * log(x), 4],\n",
    "    [0, 2, 2 / (x ** 2 + 4), 6],\n",
    "    [0, 2, sin(3 * x) * (math.e ** (2*x)), 8]\n",
    "]"
   ]
  },
  {
   "cell_type": "code",
   "execution_count": 50,
   "metadata": {},
   "outputs": [
    {
     "data": {
      "text/latex": [
       "$\\displaystyle 2.71828182845905^{2 x} \\sin{\\left(3 x \\right)}$"
      ],
      "text/plain": [
       "2.71828182845905**(2*x)*sin(3*x)"
      ]
     },
     "execution_count": 50,
     "metadata": {},
     "output_type": "execute_result"
    }
   ],
   "source": [
    "data[2][2]"
   ]
  },
  {
   "cell_type": "code",
   "execution_count": 53,
   "metadata": {},
   "outputs": [],
   "source": [
    "ans = []\n",
    "for i in data:\n",
    "    X = np.linspace(i[0], i[1], i[3] + 1)\n",
    "    Y = [lambdify(x, i[2])(a) for a in X]\n",
    "    ans.append((latex(i[2]), np.trapz(Y, X), integrate.simps(Y, X)))"
   ]
  },
  {
   "cell_type": "code",
   "execution_count": 82,
   "metadata": {},
   "outputs": [],
   "source": [
    "df = pd.DataFrame(ans).apply(np.vectorize(latex))\n",
    "df[[1, 2]]df[[1, 2]].astype('float64')"
   ]
  },
  {
   "cell_type": "code",
   "execution_count": 85,
   "metadata": {},
   "outputs": [
    {
     "name": "stdout",
     "output_type": "stream",
     "text": [
      "\\begin{tabular}{llrr}\n",
      "\\toprule\n",
      "{} &                                               0 &          1 &          2 \\\\\n",
      "\\midrule\n",
      "0 &                         x \\log{\\left(x \\right)} &   0.639900 &   0.636310 \\\\\n",
      "1 &                             \\frac{2}{x^{2} + 4} &   0.784241 &   0.785398 \\\\\n",
      "2 &  2.71828182845905^{2 x} \\sin{\\left(3 x \\right)} & -13.575979 & -14.183342 \\\\\n",
      "\\bottomrule\n",
      "\\end{tabular}\n",
      "\n"
     ]
    }
   ],
   "source": [
    "print(df.to_latex(escape=False))"
   ]
  }
 ],
 "metadata": {
  "kernelspec": {
   "display_name": "Python 3",
   "language": "python",
   "name": "python3"
  },
  "language_info": {
   "codemirror_mode": {
    "name": "ipython",
    "version": 3
   },
   "file_extension": ".py",
   "mimetype": "text/x-python",
   "name": "python",
   "nbconvert_exporter": "python",
   "pygments_lexer": "ipython3",
   "version": "3.7.6"
  }
 },
 "nbformat": 4,
 "nbformat_minor": 4
}
