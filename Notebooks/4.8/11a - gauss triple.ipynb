{
 "cells": [
  {
   "cell_type": "code",
   "execution_count": 2,
   "metadata": {},
   "outputs": [],
   "source": [
    "from scipy.special import roots_legendre as R"
   ]
  },
  {
   "cell_type": "code",
   "execution_count": 35,
   "metadata": {},
   "outputs": [],
   "source": [
    "def gti(a, b, c, d, A, B, m, n, p, F):\n",
    "    h1 = (b - a) / 2\n",
    "    h2 = (b + a) / 2\n",
    "    J = 0\n",
    "    \n",
    "    for i in range(1, m+1):\n",
    "        JX = 0\n",
    "        X = h1 * R(m)[0][i-1] + h2\n",
    "        D = d(X)\n",
    "        C = c(X)\n",
    "        K1 = (D - C) / 2\n",
    "        K2 = (D + C) / 2\n",
    "        \n",
    "        for j in range(1, n + 1):\n",
    "            JY = 0\n",
    "            Y = K1 * R(n)[0][j-1] + K2\n",
    "            beta = B(X, Y)\n",
    "            alpha = A(X, Y)\n",
    "            L1 = (beta - alpha) /2\n",
    "            L2 = (beta + alpha) / 2\n",
    "            \n",
    "            for k in range(1, p + 1):\n",
    "#                 print(k, p, R(p))\n",
    "                Z = L1 * R(p)[0][k - 1] + L2\n",
    "                Q = F(X, Y, Z)\n",
    "                JY += R(p)[1][k-1] * Q\n",
    "            \n",
    "            JX += R(n)[1][j-1] * L1 * JY\n",
    "        \n",
    "        J += R(m)[1][i-1] * K1 * JX\n",
    "    return h1 * J"
   ]
  },
  {
   "cell_type": "code",
   "execution_count": 36,
   "metadata": {},
   "outputs": [],
   "source": [
    "c = lambda k: 1\n",
    "d = lambda k: 2\n",
    "A = lambda k, j: 0\n",
    "B = lambda k, j: 0.5"
   ]
  },
  {
   "cell_type": "code",
   "execution_count": 37,
   "metadata": {},
   "outputs": [],
   "source": [
    "F = lambda a, b, c: math.e ** (a + b + c)"
   ]
  },
  {
   "cell_type": "code",
   "execution_count": 39,
   "metadata": {},
   "outputs": [
    {
     "data": {
      "text/plain": [
       "-5.6651758839620925e-09"
      ]
     },
     "execution_count": 39,
     "metadata": {},
     "output_type": "execute_result"
    }
   ],
   "source": [
    "gti(0, 1, c, d, A, B, 4, 4, 4, F) - tplquad(F, 0, 1, 1, 2, 0, 0.5)[0]"
   ]
  },
  {
   "cell_type": "code",
   "execution_count": 31,
   "metadata": {},
   "outputs": [],
   "source": [
    "from scipy.integrate import tplquad"
   ]
  },
  {
   "cell_type": "code",
   "execution_count": 33,
   "metadata": {},
   "outputs": [
    {
     "data": {
      "text/plain": [
       "0.0024102887009815888"
      ]
     },
     "execution_count": 33,
     "metadata": {},
     "output_type": "execute_result"
    }
   ],
   "source": [
    "tplquad(F, 0, 1, 1, 2, 0, 0.5)[0]"
   ]
  },
  {
   "cell_type": "code",
   "execution_count": null,
   "metadata": {},
   "outputs": [],
   "source": []
  }
 ],
 "metadata": {
  "kernelspec": {
   "display_name": "Python 3",
   "language": "python",
   "name": "python3"
  },
  "language_info": {
   "codemirror_mode": {
    "name": "ipython",
    "version": 3
   },
   "file_extension": ".py",
   "mimetype": "text/x-python",
   "name": "python",
   "nbconvert_exporter": "python",
   "pygments_lexer": "ipython3",
   "version": "3.7.3"
  },
  "latex_envs": {
   "LaTeX_envs_menu_present": true,
   "autoclose": true,
   "autocomplete": true,
   "bibliofile": "biblio.bib",
   "cite_by": "apalike",
   "current_citInitial": 1,
   "eqLabelWithNumbers": true,
   "eqNumInitial": 1,
   "hotkeys": {
    "equation": "Ctrl-E",
    "itemize": "Ctrl-I"
   },
   "labels_anchors": false,
   "latex_user_defs": false,
   "report_style_numbering": false,
   "user_envs_cfg": false
  }
 },
 "nbformat": 4,
 "nbformat_minor": 2
}
