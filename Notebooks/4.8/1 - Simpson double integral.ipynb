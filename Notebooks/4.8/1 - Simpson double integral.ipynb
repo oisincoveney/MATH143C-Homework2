{
 "cells": [
  {
   "cell_type": "code",
   "execution_count": 2,
   "metadata": {},
   "outputs": [],
   "source": [
    "def sdi(a, b, m, n, c, d, F):\n",
    "    h = (b - a) / n\n",
    "    J = [0, 0, 0]\n",
    "    for i in range(n+1):\n",
    "        X = a + i * h\n",
    "        HX = (d(X) - c(x)) / m\n",
    "        K = [0] * 3\n",
    "        K[0] = F(X, c(x)) + F(X, d(x))\n",
    "        K[1] = 0\n",
    "        K[2] = 0\n",
    "        \n",
    "        for j in range(1, m):\n",
    "            Y = c(X) + j * HX\n",
    "            Q = F(X, Y)\n",
    "            if j % 2 == 0:\n",
    "                K[1] += Q\n",
    "            else:\n",
    "                K[2] += Q\n",
    "            \n",
    "        L = (K[0] + K[1] * 2 + K[2] * 4) * (HX / 3)\n",
    "        \n",
    "        if i == 0 or i == n:\n",
    "            J[0] += L\n",
    "        elif i % 2 == 0:\n",
    "            J[1] += L\n",
    "        else:\n",
    "            J[2] += L\n",
    "    return h * (J[0] + 2 * J[1] + 4 * J[2]) / 3"
   ]
  },
  {
   "cell_type": "code",
   "execution_count": 3,
   "metadata": {},
   "outputs": [],
   "source": [
    "F = lambda a, b: a * (b ** 2)"
   ]
  },
  {
   "cell_type": "code",
   "execution_count": 4,
   "metadata": {},
   "outputs": [
    {
     "data": {
      "text/plain": [
       "0.3115733333333332"
      ]
     },
     "execution_count": 4,
     "metadata": {},
     "output_type": "execute_result"
    }
   ],
   "source": [
    "sdi(2.1, 2.5, 4, 4, lambda k: 1.2, lambda k: 1.4, F)"
   ]
  },
  {
   "cell_type": "code",
   "execution_count": null,
   "metadata": {},
   "outputs": [],
   "source": []
  }
 ],
 "metadata": {
  "kernelspec": {
   "display_name": "Python 3",
   "language": "python",
   "name": "python3"
  },
  "language_info": {
   "codemirror_mode": {
    "name": "ipython",
    "version": 3
   },
   "file_extension": ".py",
   "mimetype": "text/x-python",
   "name": "python",
   "nbconvert_exporter": "python",
   "pygments_lexer": "ipython3",
   "version": "3.7.3"
  },
  "latex_envs": {
   "LaTeX_envs_menu_present": true,
   "autoclose": true,
   "autocomplete": true,
   "bibliofile": "biblio.bib",
   "cite_by": "apalike",
   "current_citInitial": 1,
   "eqLabelWithNumbers": true,
   "eqNumInitial": 1,
   "hotkeys": {
    "equation": "Ctrl-E",
    "itemize": "Ctrl-I"
   },
   "labels_anchors": false,
   "latex_user_defs": false,
   "report_style_numbering": false,
   "user_envs_cfg": false
  }
 },
 "nbformat": 4,
 "nbformat_minor": 2
}
