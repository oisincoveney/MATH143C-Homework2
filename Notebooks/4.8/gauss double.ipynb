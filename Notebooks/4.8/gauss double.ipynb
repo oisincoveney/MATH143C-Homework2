{
 "cells": [
  {
   "cell_type": "code",
   "execution_count": 3,
   "metadata": {},
   "outputs": [],
   "source": [
    "from scipy.special import roots_legendre as ROOTS"
   ]
  },
  {
   "cell_type": "code",
   "execution_count": 14,
   "metadata": {},
   "outputs": [
    {
     "data": {
      "text/plain": [
       "array([-0.77459667,  0.        ,  0.77459667])"
      ]
     },
     "execution_count": 14,
     "metadata": {},
     "output_type": "execute_result"
    }
   ],
   "source": []
  },
  {
   "cell_type": "code",
   "execution_count": 29,
   "metadata": {},
   "outputs": [],
   "source": [
    "def gdi(a, b, m, n, c, d, F):\n",
    "    h = [(b-a) / 2, (b + a) / 2]\n",
    "    J = 0\n",
    "    for i in range(1, m+1):\n",
    "        JX = 0\n",
    "        X = h[0] * ROOTS(m)[0][i-1] + h[1]\n",
    "        D = d(X)\n",
    "        C = c(X)\n",
    "        K = [(D - C) / 2, (D + C) / 2]\n",
    "        \n",
    "        for j in range(1, n+1):\n",
    "            Y = K[0] * ROOTS(n)[0][j-1] + K[1]\n",
    "            Q = F(X, Y)\n",
    "            JX += ROOTS(n)[1][j-1] * Q\n",
    "        \n",
    "        J += ROOTS(m)[1][i-1] * K[0] * JX\n",
    "    return J * h[0]"
   ]
  },
  {
   "cell_type": "code",
   "execution_count": 30,
   "metadata": {},
   "outputs": [],
   "source": [
    "F = lambda a, b: a * (b ** 2)"
   ]
  },
  {
   "cell_type": "code",
   "execution_count": 31,
   "metadata": {},
   "outputs": [
    {
     "data": {
      "text/plain": [
       "0.3115733333333331"
      ]
     },
     "execution_count": 31,
     "metadata": {},
     "output_type": "execute_result"
    }
   ],
   "source": [
    "gdi(2.1, 2.5, 2, 2, lambda k: 1.2, lambda k: 1.4, F)"
   ]
  },
  {
   "cell_type": "code",
   "execution_count": null,
   "metadata": {},
   "outputs": [],
   "source": []
  }
 ],
 "metadata": {
  "kernelspec": {
   "display_name": "Python 3",
   "language": "python",
   "name": "python3"
  },
  "language_info": {
   "codemirror_mode": {
    "name": "ipython",
    "version": 3
   },
   "file_extension": ".py",
   "mimetype": "text/x-python",
   "name": "python",
   "nbconvert_exporter": "python",
   "pygments_lexer": "ipython3",
   "version": "3.7.3"
  },
  "latex_envs": {
   "LaTeX_envs_menu_present": true,
   "autoclose": true,
   "autocomplete": true,
   "bibliofile": "biblio.bib",
   "cite_by": "apalike",
   "current_citInitial": 1,
   "eqLabelWithNumbers": true,
   "eqNumInitial": 1,
   "hotkeys": {
    "equation": "Ctrl-E",
    "itemize": "Ctrl-I"
   },
   "labels_anchors": false,
   "latex_user_defs": false,
   "report_style_numbering": false,
   "user_envs_cfg": false
  }
 },
 "nbformat": 4,
 "nbformat_minor": 2
}
