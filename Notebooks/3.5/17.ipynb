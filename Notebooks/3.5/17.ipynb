{
 "cells": [
  {
   "cell_type": "code",
   "execution_count": 1,
   "metadata": {},
   "outputs": [],
   "source": [
    "fx = sy.cos(sy.pi * x)"
   ]
  },
  {
   "cell_type": "code",
   "execution_count": 5,
   "metadata": {},
   "outputs": [
    {
     "data": {
      "text/plain": [
       "(array([0.  , 0.25, 0.5 , 0.75, 1.  ]),\n",
       " array([ 1.00000000e+00,  7.07106781e-01,  6.12323400e-17, -7.07106781e-01,\n",
       "        -1.00000000e+00]))"
      ]
     },
     "execution_count": 5,
     "metadata": {},
     "output_type": "execute_result"
    }
   ],
   "source": [
    "X = np.linspace(0, 1, 5)\n",
    "Y = sy.lambdify(x, fx)(X)\n",
    "X, Y"
   ]
  },
  {
   "cell_type": "code",
   "execution_count": 6,
   "metadata": {},
   "outputs": [
    {
     "data": {
      "text/latex": [
       "$\\displaystyle 0$"
      ],
      "text/plain": [
       "0"
      ]
     },
     "execution_count": 6,
     "metadata": {},
     "output_type": "execute_result"
    }
   ],
   "source": [
    "sy.integrate(fx, (x, 0, 1))"
   ]
  },
  {
   "cell_type": "code",
   "execution_count": 10,
   "metadata": {},
   "outputs": [],
   "source": [
    "from scipy import interpolate as ip\n",
    "cs = ip.CubicSpline(X, Y, bc_type='natural')"
   ]
  },
  {
   "cell_type": "code",
   "execution_count": 61,
   "metadata": {},
   "outputs": [
    {
     "data": {
      "text/plain": [
       "array([[ 1.00000000e+00,  7.07106781e-01,  6.12323400e-17,\n",
       "        -7.07106781e-01],\n",
       "       [-7.57359313e-01, -2.00000000e+00, -3.24264069e+00,\n",
       "        -2.00000000e+00],\n",
       "       [-4.44089210e-16, -4.97056275e+00, -5.32907052e-15,\n",
       "         4.97056275e+00],\n",
       "       [-6.62741700e+00,  6.62741700e+00,  6.62741700e+00,\n",
       "        -6.62741700e+00]])"
      ]
     },
     "execution_count": 61,
     "metadata": {},
     "output_type": "execute_result"
    }
   ],
   "source": []
  },
  {
   "cell_type": "code",
   "execution_count": 90,
   "metadata": {},
   "outputs": [
    {
     "name": "stdout",
     "output_type": "stream",
     "text": [
      "\\begin{tabular}\n",
      "  1.00 & -0.76 & -0.00 & -6.63\\\\\n",
      "  0.71 & -2.00 & -4.97 &  6.63\\\\\n",
      "  0.00 & -3.24 & -0.00 &  6.63\\\\\n",
      " -0.71 & -2.00 &  4.97 & -6.63\n",
      "\\end{tabular}\n"
     ]
    }
   ],
   "source": [
    "coefs = np.flip(cs.c, 0).transpose()\n",
    "a2l.to_ltx(coefs, arraytype='tabular')"
   ]
  },
  {
   "cell_type": "code",
   "execution_count": 81,
   "metadata": {},
   "outputs": [
    {
     "name": "stdout",
     "output_type": "stream",
     "text": [
      "[ 1.00000000e+00 -7.57359313e-01 -4.44089210e-16 -6.62741700e+00]\n"
     ]
    },
    {
     "data": {
      "text/plain": [
       "1.0"
      ]
     },
     "metadata": {},
     "output_type": "display_data"
    },
    {
     "data": {
      "text/latex": [
       "$\\displaystyle 1.0 - 0.757359312880715 x$"
      ],
      "text/plain": [
       "1.0 - 0.757359312880715*x"
      ]
     },
     "metadata": {},
     "output_type": "display_data"
    },
    {
     "data": {
      "text/latex": [
       "$\\displaystyle - 4.44089209850063 \\cdot 10^{-16} x^{2} - 0.757359312880715 x + 1.0$"
      ],
      "text/plain": [
       "-4.44089209850063e-16*x**2 - 0.757359312880715*x + 1.0"
      ]
     },
     "metadata": {},
     "output_type": "display_data"
    },
    {
     "data": {
      "text/latex": [
       "$\\displaystyle - 6.62741699796952 x^{3} - 4.44089209850063 \\cdot 10^{-16} x^{2} - 0.757359312880715 x + 1.0$"
      ],
      "text/plain": [
       "-6.62741699796952*x**3 - 4.44089209850063e-16*x**2 - 0.757359312880715*x + 1.0"
      ]
     },
     "metadata": {},
     "output_type": "display_data"
    },
    {
     "name": "stdout",
     "output_type": "stream",
     "text": [
      "[ 0.70710678 -2.         -4.97056275  6.627417  ]\n"
     ]
    },
    {
     "data": {
      "text/plain": [
       "0.7071067811865476"
      ]
     },
     "metadata": {},
     "output_type": "display_data"
    },
    {
     "data": {
      "text/latex": [
       "$\\displaystyle 1.20710678118655 - 2.0 x$"
      ],
      "text/plain": [
       "1.20710678118655 - 2.0*x"
      ]
     },
     "metadata": {},
     "output_type": "display_data"
    },
    {
     "data": {
      "text/latex": [
       "$\\displaystyle - 2.0 x - 4.97056274847714 \\left(x - 0.25\\right)^{2} + 1.20710678118655$"
      ],
      "text/plain": [
       "-2.0*x - 4.97056274847714*(x - 0.25)**2 + 1.20710678118655"
      ]
     },
     "metadata": {},
     "output_type": "display_data"
    },
    {
     "data": {
      "text/latex": [
       "$\\displaystyle - 2.0 x + 6.62741699796952 \\left(x - 0.25\\right)^{3} - 4.97056274847714 \\left(x - 0.25\\right)^{2} + 1.20710678118655$"
      ],
      "text/plain": [
       "-2.0*x + 6.62741699796952*(x - 0.25)**3 - 4.97056274847714*(x - 0.25)**2 + 1.20710678118655"
      ]
     },
     "metadata": {},
     "output_type": "display_data"
    },
    {
     "name": "stdout",
     "output_type": "stream",
     "text": [
      "[ 6.12323400e-17 -3.24264069e+00 -5.32907052e-15  6.62741700e+00]\n"
     ]
    },
    {
     "data": {
      "text/plain": [
       "6.123233995736766e-17"
      ]
     },
     "metadata": {},
     "output_type": "display_data"
    },
    {
     "data": {
      "text/latex": [
       "$\\displaystyle 1.62132034355964 - 3.24264068711928 x$"
      ],
      "text/plain": [
       "1.62132034355964 - 3.24264068711928*x"
      ]
     },
     "metadata": {},
     "output_type": "display_data"
    },
    {
     "data": {
      "text/latex": [
       "$\\displaystyle - 3.24264068711928 x - 5.32907051820075 \\cdot 10^{-15} \\left(x - 0.5\\right)^{2} + 1.62132034355964$"
      ],
      "text/plain": [
       "-3.24264068711928*x - 5.32907051820075e-15*(x - 0.5)**2 + 1.62132034355964"
      ]
     },
     "metadata": {},
     "output_type": "display_data"
    },
    {
     "data": {
      "text/latex": [
       "$\\displaystyle - 3.24264068711928 x + 6.62741699796953 \\left(x - 0.5\\right)^{3} - 5.32907051820075 \\cdot 10^{-15} \\left(x - 0.5\\right)^{2} + 1.62132034355964$"
      ],
      "text/plain": [
       "-3.24264068711928*x + 6.62741699796953*(x - 0.5)**3 - 5.32907051820075e-15*(x - 0.5)**2 + 1.62132034355964"
      ]
     },
     "metadata": {},
     "output_type": "display_data"
    },
    {
     "name": "stdout",
     "output_type": "stream",
     "text": [
      "[-0.70710678 -2.          4.97056275 -6.627417  ]\n"
     ]
    },
    {
     "data": {
      "text/plain": [
       "-0.7071067811865475"
      ]
     },
     "metadata": {},
     "output_type": "display_data"
    },
    {
     "data": {
      "text/latex": [
       "$\\displaystyle 0.792893218813452 - 2.0 x$"
      ],
      "text/plain": [
       "0.792893218813452 - 2.0*x"
      ]
     },
     "metadata": {},
     "output_type": "display_data"
    },
    {
     "data": {
      "text/latex": [
       "$\\displaystyle - 2.0 x + 4.97056274847714 \\left(x - 0.75\\right)^{2} + 0.792893218813452$"
      ],
      "text/plain": [
       "-2.0*x + 4.97056274847714*(x - 0.75)**2 + 0.792893218813452"
      ]
     },
     "metadata": {},
     "output_type": "display_data"
    },
    {
     "data": {
      "text/latex": [
       "$\\displaystyle - 2.0 x - 6.62741699796952 \\left(x - 0.75\\right)^{3} + 4.97056274847714 \\left(x - 0.75\\right)^{2} + 0.792893218813452$"
      ],
      "text/plain": [
       "-2.0*x - 6.62741699796952*(x - 0.75)**3 + 4.97056274847714*(x - 0.75)**2 + 0.792893218813452"
      ]
     },
     "metadata": {},
     "output_type": "display_data"
    }
   ],
   "source": [
    "eqs = []\n",
    "for idx, i in enumerate(coefs):\n",
    "    print(i)\n",
    "    eq = i[0]\n",
    "    for power, j in enumerate(i[1:]):\n",
    "#         display(j, (x - X[idx]) ** (power+1))\n",
    "        display(eq)\n",
    "        eq += j * (x - X[idx]) ** (power + 1)\n",
    "    display(eq)\n",
    "    eqs.append(eq)"
   ]
  },
  {
   "cell_type": "code",
   "execution_count": 82,
   "metadata": {},
   "outputs": [
    {
     "data": {
      "text/latex": [
       "$\\displaystyle - 6.62741699796952 x^{3} - 4.44089209850063 \\cdot 10^{-16} x^{2} - 0.757359312880715 x + 1.0$"
      ],
      "text/plain": [
       "-6.62741699796952*x**3 - 4.44089209850063e-16*x**2 - 0.757359312880715*x + 1.0"
      ]
     },
     "metadata": {},
     "output_type": "display_data"
    },
    {
     "data": {
      "text/plain": [
       "(x, 0.0, 0.25)"
      ]
     },
     "metadata": {},
     "output_type": "display_data"
    },
    {
     "data": {
      "text/latex": [
       "$\\displaystyle - 2.0 x + 6.62741699796952 \\left(x - 0.25\\right)^{3} - 4.97056274847714 \\left(x - 0.25\\right)^{2} + 1.20710678118655$"
      ],
      "text/plain": [
       "-2.0*x + 6.62741699796952*(x - 0.25)**3 - 4.97056274847714*(x - 0.25)**2 + 1.20710678118655"
      ]
     },
     "metadata": {},
     "output_type": "display_data"
    },
    {
     "data": {
      "text/plain": [
       "(x, 0.25, 0.5)"
      ]
     },
     "metadata": {},
     "output_type": "display_data"
    },
    {
     "data": {
      "text/latex": [
       "$\\displaystyle - 3.24264068711928 x + 6.62741699796953 \\left(x - 0.5\\right)^{3} - 5.32907051820075 \\cdot 10^{-15} \\left(x - 0.5\\right)^{2} + 1.62132034355964$"
      ],
      "text/plain": [
       "-3.24264068711928*x + 6.62741699796953*(x - 0.5)**3 - 5.32907051820075e-15*(x - 0.5)**2 + 1.62132034355964"
      ]
     },
     "metadata": {},
     "output_type": "display_data"
    },
    {
     "data": {
      "text/plain": [
       "(x, 0.5, 0.75)"
      ]
     },
     "metadata": {},
     "output_type": "display_data"
    },
    {
     "data": {
      "text/latex": [
       "$\\displaystyle - 2.0 x - 6.62741699796952 \\left(x - 0.75\\right)^{3} + 4.97056274847714 \\left(x - 0.75\\right)^{2} + 0.792893218813452$"
      ],
      "text/plain": [
       "-2.0*x - 6.62741699796952*(x - 0.75)**3 + 4.97056274847714*(x - 0.75)**2 + 0.792893218813452"
      ]
     },
     "metadata": {},
     "output_type": "display_data"
    },
    {
     "data": {
      "text/plain": [
       "(x, 0.75, 1.0)"
      ]
     },
     "metadata": {},
     "output_type": "display_data"
    }
   ],
   "source": [
    "for i, k in enumerate(eqs):\n",
    "    display(k, (x, X[i], X[i+1]))"
   ]
  },
  {
   "cell_type": "code",
   "execution_count": 83,
   "metadata": {},
   "outputs": [
    {
     "data": {
      "text/latex": [
       "$\\displaystyle - 6.62741699796952 x^{3} - 4.44089209850063 \\cdot 10^{-16} x^{2} - 0.757359312880715 x + 1.0$"
      ],
      "text/plain": [
       "-6.62741699796952*x**3 - 4.44089209850063e-16*x**2 - 0.757359312880715*x + 1.0"
      ]
     },
     "metadata": {},
     "output_type": "display_data"
    },
    {
     "data": {
      "text/latex": [
       "$\\displaystyle - 2.0 x + 6.62741699796952 \\left(x - 0.25\\right)^{3} - 4.97056274847714 \\left(x - 0.25\\right)^{2} + 1.20710678118655$"
      ],
      "text/plain": [
       "-2.0*x + 6.62741699796952*(x - 0.25)**3 - 4.97056274847714*(x - 0.25)**2 + 1.20710678118655"
      ]
     },
     "metadata": {},
     "output_type": "display_data"
    },
    {
     "data": {
      "text/latex": [
       "$\\displaystyle - 3.24264068711928 x + 6.62741699796953 \\left(x - 0.5\\right)^{3} - 5.32907051820075 \\cdot 10^{-15} \\left(x - 0.5\\right)^{2} + 1.62132034355964$"
      ],
      "text/plain": [
       "-3.24264068711928*x + 6.62741699796953*(x - 0.5)**3 - 5.32907051820075e-15*(x - 0.5)**2 + 1.62132034355964"
      ]
     },
     "metadata": {},
     "output_type": "display_data"
    },
    {
     "data": {
      "text/latex": [
       "$\\displaystyle - 2.0 x - 6.62741699796952 \\left(x - 0.75\\right)^{3} + 4.97056274847714 \\left(x - 0.75\\right)^{2} + 0.792893218813452$"
      ],
      "text/plain": [
       "-2.0*x - 6.62741699796952*(x - 0.75)**3 + 4.97056274847714*(x - 0.75)**2 + 0.792893218813452"
      ]
     },
     "metadata": {},
     "output_type": "display_data"
    }
   ],
   "source": [
    "display(*eqs)"
   ]
  },
  {
   "cell_type": "code",
   "execution_count": 91,
   "metadata": {},
   "outputs": [
    {
     "data": {
      "text/latex": [
       "$\\displaystyle -0.493792594808639$"
      ],
      "text/plain": [
       "-0.493792594808639"
      ]
     },
     "execution_count": 91,
     "metadata": {},
     "output_type": "execute_result"
    }
   ],
   "source": [
    "sy.integrate(eqs[0], (x, 0, 0.25)) + \\\n",
    "sy.integrate(eqs[1], (x, 0.25, 0.5)) + \\\n",
    "sy.integrate(eqs[2], (x, 0.5, 0.75)) + \\\n",
    "sy.integrate(eqs[3], (x, 0.75, 0.1))"
   ]
  },
  {
   "cell_type": "code",
   "execution_count": 104,
   "metadata": {},
   "outputs": [
    {
     "data": {
      "text/latex": [
       "$\\displaystyle 9.86960440108937$"
      ],
      "text/plain": [
       "9.86960440108937"
      ]
     },
     "execution_count": 104,
     "metadata": {},
     "output_type": "execute_result"
    }
   ],
   "source": [
    "((eqs[1] - eqs[2]).diff().diff().subs(x, 0.5) - fx.diff().diff().subs(x, 0)).evalf()"
   ]
  },
  {
   "cell_type": "code",
   "execution_count": 101,
   "metadata": {},
   "outputs": [
    {
     "data": {
      "text/plain": [
       "-9.869604401089358"
      ]
     },
     "execution_count": 101,
     "metadata": {},
     "output_type": "execute_result"
    }
   ],
   "source": [
    "-math.pi ** 2"
   ]
  }
 ],
 "metadata": {
  "kernelspec": {
   "display_name": "Python 3",
   "language": "python",
   "name": "python3"
  },
  "language_info": {
   "codemirror_mode": {
    "name": "ipython",
    "version": 3
   },
   "file_extension": ".py",
   "mimetype": "text/x-python",
   "name": "python",
   "nbconvert_exporter": "python",
   "pygments_lexer": "ipython3",
   "version": "3.7.3"
  },
  "latex_envs": {
   "LaTeX_envs_menu_present": true,
   "autoclose": true,
   "autocomplete": true,
   "bibliofile": "biblio.bib",
   "cite_by": "apalike",
   "current_citInitial": 1,
   "eqLabelWithNumbers": true,
   "eqNumInitial": 1,
   "hotkeys": {
    "equation": "Ctrl-E",
    "itemize": "Ctrl-I"
   },
   "labels_anchors": false,
   "latex_user_defs": false,
   "report_style_numbering": false,
   "user_envs_cfg": false
  }
 },
 "nbformat": 4,
 "nbformat_minor": 2
}
