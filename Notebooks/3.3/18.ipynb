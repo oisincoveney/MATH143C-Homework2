{
 "cells": [
  {
   "cell_type": "code",
   "execution_count": 1,
   "metadata": {},
   "outputs": [],
   "source": [
    "def getNDDCoeffs(X, Y):\n",
    "    \"\"\" Creates NDD pYramid and eXtracts coeffs \"\"\"\n",
    "    n = np.shape(Y)[0]\n",
    "    pYramid = np.zeros([n, n]) # Create a square matriX to hold pYramid\n",
    "    pYramid[::,0] = Y # first column is Y\n",
    "    for j in range(1,n):\n",
    "        for i in range(n-j):\n",
    "            # create pYramid bY updating other columns\n",
    "            pYramid[i][j] = (pYramid[i+1][j-1] - pYramid[i][j-1]) / (X[i+j] - X[i])\n",
    "    return pYramid[0] # return first row\n",
    "\n",
    "def xterms(start, stop, X):\n",
    "    return functools.reduce(lambda a, b: a * b, [(x - i) for i in X[start:stop]])"
   ]
  },
  {
   "cell_type": "code",
   "execution_count": 2,
   "metadata": {},
   "outputs": [],
   "source": [
    "X = [0.  , 0.25, 0.5 , 1.  , 1.25]\n",
    "Y = [0.0 , 25.2, 49.2, 96.4, 119.4]"
   ]
  },
  {
   "cell_type": "code",
   "execution_count": 3,
   "metadata": {},
   "outputs": [
    {
     "data": {
      "text/latex": [
       "$\\displaystyle 100.8 x$"
      ],
      "text/plain": [
       "100.8*x"
      ]
     },
     "metadata": {},
     "output_type": "display_data"
    },
    {
     "data": {
      "text/latex": [
       "$\\displaystyle - 9.59999999999997 x \\left(x - 0.25\\right)$"
      ],
      "text/plain": [
       "-9.59999999999997*x*(x - 0.25)"
      ]
     },
     "metadata": {},
     "output_type": "display_data"
    },
    {
     "data": {
      "text/latex": [
       "$\\displaystyle 7.46666666666662 x \\left(x - 0.5\\right) \\left(x - 0.25\\right)$"
      ],
      "text/plain": [
       "7.46666666666662*x*(x - 0.5)*(x - 0.25)"
      ]
     },
     "metadata": {},
     "output_type": "display_data"
    },
    {
     "data": {
      "text/latex": [
       "$\\displaystyle - 6.82666666666663 x \\left(x - 1.0\\right) \\left(x - 0.5\\right) \\left(x - 0.25\\right)$"
      ],
      "text/plain": [
       "-6.82666666666663*x*(x - 1.0)*(x - 0.5)*(x - 0.25)"
      ]
     },
     "metadata": {},
     "output_type": "display_data"
    }
   ],
   "source": [
    "coefs = getNDDCoeffs(X, Y)\n",
    "eq = coefs[0]\n",
    "for i in range(len(X) - 1):\n",
    "    display(coefs[i+1] * (xterms(0, i+1, X)))\n",
    "    eq += coefs[i+1] * (xterms(0, i+1, X))"
   ]
  },
  {
   "cell_type": "code",
   "execution_count": 21,
   "metadata": {},
   "outputs": [
    {
     "data": {
      "text/latex": [
       "$\\displaystyle 89.72$"
      ],
      "text/plain": [
       "89.7200000000000"
      ]
     },
     "execution_count": 21,
     "metadata": {},
     "output_type": "execute_result"
    }
   ],
   "source": [
    "eq.diff().subs(x, 1.25)"
   ]
  },
  {
   "cell_type": "code",
   "execution_count": null,
   "metadata": {},
   "outputs": [],
   "source": []
  }
 ],
 "metadata": {
  "kernelspec": {
   "display_name": "Python 3",
   "language": "python",
   "name": "python3"
  },
  "language_info": {
   "codemirror_mode": {
    "name": "ipython",
    "version": 3
   },
   "file_extension": ".py",
   "mimetype": "text/x-python",
   "name": "python",
   "nbconvert_exporter": "python",
   "pygments_lexer": "ipython3",
   "version": "3.7.3"
  },
  "latex_envs": {
   "LaTeX_envs_menu_present": true,
   "autoclose": true,
   "autocomplete": true,
   "bibliofile": "biblio.bib",
   "cite_by": "apalike",
   "current_citInitial": 1,
   "eqLabelWithNumbers": true,
   "eqNumInitial": 1,
   "hotkeys": {
    "equation": "Ctrl-E",
    "itemize": "Ctrl-I"
   },
   "labels_anchors": false,
   "latex_user_defs": false,
   "report_style_numbering": false,
   "user_envs_cfg": false
  }
 },
 "nbformat": 4,
 "nbformat_minor": 2
}
