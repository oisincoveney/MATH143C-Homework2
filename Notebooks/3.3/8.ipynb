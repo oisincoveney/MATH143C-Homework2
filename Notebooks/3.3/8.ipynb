{
 "cells": [
  {
   "cell_type": "code",
   "execution_count": 1,
   "metadata": {},
   "outputs": [],
   "source": [
    "import functools"
   ]
  },
  {
   "cell_type": "code",
   "execution_count": 2,
   "metadata": {},
   "outputs": [],
   "source": [
    "def getNDDCoeffs(X, Y):\n",
    "    \"\"\" Creates NDD pYramid and eXtracts coeffs \"\"\"\n",
    "    n = np.shape(Y)[0]\n",
    "    pYramid = np.zeros([n, n]) # Create a square matriX to hold pYramid\n",
    "    pYramid[::,0] = Y # first column is Y\n",
    "    for j in range(1,n):\n",
    "        for i in range(n-j):\n",
    "            # create pYramid bY updating other columns\n",
    "            pYramid[i][j] = (pYramid[i+1][j-1] - pYramid[i][j-1]) / (X[i+j] - X[i])\n",
    "    return pYramid[0] # return first row"
   ]
  },
  {
   "cell_type": "code",
   "execution_count": 3,
   "metadata": {},
   "outputs": [],
   "source": [
    "def xterms(start, stop, X):\n",
    "    return functools.reduce(lambda a, b: a * b, [(x - i) for i in X[start:stop]])"
   ]
  },
  {
   "cell_type": "code",
   "execution_count": 4,
   "metadata": {},
   "outputs": [],
   "source": [
    "X = [0, .1, .3, .6, 1]\n",
    "Y = [-6, -5.89483, -5.65014, -5.17788, -4.28172]"
   ]
  },
  {
   "cell_type": "code",
   "execution_count": 5,
   "metadata": {},
   "outputs": [
    {
     "data": {
      "text/plain": [
       "array([-6.        ,  1.0517    ,  0.5725    ,  0.215     ,  0.06301587])"
      ]
     },
     "execution_count": 5,
     "metadata": {},
     "output_type": "execute_result"
    }
   ],
   "source": [
    "coefs = getNDDCoeffs(X, Y)\n",
    "coefs"
   ]
  },
  {
   "cell_type": "code",
   "execution_count": 6,
   "metadata": {},
   "outputs": [
    {
     "data": {
      "text/latex": [
       "$\\displaystyle 1.0517 x$"
      ],
      "text/plain": [
       "1.0517*x"
      ]
     },
     "metadata": {},
     "output_type": "display_data"
    },
    {
     "data": {
      "text/latex": [
       "$\\displaystyle 0.572499999999983 x \\left(x - 0.1\\right)$"
      ],
      "text/plain": [
       "0.572499999999983*x*(x - 0.1)"
      ]
     },
     "metadata": {},
     "output_type": "display_data"
    },
    {
     "data": {
      "text/latex": [
       "$\\displaystyle 0.215000000000042 x \\left(x - 0.3\\right) \\left(x - 0.1\\right)$"
      ],
      "text/plain": [
       "0.215000000000042*x*(x - 0.3)*(x - 0.1)"
      ]
     },
     "metadata": {},
     "output_type": "display_data"
    },
    {
     "data": {
      "text/latex": [
       "$\\displaystyle 0.0630158730158207 x \\left(x - 0.6\\right) \\left(x - 0.3\\right) \\left(x - 0.1\\right)$"
      ],
      "text/plain": [
       "0.0630158730158207*x*(x - 0.6)*(x - 0.3)*(x - 0.1)"
      ]
     },
     "metadata": {},
     "output_type": "display_data"
    }
   ],
   "source": [
    "eq = coefs[0]\n",
    "for i in range(len(X) - 1):\n",
    "    display(coefs[i+1] * (xterms(0, i+1, X)))\n",
    "    eq += coefs[i+1] * (xterms(0, i+1, X))"
   ]
  },
  {
   "cell_type": "code",
   "execution_count": 8,
   "metadata": {},
   "outputs": [],
   "source": [
    "tex(eq_round(eq))"
   ]
  },
  {
   "cell_type": "code",
   "execution_count": 9,
   "metadata": {},
   "outputs": [
    {
     "data": {
      "text/latex": [
       "$\\displaystyle 1.0517 x$"
      ],
      "text/plain": [
       "1.0517*x"
      ]
     },
     "metadata": {},
     "output_type": "display_data"
    },
    {
     "data": {
      "text/latex": [
       "$\\displaystyle 0.572499999999983 x \\left(x - 0.1\\right)$"
      ],
      "text/plain": [
       "0.572499999999983*x*(x - 0.1)"
      ]
     },
     "metadata": {},
     "output_type": "display_data"
    },
    {
     "data": {
      "text/latex": [
       "$\\displaystyle 0.215000000000042 x \\left(x - 0.3\\right) \\left(x - 0.1\\right)$"
      ],
      "text/plain": [
       "0.215000000000042*x*(x - 0.3)*(x - 0.1)"
      ]
     },
     "metadata": {},
     "output_type": "display_data"
    },
    {
     "data": {
      "text/latex": [
       "$\\displaystyle 0.0630158730158207 x \\left(x - 0.6\\right) \\left(x - 0.3\\right) \\left(x - 0.1\\right)$"
      ],
      "text/plain": [
       "0.0630158730158207*x*(x - 0.6)*(x - 0.3)*(x - 0.1)"
      ]
     },
     "metadata": {},
     "output_type": "display_data"
    },
    {
     "data": {
      "text/latex": [
       "$\\displaystyle 0.0141594516594981 x \\left(x - 1\\right) \\left(x - 0.6\\right) \\left(x - 0.3\\right) \\left(x - 0.1\\right)$"
      ],
      "text/plain": [
       "0.0141594516594981*x*(x - 1)*(x - 0.6)*(x - 0.3)*(x - 0.1)"
      ]
     },
     "metadata": {},
     "output_type": "display_data"
    }
   ],
   "source": [
    "X.append(1.1)\n",
    "Y.append(-3.99583)\n",
    "coefs = getNDDCoeffs(X, Y)\n",
    "eq = coefs[0]\n",
    "for i in range(len(X) - 1):\n",
    "    display(coefs[i+1] * (xterms(0, i+1, X)))\n",
    "    eq += coefs[i+1] * (xterms(0, i+1, X))\n",
    "tex(eq_round(eq))"
   ]
  },
  {
   "cell_type": "code",
   "execution_count": null,
   "metadata": {},
   "outputs": [],
   "source": []
  }
 ],
 "metadata": {
  "kernelspec": {
   "display_name": "Python 3",
   "language": "python",
   "name": "python3"
  },
  "language_info": {
   "codemirror_mode": {
    "name": "ipython",
    "version": 3
   },
   "file_extension": ".py",
   "mimetype": "text/x-python",
   "name": "python",
   "nbconvert_exporter": "python",
   "pygments_lexer": "ipython3",
   "version": "3.7.3"
  },
  "latex_envs": {
   "LaTeX_envs_menu_present": true,
   "autoclose": true,
   "autocomplete": true,
   "bibliofile": "biblio.bib",
   "cite_by": "apalike",
   "current_citInitial": 1,
   "eqLabelWithNumbers": true,
   "eqNumInitial": 1,
   "hotkeys": {
    "equation": "Ctrl-E",
    "itemize": "Ctrl-I"
   },
   "labels_anchors": false,
   "latex_user_defs": false,
   "report_style_numbering": false,
   "user_envs_cfg": false
  }
 },
 "nbformat": 4,
 "nbformat_minor": 2
}
