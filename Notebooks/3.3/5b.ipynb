{
 "cells": [
  {
   "cell_type": "code",
   "execution_count": 53,
   "metadata": {},
   "outputs": [],
   "source": [
    "import functools\n",
    "from sympy.core.rules import Transform"
   ]
  },
  {
   "cell_type": "code",
   "execution_count": 11,
   "metadata": {},
   "outputs": [],
   "source": [
    "def getNDDCoeffs(X, Y):\n",
    "    \"\"\" Creates NDD pYramid and eXtracts coeffs \"\"\"\n",
    "    n = np.shape(Y)[0]\n",
    "    pYramid = np.zeros([n, n]) # Create a square matriX to hold pYramid\n",
    "    pYramid[::,0] = Y # first column is Y\n",
    "    for j in range(1,n):\n",
    "        for i in range(n-j):\n",
    "            # create pYramid bY updating other columns\n",
    "            pYramid[i][j] = (pYramid[i+1][j-1] - pYramid[i][j-1]) / (X[i+j] - X[i])\n",
    "    return pYramid # return first row"
   ]
  },
  {
   "cell_type": "code",
   "execution_count": 9,
   "metadata": {},
   "outputs": [],
   "source": [
    "f = 1\n",
    "X = np.linspace(0.1, 0.4, 4)\n",
    "Y = [-0.62049958, -0.28398668, 0.00660095, 0.24842440]"
   ]
  },
  {
   "cell_type": "code",
   "execution_count": 15,
   "metadata": {},
   "outputs": [
    {
     "data": {
      "text/plain": [
       "array([[-0.62049958,  3.365129  , -2.2962635 , -0.47315167],\n",
       "       [-0.28398668,  2.9058763 , -2.438209  ,  0.        ],\n",
       "       [ 0.00660095,  2.4182345 ,  0.        ,  0.        ],\n",
       "       [ 0.2484244 ,  0.        ,  0.        ,  0.        ]])"
      ]
     },
     "execution_count": 15,
     "metadata": {},
     "output_type": "execute_result"
    }
   ],
   "source": [
    "p = getNDDCoeffs(X, Y)"
   ]
  },
  {
   "cell_type": "code",
   "execution_count": 16,
   "metadata": {},
   "outputs": [],
   "source": [
    "coefs = [0.2484244, 2.4182345, -2.438209, -0.47315167]"
   ]
  },
  {
   "cell_type": "code",
   "execution_count": 19,
   "metadata": {},
   "outputs": [],
   "source": [
    "def xterms(start, stop):\n",
    "    return functools.reduce(lambda a, b: a * b, [(x - i) for i in X[start:stop]])"
   ]
  },
  {
   "cell_type": "code",
   "execution_count": 55,
   "metadata": {},
   "outputs": [],
   "source": [
    "deg1 = p[2][0] + p[1][1] * xterms(1, 2)\n",
    "tex(deg1.subs(x, .25))"
   ]
  },
  {
   "cell_type": "code",
   "execution_count": 56,
   "metadata": {},
   "outputs": [],
   "source": [
    "deg2 = p[2][0] + p[1][1] * xterms(2, 3) + p[0][2] * xterms(1, 3)\n",
    "tex(deg2.subs(x, .25))"
   ]
  },
  {
   "cell_type": "code",
   "execution_count": 38,
   "metadata": {},
   "outputs": [],
   "source": [
    "deg3 = p[3][0] + p[2][1] * xterms(3,4) + p[1][2] * xterms(2, 4) + p[0][3] * xterms(1, 4)"
   ]
  },
  {
   "cell_type": "code",
   "execution_count": 57,
   "metadata": {},
   "outputs": [],
   "source": [
    "tex(deg3.subs(x, .25))"
   ]
  }
 ],
 "metadata": {
  "kernelspec": {
   "display_name": "Python 3",
   "language": "python",
   "name": "python3"
  },
  "language_info": {
   "codemirror_mode": {
    "name": "ipython",
    "version": 3
   },
   "file_extension": ".py",
   "mimetype": "text/x-python",
   "name": "python",
   "nbconvert_exporter": "python",
   "pygments_lexer": "ipython3",
   "version": "3.7.3"
  },
  "latex_envs": {
   "LaTeX_envs_menu_present": true,
   "autoclose": true,
   "autocomplete": true,
   "bibliofile": "biblio.bib",
   "cite_by": "apalike",
   "current_citInitial": 1,
   "eqLabelWithNumbers": true,
   "eqNumInitial": 1,
   "hotkeys": {
    "equation": "Ctrl-E",
    "itemize": "Ctrl-I"
   },
   "labels_anchors": false,
   "latex_user_defs": false,
   "report_style_numbering": false,
   "user_envs_cfg": false
  }
 },
 "nbformat": 4,
 "nbformat_minor": 2
}
