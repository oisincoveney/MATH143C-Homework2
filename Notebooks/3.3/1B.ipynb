{
 "cells": [
  {
   "cell_type": "code",
   "execution_count": 17,
   "metadata": {},
   "outputs": [],
   "source": [
    "import functools"
   ]
  },
  {
   "cell_type": "code",
   "execution_count": 1,
   "metadata": {},
   "outputs": [],
   "source": [
    "def getNDDCoeffs(X, Y):\n",
    "    \"\"\" Creates NDD pYramid and eXtracts coeffs \"\"\"\n",
    "    n = np.shape(Y)[0]\n",
    "    pYramid = np.zeros([n, n]) # Create a square matriX to hold pYramid\n",
    "    pYramid[::,0] = Y # first column is Y\n",
    "    for j in range(1,n):\n",
    "        for i in range(n-j):\n",
    "            # create pYramid bY updating other columns\n",
    "            pYramid[i][j] = (pYramid[i+1][j-1] - pYramid[i][j-1]) / (X[i+j] - X[i])\n",
    "    return pYramid[0] # return first row"
   ]
  },
  {
   "cell_type": "code",
   "execution_count": 2,
   "metadata": {},
   "outputs": [],
   "source": [
    "xv = [.6, .7, .8, 1]\n",
    "yv =[-0.17694460, 0.01375227, 0.22363362, 0.65809197]"
   ]
  },
  {
   "cell_type": "code",
   "execution_count": 38,
   "metadata": {},
   "outputs": [
    {
     "data": {
      "text/plain": [
       "[-0.1769446, 1.9069687000000006, 0.9592239999999871, -1.7857412499999494]"
      ]
     },
     "execution_count": 38,
     "metadata": {},
     "output_type": "execute_result"
    }
   ],
   "source": [
    "ndd = []\n",
    "for i in range(1, len(xv) + 1):\n",
    "    ndd.append(getNDDCoeffs(xv[:i], yv[:i])[-1])\n",
    "ndd"
   ]
  },
  {
   "cell_type": "code",
   "execution_count": 39,
   "metadata": {},
   "outputs": [
    {
     "data": {
      "text/plain": [
       "[x - 0.6, x - 0.7, x - 0.8]"
      ]
     },
     "execution_count": 39,
     "metadata": {},
     "output_type": "execute_result"
    }
   ],
   "source": [
    "[(x - j) for j in xv[:3]]"
   ]
  },
  {
   "cell_type": "code",
   "execution_count": 67,
   "metadata": {},
   "outputs": [
    {
     "data": {
      "text/plain": [
       "-0.1769446"
      ]
     },
     "metadata": {},
     "output_type": "display_data"
    },
    {
     "data": {
      "text/latex": [
       "$\\displaystyle x - 0.6$"
      ],
      "text/plain": [
       "x - 0.6"
      ]
     },
     "metadata": {},
     "output_type": "display_data"
    },
    {
     "data": {
      "text/latex": [
       "$\\displaystyle 1.9069687 x - 1.14418122$"
      ],
      "text/plain": [
       "1.9069687*x - 1.14418122"
      ]
     },
     "metadata": {},
     "output_type": "display_data"
    },
    {
     "data": {
      "text/latex": [
       "$\\displaystyle \\left(x - 0.7\\right) \\left(x - 0.6\\right)$"
      ],
      "text/plain": [
       "(x - 0.7)*(x - 0.6)"
      ]
     },
     "metadata": {},
     "output_type": "display_data"
    },
    {
     "data": {
      "text/latex": [
       "$\\displaystyle 0.959223999999987 \\left(x - 0.7\\right) \\left(x - 0.6\\right)$"
      ],
      "text/plain": [
       "0.959223999999987*(x - 0.7)*(x - 0.6)"
      ]
     },
     "metadata": {},
     "output_type": "display_data"
    },
    {
     "data": {
      "text/latex": [
       "$\\displaystyle \\left(x - 0.8\\right) \\left(x - 0.7\\right) \\left(x - 0.6\\right)$"
      ],
      "text/plain": [
       "(x - 0.8)*(x - 0.7)*(x - 0.6)"
      ]
     },
     "metadata": {},
     "output_type": "display_data"
    },
    {
     "data": {
      "text/latex": [
       "$\\displaystyle - 1.78574124999995 \\left(x - 0.8\\right) \\left(x - 0.7\\right) \\left(x - 0.6\\right)$"
      ],
      "text/plain": [
       "-1.78574124999995*(x - 0.8)*(x - 0.7)*(x - 0.6)"
      ]
     },
     "metadata": {},
     "output_type": "display_data"
    },
    {
     "data": {
      "text/latex": [
       "$\\displaystyle 1.9069687 x - 1.78574124999995 \\left(x - 0.8\\right) \\left(x - 0.7\\right) \\left(x - 0.6\\right) + 0.959223999999987 \\left(x - 0.7\\right) \\left(x - 0.6\\right) - 1.32112582$"
      ],
      "text/plain": [
       "1.9069687*x - 1.78574124999995*(x - 0.8)*(x - 0.7)*(x - 0.6) + 0.959223999999987*(x - 0.7)*(x - 0.6) - 1.32112582"
      ]
     },
     "metadata": {},
     "output_type": "display_data"
    },
    {
     "data": {
      "text/latex": [
       "$\\displaystyle 0.4419850025$"
      ],
      "text/plain": [
       "0.441985002500000"
      ]
     },
     "execution_count": 67,
     "metadata": {},
     "output_type": "execute_result"
    }
   ],
   "source": [
    "eq = ndd[0]\n",
    "display(eq)\n",
    "for i in range(0, 3):\n",
    "    xterms = functools.reduce(lambda x, y: x * y, [(x - j) for j in xv[:i+1]])\n",
    "    display(xterms)\n",
    "    eq += ndd[i+1] * xterms\n",
    "    display((ndd[i+1] * xterms))\n",
    "display(eq)\n",
    "eq.subs(x, 0.9)"
   ]
  },
  {
   "cell_type": "code",
   "execution_count": 31,
   "metadata": {},
   "outputs": [],
   "source": [
    "P1 = 0.01375227 + (-0.1769446) * (x-0.6)\n",
    "P2 = P1 + (1.9069687)*(x-0.6)*(x-0.7)\n",
    "P3 = P2 + 0.959224 *(x-0.6)*(x-0.7)*(x-0.8)"
   ]
  },
  {
   "cell_type": "code",
   "execution_count": 36,
   "metadata": {},
   "outputs": [
    {
     "data": {
      "text/plain": [
       "(-0.0393311100000000, 0.0750870120000000, 0.0808423560000000)"
      ]
     },
     "execution_count": 36,
     "metadata": {},
     "output_type": "execute_result"
    }
   ],
   "source": [
    "P1.subs(x, 0.9), P2.subs(x, 0.9), P3.subs(x, 0.9)"
   ]
  }
 ],
 "metadata": {
  "kernelspec": {
   "display_name": "Python 3",
   "language": "python",
   "name": "python3"
  },
  "language_info": {
   "codemirror_mode": {
    "name": "ipython",
    "version": 3
   },
   "file_extension": ".py",
   "mimetype": "text/x-python",
   "name": "python",
   "nbconvert_exporter": "python",
   "pygments_lexer": "ipython3",
   "version": "3.7.3"
  },
  "latex_envs": {
   "LaTeX_envs_menu_present": true,
   "autoclose": true,
   "autocomplete": true,
   "bibliofile": "biblio.bib",
   "cite_by": "apalike",
   "current_citInitial": 1,
   "eqLabelWithNumbers": true,
   "eqNumInitial": 1,
   "hotkeys": {
    "equation": "Ctrl-E",
    "itemize": "Ctrl-I"
   },
   "labels_anchors": false,
   "latex_user_defs": false,
   "report_style_numbering": false,
   "user_envs_cfg": false
  }
 },
 "nbformat": 4,
 "nbformat_minor": 2
}
