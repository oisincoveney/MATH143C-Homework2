{
 "cells": [
  {
   "cell_type": "code",
   "execution_count": 31,
   "metadata": {},
   "outputs": [],
   "source": [
    "import functools"
   ]
  },
  {
   "cell_type": "code",
   "execution_count": 2,
   "metadata": {},
   "outputs": [],
   "source": [
    "def getNDDCoeffs(X, Y):\n",
    "    \"\"\" Creates NDD pYramid and eXtracts coeffs \"\"\"\n",
    "    n = np.shape(Y)[0]\n",
    "    pYramid = np.zeros([n, n]) # Create a square matriX to hold pYramid\n",
    "    pYramid[::,0] = Y # first column is Y\n",
    "    for j in range(1,n):\n",
    "        for i in range(n-j):\n",
    "            # create pYramid bY updating other columns\n",
    "            pYramid[i][j] = (pYramid[i+1][j-1] - pYramid[i][j-1]) / (X[i+j] - X[i])\n",
    "    return pYramid[0] # return first row"
   ]
  },
  {
   "cell_type": "code",
   "execution_count": 19,
   "metadata": {},
   "outputs": [],
   "source": [
    "X = np.linspace(0.1, 0.4, 4)"
   ]
  },
  {
   "cell_type": "code",
   "execution_count": 20,
   "metadata": {},
   "outputs": [],
   "source": [
    "Y = [-0.62049958, -0.28398668, 0.00660095, 0.24842440]"
   ]
  },
  {
   "cell_type": "code",
   "execution_count": 27,
   "metadata": {},
   "outputs": [],
   "source": [
    "deg1 = getNDDCoeffs(X[1:3], Y[1:3])\n",
    "deg2 = getNDDCoeffs(X[1:4], Y[1:4])\n",
    "deg3 = getNDDCoeffs(X, Y)"
   ]
  },
  {
   "cell_type": "code",
   "execution_count": 28,
   "metadata": {},
   "outputs": [
    {
     "data": {
      "text/plain": [
       "(array([-0.28398668,  2.9058763 ]),\n",
       " array([0.2, 0.3]),\n",
       " [-0.28398668, 0.00660095])"
      ]
     },
     "metadata": {},
     "output_type": "display_data"
    },
    {
     "data": {
      "text/plain": [
       "(array([-0.28398668,  2.9058763 , -2.438209  ]),\n",
       " array([0.2, 0.3, 0.4]),\n",
       " [-0.28398668, 0.00660095, 0.2484244])"
      ]
     },
     "metadata": {},
     "output_type": "display_data"
    },
    {
     "data": {
      "text/plain": [
       "array([-0.62049958,  3.365129  , -2.2962635 , -0.47315167])"
      ]
     },
     "metadata": {},
     "output_type": "display_data"
    }
   ],
   "source": [
    "display((deg1, X[1:3], Y[1:3]), (deg2, X[1:4], Y[1:4]), deg3)"
   ]
  },
  {
   "cell_type": "code",
   "execution_count": 36,
   "metadata": {},
   "outputs": [],
   "source": [
    "eqs = []\n",
    "for d in [deg1, deg2, deg3]:\n",
    "    eq = sy.sympify(0)\n",
    "    for i, k in enumerate(d):\n",
    "        xterms = functools.reduce(lambda x, y: x * y, [(x - j) for j in X[:i]]) if i != 0 else 1\n",
    "        eq += k * xterms\n",
    "    eqs.append(eq)"
   ]
  },
  {
   "cell_type": "code",
   "execution_count": 41,
   "metadata": {},
   "outputs": [
    {
     "data": {
      "text/latex": [
       "$\\displaystyle 0.151894765$"
      ],
      "text/plain": [
       "0.151894765000000"
      ]
     },
     "metadata": {},
     "output_type": "display_data"
    },
    {
     "data": {
      "text/latex": [
       "$\\displaystyle 0.1336081975$"
      ],
      "text/plain": [
       "0.133608197500000"
      ]
     },
     "metadata": {},
     "output_type": "display_data"
    },
    {
     "data": {
      "text/latex": [
       "$\\displaystyle -0.132774774375$"
      ],
      "text/plain": [
       "-0.132774774375000"
      ]
     },
     "metadata": {},
     "output_type": "display_data"
    }
   ],
   "source": [
    "for i in eqs:\n",
    "    display(i.subs(x, 0.25))"
   ]
  }
 ],
 "metadata": {
  "kernelspec": {
   "display_name": "Python 3",
   "language": "python",
   "name": "python3"
  },
  "language_info": {
   "codemirror_mode": {
    "name": "ipython",
    "version": 3
   },
   "file_extension": ".py",
   "mimetype": "text/x-python",
   "name": "python",
   "nbconvert_exporter": "python",
   "pygments_lexer": "ipython3",
   "version": "3.7.3"
  },
  "latex_envs": {
   "LaTeX_envs_menu_present": true,
   "autoclose": true,
   "autocomplete": true,
   "bibliofile": "biblio.bib",
   "cite_by": "apalike",
   "current_citInitial": 1,
   "eqLabelWithNumbers": true,
   "eqNumInitial": 1,
   "hotkeys": {
    "equation": "Ctrl-E",
    "itemize": "Ctrl-I"
   },
   "labels_anchors": false,
   "latex_user_defs": false,
   "report_style_numbering": false,
   "user_envs_cfg": false
  }
 },
 "nbformat": 4,
 "nbformat_minor": 2
}
