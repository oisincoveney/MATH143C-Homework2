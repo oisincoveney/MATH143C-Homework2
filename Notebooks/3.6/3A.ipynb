{
 "cells": [
  {
   "cell_type": "code",
   "execution_count": 68,
   "metadata": {},
   "outputs": [],
   "source": [
    "def bezier(X, Y, LGPX, LGPY, RGPX, RGPY):\n",
    "    data = []\n",
    "    for i in range(len(LGPX)):\n",
    "        A = [X[i], 3 * (LGPX[i] - X[i]), \\\n",
    "             3 * (X[i] + RGPX[i] - 2 * LGPX[i]),\\\n",
    "            X[i+1] - X[i] + 3 * LGPX[i] - 3 * RGPX[i]]\n",
    "        B = [Y[i], 3 * (LGPY[i] - Y[i]), \\\n",
    "             3 * (Y[i] + RGPY[i] - 2 * LGPY[i]),\\\n",
    "            Y[i+1] - Y[i] + 3 * LGPY[i] - 3 * RGPY[i]]\n",
    "        data.append([A, B])\n",
    "    return data"
   ]
  },
  {
   "cell_type": "code",
   "execution_count": 69,
   "metadata": {},
   "outputs": [],
   "source": [
    "X = [1, 6]\n",
    "Y = [6, 2]\n",
    "LGPX = [1.5]\n",
    "LGPY = [1.25]\n",
    "RGPX = [7]\n",
    "RGPY = [3]"
   ]
  },
  {
   "cell_type": "code",
   "execution_count": 103,
   "metadata": {},
   "outputs": [
    {
     "data": {
      "text/plain": [
       "[[[1, 1.5, 15.0, -11.5], [6, -14.25, 19.5, -9.25]]]"
      ]
     },
     "execution_count": 103,
     "metadata": {},
     "output_type": "execute_result"
    }
   ],
   "source": [
    "coefs = bezier(X, Y, LGPX, LGPY, RGPX, RGPY)\n",
    "coefs"
   ]
  },
  {
   "cell_type": "code",
   "execution_count": 104,
   "metadata": {},
   "outputs": [],
   "source": [
    "coefs = np.array([coefs[0][0], coefs[0][1]])\n"
   ]
  },
  {
   "cell_type": "code",
   "execution_count": 106,
   "metadata": {},
   "outputs": [
    {
     "name": "stdout",
     "output_type": "stream",
     "text": [
      "\\begin{tabular}\n",
      "  1.00 &  1.50 &  15.00 & -11.50\\\\\n",
      "  6.00 & -14.25 &  19.50 & -9.25\n",
      "\\end{tabular}\n"
     ]
    }
   ],
   "source": [
    "a2l.to_ltx(np.array(coefs), arraytype='tabular')"
   ]
  },
  {
   "cell_type": "code",
   "execution_count": 72,
   "metadata": {},
   "outputs": [],
   "source": [
    "y, t = sy.symbols('y t')"
   ]
  },
  {
   "cell_type": "code",
   "execution_count": 73,
   "metadata": {},
   "outputs": [
    {
     "data": {
      "text/plain": [
       "1.5"
      ]
     },
     "metadata": {},
     "output_type": "display_data"
    },
    {
     "data": {
      "text/latex": [
       "$\\displaystyle t$"
      ],
      "text/plain": [
       "t"
      ]
     },
     "metadata": {},
     "output_type": "display_data"
    },
    {
     "data": {
      "text/plain": [
       "15.0"
      ]
     },
     "metadata": {},
     "output_type": "display_data"
    },
    {
     "data": {
      "text/latex": [
       "$\\displaystyle t^{2}$"
      ],
      "text/plain": [
       "t**2"
      ]
     },
     "metadata": {},
     "output_type": "display_data"
    },
    {
     "data": {
      "text/plain": [
       "-11.5"
      ]
     },
     "metadata": {},
     "output_type": "display_data"
    },
    {
     "data": {
      "text/latex": [
       "$\\displaystyle t^{3}$"
      ],
      "text/plain": [
       "t**3"
      ]
     },
     "metadata": {},
     "output_type": "display_data"
    },
    {
     "data": {
      "text/plain": [
       "-14.25"
      ]
     },
     "metadata": {},
     "output_type": "display_data"
    },
    {
     "data": {
      "text/latex": [
       "$\\displaystyle t$"
      ],
      "text/plain": [
       "t"
      ]
     },
     "metadata": {},
     "output_type": "display_data"
    },
    {
     "data": {
      "text/plain": [
       "19.5"
      ]
     },
     "metadata": {},
     "output_type": "display_data"
    },
    {
     "data": {
      "text/latex": [
       "$\\displaystyle t^{2}$"
      ],
      "text/plain": [
       "t**2"
      ]
     },
     "metadata": {},
     "output_type": "display_data"
    },
    {
     "data": {
      "text/plain": [
       "-9.25"
      ]
     },
     "metadata": {},
     "output_type": "display_data"
    },
    {
     "data": {
      "text/latex": [
       "$\\displaystyle t^{3}$"
      ],
      "text/plain": [
       "t**3"
      ]
     },
     "metadata": {},
     "output_type": "display_data"
    }
   ],
   "source": [
    "eqs = []\n",
    "for i in coefs:\n",
    "    eq = i[0]\n",
    "    for power, j in enumerate(i[1:]):\n",
    "        display(j, (t ** (power + 1)))\n",
    "        eq += j * (t ** (power + 1))\n",
    "    eqs.append(eq)"
   ]
  },
  {
   "cell_type": "code",
   "execution_count": 74,
   "metadata": {},
   "outputs": [],
   "source": [
    "import matplotlib.pyplot as plt"
   ]
  },
  {
   "cell_type": "code",
   "execution_count": 98,
   "metadata": {},
   "outputs": [
    {
     "data": {
      "image/png": "[encoded data removed]",
      "text/plain": [
       "<Figure size 432x288 with 1 Axes>"
      ]
     },
     "metadata": {
      "needs_background": "light"
     },
     "output_type": "display_data"
    }
   ],
   "source": [
    "fig = plt.figure()\n",
    "ax = fig.gca()\n",
    "\n",
    "# Prepare arrays x, y, z\n",
    "tval = np.linspace(0, 500, 10000)\n",
    "xt = [eqs[0].subs(t, i).evalf() for i in tval]\n",
    "yt = [eqs[1].subs(t, i).evalf() for i in tval]\n",
    "\n",
    "ax.plot(xt, yt, label='(x(t), y(t))')\n",
    "ax.plot(X, Y, marker='.', linestyle='None')\n",
    "for i, k in enumerate(X):\n",
    "    ax.annotate(f'({k}, {Y[i]})', (k, Y[i]))\n",
    "\n",
    "ax.plot(LGPX, LGPY, marker ='.', linestyle='None')\n",
    "for i, k in enumerate(LGPX):\n",
    "    ax.annotate(f'({k}, {LGPY[i]})', (k, LGPY[i]))\n",
    "    \n",
    "ax.plot(RGPX, RGPY, marker ='.', linestyle='None')\n",
    "for i, k in enumerate(RGPX):\n",
    "    ax.annotate(f'({k}, {RGPY[i]})', (k, RGPY[i]))\n",
    "\n",
    "ax.legend()\n",
    "\n",
    "plt.xlim(-3, 10)\n",
    "plt.ylim(-5, 20)\n",
    "plt.show()"
   ]
  },
  {
   "cell_type": "code",
   "execution_count": null,
   "metadata": {},
   "outputs": [],
   "source": []
  }
 ],
 "metadata": {
  "kernelspec": {
   "display_name": "Python 3",
   "language": "python",
   "name": "python3"
  },
  "language_info": {
   "codemirror_mode": {
    "name": "ipython",
    "version": 3
   },
   "file_extension": ".py",
   "mimetype": "text/x-python",
   "name": "python",
   "nbconvert_exporter": "python",
   "pygments_lexer": "ipython3",
   "version": "3.7.3"
  },
  "latex_envs": {
   "LaTeX_envs_menu_present": true,
   "autoclose": true,
   "autocomplete": true,
   "bibliofile": "biblio.bib",
   "cite_by": "apalike",
   "current_citInitial": 1,
   "eqLabelWithNumbers": true,
   "eqNumInitial": 1,
   "hotkeys": {
    "equation": "Ctrl-E",
    "itemize": "Ctrl-I"
   },
   "labels_anchors": false,
   "latex_user_defs": false,
   "report_style_numbering": false,
   "user_envs_cfg": false
  }
 },
 "nbformat": 4,
 "nbformat_minor": 2
}
