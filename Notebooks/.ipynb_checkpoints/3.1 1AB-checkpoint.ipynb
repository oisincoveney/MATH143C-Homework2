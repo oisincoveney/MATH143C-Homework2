{
 "cells": [
  {
   "cell_type": "code",
   "execution_count": 87,
   "metadata": {},
   "outputs": [],
   "source": [
    "nodes = [0, 0.3, 0.9]"
   ]
  },
  {
   "cell_type": "code",
   "execution_count": 88,
   "metadata": {},
   "outputs": [],
   "source": [
    "fa = lambda x: math.cos(x)\n",
    "fb = lambda x: math.log(x + 1)"
   ]
  },
  {
   "cell_type": "code",
   "execution_count": 89,
   "metadata": {},
   "outputs": [],
   "source": [
    "x, x_a, x_b, y_0, y_1 = sy.symbols('x x_a x_b, y_0, y_1')"
   ]
  },
  {
   "cell_type": "code",
   "execution_count": 121,
   "metadata": {},
   "outputs": [
    {
     "name": "stdout",
     "output_type": "stream",
     "text": [
      "[] [0.3]\n",
      "[0] []\n",
      "[] [0.3, 0.9]\n",
      "[0] [0.9]\n",
      "[0, 0.3] []\n",
      "[] [0.3]\n",
      "[0] []\n",
      "[] [0.3, 0.9]\n",
      "[0] [0.9]\n",
      "[0, 0.3] []\n"
     ]
    },
    {
     "data": {
      "text/latex": [
       "$\\displaystyle 0.955336489125606 \\frac{x}{0.3} + \\left(1.0 \\frac{x - 0.3}{-0.3} + 0.0\\right)$"
      ],
      "text/plain": [
       "0.955336489125606*(x/0.3**1) + 1.0*((x - 0.3)/(-0.3)**1) + 0.0"
      ]
     },
     "metadata": {},
     "output_type": "display_data"
    },
    {
     "data": {
      "text/latex": [
       "$\\displaystyle 0.621609968270664 \\frac{x \\left(x - 0.3\\right)}{0.54} + \\left(0.955336489125606 \\frac{x \\left(x - 0.9\\right)}{-0.18} + \\left(1.0 \\frac{\\left(x - 0.9\\right) \\left(x - 0.3\\right)}{0.27} + 0.0\\right)\\right)$"
      ],
      "text/plain": [
       "0.621609968270664*((x*(x - 0.3))/0.54**1) + 0.955336489125606*((x*(x - 0.9))/(-0.18)**1) + 1.0*(((x - 0.9)*(x - 0.3))/0.27**1) + 0.0"
      ]
     },
     "metadata": {},
     "output_type": "display_data"
    },
    {
     "data": {
      "text/latex": [
       "$\\displaystyle 0.262364264467491 \\frac{x}{0.3} + \\left(0.0 \\frac{x - 0.3}{-0.3} + 0.0\\right)$"
      ],
      "text/plain": [
       "0.262364264467491*(x/0.3**1) + 0.0*((x - 0.3)/(-0.3)**1) + 0.0"
      ]
     },
     "metadata": {},
     "output_type": "display_data"
    },
    {
     "data": {
      "text/latex": [
       "$\\displaystyle 0.641853886172395 \\frac{x \\left(x - 0.3\\right)}{0.54} + \\left(0.262364264467491 \\frac{x \\left(x - 0.9\\right)}{-0.18} + \\left(0.0 \\frac{\\left(x - 0.9\\right) \\left(x - 0.3\\right)}{0.27} + 0.0\\right)\\right)$"
      ],
      "text/plain": [
       "0.641853886172395*((x*(x - 0.3))/0.54**1) + 0.262364264467491*((x*(x - 0.9))/(-0.18)**1) + 0.0*(((x - 0.9)*(x - 0.3))/0.27**1) + 0.0"
      ]
     },
     "metadata": {},
     "output_type": "display_data"
    }
   ],
   "source": [
    "def lagrange(nodes, fx, sym_x):\n",
    "    nodes.sort()\n",
    "    eq = sy.sympify(0.0)\n",
    "    for i, k in enumerate(nodes):\n",
    "        a = fx(k)\n",
    "        L_denom, L_num = 1, 1\n",
    "        print(nodes[0:i], nodes[i+1:])\n",
    "        for j in nodes[0:i] + nodes[i+1:]:\n",
    "            L_denom *= (x - j)\n",
    "            L_num *= (k - j)\n",
    "        eq += a * (L_denom / L_num)\n",
    "    return eq\n",
    "a1 = lagrange(nodes[:2], fa, x) \n",
    "a2 = lagrange(nodes, fa, x)\n",
    "b1 = lagrange(nodes[:2], fb, x)\n",
    "b2 = lagrange(nodes, fb, x)\n",
    "display(a1, a2, b1, b2)"
   ]
  },
  {
   "cell_type": "code",
   "execution_count": 101,
   "metadata": {},
   "outputs": [
    {
     "data": {
      "text/plain": [
       "(0.933004733688409, 0.902454796300140, 0.9004471023526769)"
      ]
     },
     "execution_count": 101,
     "metadata": {},
     "output_type": "execute_result"
    }
   ],
   "source": [
    "a1.subs(x, 0.45).evalf(), a2.subs(x, 0.45).evalf(), fa(0.45)"
   ]
  },
  {
   "cell_type": "code",
   "execution_count": 109,
   "metadata": {},
   "outputs": [
    {
     "data": {
      "text/plain": [
       "(0.032557631335732085, 0.0020076939474628075)"
      ]
     },
     "execution_count": 109,
     "metadata": {},
     "output_type": "execute_result"
    }
   ],
   "source": [
    "float(a1.subs(x, 0.45).evalf() - fa(0.45)), float(a2.subs(x, 0.45).evalf() - fa(0.45))"
   ]
  },
  {
   "cell_type": "code",
   "execution_count": 106,
   "metadata": {},
   "outputs": [
    {
     "data": {
      "text/plain": [
       "(0.393546396701237, 0.375391533297477, 0.371563556432483)"
      ]
     },
     "execution_count": 106,
     "metadata": {},
     "output_type": "execute_result"
    }
   ],
   "source": [
    "b1.subs(x, 0.45).evalf(), b2.subs(x, 0.45).evalf(), fb(0.45)"
   ]
  },
  {
   "cell_type": "code",
   "execution_count": 110,
   "metadata": {},
   "outputs": [
    {
     "data": {
      "text/plain": [
       "(0.02198284026875358, 0.003827976864993754)"
      ]
     },
     "execution_count": 110,
     "metadata": {},
     "output_type": "execute_result"
    }
   ],
   "source": [
    "float(b1.subs(x, 0.45).evalf() - fb(0.45)), float(b2.subs(x, 0.45).evalf() - fb(0.45))"
   ]
  },
  {
   "cell_type": "code",
   "execution_count": null,
   "metadata": {},
   "outputs": [],
   "source": []
  },
  {
   "cell_type": "markdown",
   "metadata": {},
   "source": [
    "## 3b: error"
   ]
  },
  {
   "cell_type": "code",
   "execution_count": 160,
   "metadata": {},
   "outputs": [
    {
     "data": {
      "text/plain": [
       "-0.01245174075023206"
      ]
     },
     "execution_count": 160,
     "metadata": {},
     "output_type": "execute_result"
    }
   ],
   "source": [
    "exi = sy.symbols('xi')\n",
    "fxa = math.e ** exi / math.factorial(3) * (x-0) * (x-0.3) * (x-0.9)\n",
    "float(fxa.subs(x, 0.45).subs(exi, 0.9).evalf())"
   ]
  }
 ],
 "metadata": {
  "kernelspec": {
   "display_name": "Python 3",
   "language": "python",
   "name": "python3"
  },
  "language_info": {
   "codemirror_mode": {
    "name": "ipython",
    "version": 3
   },
   "file_extension": ".py",
   "mimetype": "text/x-python",
   "name": "python",
   "nbconvert_exporter": "python",
   "pygments_lexer": "ipython3",
   "version": "3.7.3"
  },
  "latex_envs": {
   "LaTeX_envs_menu_present": true,
   "autoclose": true,
   "autocomplete": true,
   "bibliofile": "biblio.bib",
   "cite_by": "apalike",
   "current_citInitial": 1,
   "eqLabelWithNumbers": true,
   "eqNumInitial": 1,
   "hotkeys": {
    "equation": "Ctrl-E",
    "itemize": "Ctrl-I"
   },
   "labels_anchors": false,
   "latex_user_defs": false,
   "report_style_numbering": false,
   "user_envs_cfg": false
  }
 },
 "nbformat": 4,
 "nbformat_minor": 2
}
