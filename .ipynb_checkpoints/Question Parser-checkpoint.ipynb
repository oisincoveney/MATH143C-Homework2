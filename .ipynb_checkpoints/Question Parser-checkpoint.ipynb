{
 "cells": [
  {
   "cell_type": "code",
   "execution_count": 18,
   "metadata": {},
   "outputs": [],
   "source": [
    "s=  \"Section 3.1 page 112 #1AB(please change the point x1to 0.3), 3B, 5BD(for P1(x) use the nodes x2, x4. For P2(x) use the nodes x1, x3, x4),#7B,#9, 10,13D,17,19, 21 (like solved example 4 on page 111)Section 3.2 page 120 #1B,3,5,12(will be discussed in class)Section 3.3 page 130 #1B,3B,5B,8AB,16,18,20,21, 22(will be discussed in class)Section 8.3 page 534 Chebyshev Polynomials #1A,3ASection 3.4 page 139 #1C,5,9, 10(Will be discussed in class)Section 3.5 page 158 #3C,11,15,17. On this sectionit is best to use a matrix approach like solved examples2,4in the book), There are errors in Solved Example 2, careful. The numbers on page 153 should be b1=2.71082986, b2=7.326516319, d0=0.2735993306, d1=0.6951307937, d2=2.019091618. The spline S(x) should be corrected accordingly.Section 3.6 page 168 #3A This section will not be covered in classand will not appear on a test. Students should read the idea behind “guide points”, understand the solved examples on their own, and then attempt #3A.\""
   ]
  },
  {
   "cell_type": "code",
   "execution_count": 19,
   "metadata": {},
   "outputs": [
    {
     "name": "stdout",
     "output_type": "stream",
     "text": [
      "\n",
      "3.1 page 112  \n",
      "\n",
      " ['1AB(please change the point x1to 0.3)', '3B', '5BD(for P1(x) use the nodes x2', 'x4. For P2(x) use the nodes x1', 'x3', 'x4),#7B,#9', '10,13D,17,19', '21 (like solved example 4 on page 111)']\n",
      "\n",
      "\n",
      "3.2 page 120  \n",
      "\n",
      " ['1B,3,5,12(will be discussed in class)']\n",
      "\n",
      "\n",
      "3.3 page 130  \n",
      "\n",
      " ['1B,3B,5B,8AB,16,18,20,21', '22(will be discussed in class)']\n",
      "\n",
      "\n",
      "8.3 page 534 Chebyshev Polynomials  \n",
      "\n",
      " ['1A,3A']\n",
      "\n",
      "\n",
      "3.4 page 139  \n",
      "\n",
      " ['1C,5,9', '10(Will be discussed in class)']\n",
      "\n",
      "\n",
      "3.5 page 158  \n",
      "\n",
      " ['3C,11,15,17. On this sectionit is best to use a matrix approach like solved examples2,4in the book)', 'There are errors in Solved Example 2', 'careful. The numbers on page 153 should be b1=2.71082986', 'b2=7.326516319', 'd0=0.2735993306', 'd1=0.6951307937', 'd2=2.019091618. The spline S(x) should be corrected accordingly.']\n",
      "\n",
      "\n",
      "3.6 page 168  \n",
      "\n",
      " ['3A This section will not be covered in classand will not appear on a test. Students should read the idea behind “guide points”', 'understand the solved examples on their own', 'and then attempt #3A.']\n",
      "\n"
     ]
    }
   ],
   "source": [
    "a = s.split('Section ')\n",
    "a.remove('')\n",
    "for i in a:\n",
    "    print()\n",
    "    idx = i.find('#')\n",
    "    print(i[:idx], '\\n\\n', i[idx + 1:].split(', '))\n",
    "    print()"
   ]
  },
  {
   "cell_type": "code",
   "execution_count": 20,
   "metadata": {},
   "outputs": [],
   "source": [
    "t = \"4.1#1,3,13,15,18A,24,25,29, 27best to use f(x)=x2and attempt to compute f ’(1). 4.2#1AC,5,8,9,114.3#1ACH,3ACH,19,21,264.4#1ACE,3ACE,8B,9,11A,13AB,21,23,24,17(Problem#17The best way to compute the length of an ellipse is to  use  parametric  equations,  x  =  ACos(t);  y  =  BSin(t)  as  t  goes  from  0  to  2*pi.  Your  calculus  book  has  the formula  for  length  in  parametric  form.  Take  n=1000  and  a  Java  program  from  our  book's  website  (or,  maybe Simpson's rule) to find the length of the ellipse. Your answer will be slightly different than the book's answer. Do not try to compute the second and third derivatives in an effort to find a good stepsize, h.)4.5#1ACE,2D,3E,6D,7,11,15,174.6#1D,3A,114.7#1ACD,3A,7A,9,11,124.8#1A,3A,11A,15A4.9#1A(see solved example2),3AC,4A,5.\""
   ]
  },
  {
   "cell_type": "code",
   "execution_count": 46,
   "metadata": {},
   "outputs": [],
   "source": [
    "import re\n",
    "c = re.split(r'(4.[\\d]#)', t)"
   ]
  },
  {
   "cell_type": "code",
   "execution_count": 56,
   "metadata": {},
   "outputs": [
    {
     "data": {
      "text/plain": [
       "{'4.1': '1,3,13,15,18A,24,25,29, 27best to use f(x)=x2and attempt to compute f ’(1). ',\n",
       " '4.2': '1AC,5,8,9,11',\n",
       " '4.3': '1ACH,3ACH,19,21,26',\n",
       " '4.4': \"1ACE,3ACE,8B,9,11A,13AB,21,23,24,17(Problem#17The best way to compute the length of an ellipse is to  use  parametric  equations,  x  =  ACos(t);  y  =  BSin(t)  as  t  goes  from  0  to  2*pi.  Your  calculus  book  has  the formula  for  length  in  parametric  form.  Take  n=1000  and  a  Java  program  from  our  book's  website  (or,  maybe Simpson's rule) to find the length of the ellipse. Your answer will be slightly different than the book's answer. Do not try to compute the second and third derivatives in an effort to find a good stepsize, h.)\",\n",
       " '4.5': '1ACE,2D,3E,6D,7,11,15,17',\n",
       " '4.6': '1D,3A,11',\n",
       " '4.7': '1ACD,3A,7A,9,11,12',\n",
       " '4.8': '1A,3A,11A,15A',\n",
       " '4.9': '1A(see solved example2),3AC,4A,5.'}"
      ]
     },
     "execution_count": 56,
     "metadata": {},
     "output_type": "execute_result"
    }
   ],
   "source": [
    "out = {}\n",
    "for i in range(1, len(c), 2):\n",
    "    out[c[i][:-1]] = c[i+1]\n",
    "out"
   ]
  },
  {
   "cell_type": "code",
   "execution_count": 67,
   "metadata": {},
   "outputs": [],
   "source": [
    "for k in out:\n",
    "    u = out[k]\n",
    "    out[k] = [x.strip() for x in u]"
   ]
  },
  {
   "cell_type": "code",
   "execution_count": 91,
   "metadata": {},
   "outputs": [],
   "source": [
    "out['4.1'][-1] = out['4.1'][-1][:2]"
   ]
  },
  {
   "cell_type": "code",
   "execution_count": 92,
   "metadata": {},
   "outputs": [
    {
     "data": {
      "text/plain": [
       "{'4.1': ['1', '3', '13', '15', '18A', '24', '25', '29', '27'],\n",
       " '4.2': ['1AC', '5', '8', '9', '11'],\n",
       " '4.3': ['1ACH', '3ACH', '19', '21', '26'],\n",
       " '4.4': ['1ACE', '3ACE', '8B', '9', '11A', '13AB', '21', '23', '24', '17'],\n",
       " '4.5': ['1ACE', '2D', '3E', '6D', '7', '11', '15', '17'],\n",
       " '4.6': ['1D', '3A', '11'],\n",
       " '4.7': ['1ACD', '3A', '7A', '9', '11', '12'],\n",
       " '4.8': ['1A', '3A', '11A', '15A'],\n",
       " '4.9': ['1A', '3AC', '4A', '5.']}"
      ]
     },
     "execution_count": 92,
     "metadata": {},
     "output_type": "execute_result"
    }
   ],
   "source": [
    "out"
   ]
  },
  {
   "cell_type": "code",
   "execution_count": 131,
   "metadata": {},
   "outputs": [
    {
     "data": {
      "text/plain": [
       "95"
      ]
     },
     "execution_count": 131,
     "metadata": {},
     "output_type": "execute_result"
    }
   ],
   "source": [
    "f = open('Homework2.tex', 'w')\n",
    "f.write(\"\"\"\n",
    "\\documentclass{oisinclass}\n",
    "\\\\begin{document}\n",
    "\\\\title{MATH143C: Homework 2}\n",
    "\\\\author{Oisin Coveney}\n",
    "\"\"\")"
   ]
  },
  {
   "cell_type": "code",
   "execution_count": 132,
   "metadata": {},
   "outputs": [
    {
     "name": "stdout",
     "output_type": "stream",
     "text": [
      "\n",
      "\n",
      "\n",
      "\n",
      "\n",
      "\n",
      "\n",
      "\n",
      "\n",
      "\n",
      "\n",
      "\n",
      "\n",
      "\n",
      "\n",
      "\n",
      "\n",
      "\n",
      "\n",
      "\n",
      "\n",
      "\n",
      "\n",
      "\n",
      "\n",
      "\n",
      "\n",
      "\n",
      "\n",
      "\n",
      "\n",
      "\n",
      "\n",
      "\n",
      "\n",
      "\n",
      "\n",
      "\n",
      "\n",
      "\n",
      "\n",
      "\n",
      "\n",
      "\n",
      "\n",
      "\n",
      "\n",
      "\n",
      "\n",
      "\n",
      "\n",
      "\n",
      "\n",
      "\n"
     ]
    }
   ],
   "source": [
    "for k, v in out.items():\n",
    "    f.write(f'\\section*{{Exercise Set {k}}}\\n')\n",
    "    for j in v:\n",
    "        f.write(f'\\subsection*{{{j}}}\\n')\n",
    "        search = re.findall('([a-zA-Z]{1})', j)\n",
    "        if len(search) > 0:\n",
    "            for i in search:\n",
    "                f.write(f'\\subsubsection*{{{i}}}\\n')\n",
    "        print()\n",
    "f.write(\"\"\"\\end{document}\"\"\")\n",
    "f.close()"
   ]
  },
  {
   "cell_type": "code",
   "execution_count": null,
   "metadata": {},
   "outputs": [],
   "source": []
  }
 ],
 "metadata": {
  "kernelspec": {
   "display_name": "Python 3",
   "language": "python",
   "name": "python3"
  },
  "language_info": {
   "codemirror_mode": {
    "name": "ipython",
    "version": 3
   },
   "file_extension": ".py",
   "mimetype": "text/x-python",
   "name": "python",
   "nbconvert_exporter": "python",
   "pygments_lexer": "ipython3",
   "version": "3.7.3"
  },
  "latex_envs": {
   "LaTeX_envs_menu_present": true,
   "autoclose": true,
   "autocomplete": true,
   "bibliofile": "biblio.bib",
   "cite_by": "apalike",
   "current_citInitial": 1,
   "eqLabelWithNumbers": true,
   "eqNumInitial": 1,
   "hotkeys": {
    "equation": "Ctrl-E",
    "itemize": "Ctrl-I"
   },
   "labels_anchors": false,
   "latex_user_defs": false,
   "report_style_numbering": false,
   "user_envs_cfg": false
  }
 },
 "nbformat": 4,
 "nbformat_minor": 2
}
